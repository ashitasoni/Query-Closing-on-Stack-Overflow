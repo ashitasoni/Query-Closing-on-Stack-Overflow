{
 "cells": [
  {
   "cell_type": "code",
   "execution_count": 96,
   "metadata": {},
   "outputs": [],
   "source": [
    "import matplotlib as plt\n",
    "import numpy as np\n",
    "import pandas as pd\n",
    "import math\n",
    "import nltk\n",
    "import re\n",
    "import string"
   ]
  },
  {
   "cell_type": "markdown",
   "metadata": {},
   "source": [
    "### Features for classifiers\n",
    "\n",
    "#### Query Content:  \n",
    "Count of lowercase chars in body  \n",
    "Count of uppercase chars in body  \n",
    "lowercase to uppercase ratio in body  \n",
    "character count in body  \n",
    "word count in body  \n",
    "code length in body  \n",
    "length of first line in body   \n",
    "punctuations count  \n",
    "sentence count in body  \n",
    "count of sentences starting with you  \n",
    "count of sentences starting with i  \n",
    "count of interrogative words  \n",
    "count of URLs in body  \n",
    "smiley count in body  \n",
    "count of short words in body  \n",
    "count of punctuations\n",
    "\n",
    "character count in title  \n",
    "word count in title  \n",
    "title starting with what/which/how (useful for opinion based questions) or use interrogative words check\n",
    "\n",
    "\n",
    "#### User profile\n",
    "Reputation  \n",
    "Creation Date  \n",
    "View count  \n",
    "upvotes received  \n",
    "downvotes received  \n",
    "user Badges  \n",
    "about me filled  \n",
    "website url filled  \n",
    "location filled  \n",
    "profile image url filled  \n",
    "last access date  \n",
    "questions asked by user  \n",
    "answers posted by user  \n",
    "Previous Questions with -ve score  \n",
    "Previous Questions with +ve score  \n",
    "Previous Questions with 0 score  \n",
    "Previous Answers with -ve score  \n",
    "Previous Answers with +ve score  \n",
    "Previous Answers with 0 score  "
   ]
  },
  {
   "cell_type": "code",
   "execution_count": 98,
   "metadata": {},
   "outputs": [],
   "source": [
    "#Resources for text cleaning: \n",
    "#https://machinelearningmastery.com/clean-text-machine-learning-python/\n",
    "#https://github.com/SudalaiRajkumar/NLP/blob/master/src/Text%20Cleaning.ipynb\n",
    "#https://docs.python.org/3/library/re.html\n",
    "\n",
    "#Returns number of lowercase chars in the text\n",
    "def lowercaseCount(text):\n",
    "    lowercount=0\n",
    "    for w in text:\n",
    "        for char in w:\n",
    "            if(char.islower()):\n",
    "                lowercount+=1\n",
    "    return lowercount\n",
    "\n",
    "#Returns number of uppercase chars in the text\n",
    "def uppercaseCount(text):\n",
    "    uppercount=0\n",
    "    for w in text:\n",
    "        for char in w:\n",
    "            if(char.isupper()):\n",
    "                uppercount+=1\n",
    "    return uppercount\n",
    "    \n",
    "#Sentence tokenization\n",
    "from nltk import sent_tokenize\n",
    "#Tokenizes sentences into sentence list\n",
    "def getSentTokens(sentences):\n",
    "    return sent_tokenize(sentences)\n",
    "\n",
    "#Word tokenization\n",
    "from nltk import word_tokenize\n",
    "#Tokenizes sentence 1D list into words 2D list\n",
    "def getWordTokens(sentenceList):\n",
    "    return [word_tokenize(s) for s in sentenceList]\n",
    "\n",
    "#Punctuations removal\n",
    "def removePunctuations(word):\n",
    "    return re.sub(r'\\W+', '', word)\n",
    "\n",
    "#Stop words removal from list of words\n",
    "from nltk.corpus import stopwords\n",
    "eng_stop=set(stopwords.words('english'))\n",
    "#print(eng_stop)\n",
    "def removeStopwords(text):\n",
    "    return [word for word in text if word not in eng_stop]\n",
    "\n",
    "def sentencesStartWithYouCount(tokens):\n",
    "    count=0\n",
    "    for sentence in tokens:\n",
    "        if(sentence[0]==\"you\"):\n",
    "            #print(s)\n",
    "            count=count+1\n",
    "    return count;\n",
    "\n",
    "def sentencesStartWithICount(tokens):\n",
    "    count=0\n",
    "    for sentence in tokens:\n",
    "        if(sentence[0]==\"i\"):\n",
    "            #print(s)\n",
    "            count=count+1\n",
    "    return count;"
   ]
  },
  {
   "cell_type": "code",
   "execution_count": 100,
   "metadata": {},
   "outputs": [
    {
     "name": "stdout",
     "output_type": "stream",
     "text": [
      "Lowercase count:103\n",
      "Uppercase count:7\n",
      "Lowercase chars to Upper chars ratio:14.714285714285714\n",
      "this's is@ 9 short, sentence. amazing! i have tried an approach. i am trying this. i'm trying. you should suggest some, too. you've done this before?\n"
     ]
    }
   ],
   "source": [
    "text = (\"This's is@ 9 short, sentence. Amazing! I have tried an approach. I am trying this. I'm trying. \" \n",
    "       \"You should suggest some, too. You've done this before?\")\n",
    "print(\"Lowercase count:\"+str(lowercaseCount(text)))\n",
    "print(\"Uppercase count:\"+str(uppercaseCount(text)))\n",
    "print(\"Lowercase chars to Upper chars ratio:\"+str( lowercaseCount(text)/uppercaseCount(text) ))\n",
    "text=text.lower()\n",
    "print(text);"
   ]
  },
  {
   "cell_type": "code",
   "execution_count": 85,
   "metadata": {},
   "outputs": [
    {
     "name": "stdout",
     "output_type": "stream",
     "text": [
      "Sentence count:7\n",
      "[\"this's is@ 9 short, sentence.\", 'amazing!', 'i have tried an approach.', 'i am trying this.', \"i'm trying.\", 'you should suggest some, too.', \"you've done this before?\"]\n"
     ]
    }
   ],
   "source": [
    "sentences=getSentTokens(text)\n",
    "print(\"Sentence count:\"+str(len(sentences)))\n",
    "print(sentences)"
   ]
  },
  {
   "cell_type": "code",
   "execution_count": 86,
   "metadata": {},
   "outputs": [
    {
     "name": "stdout",
     "output_type": "stream",
     "text": [
      "['this', \"'s\", 'is', '@', '9', 'short', ',', 'sentence', '.']\n",
      "['amazing', '!']\n",
      "['i', 'have', 'tried', 'an', 'approach', '.']\n",
      "['i', 'am', 'trying', 'this', '.']\n",
      "['i', \"'m\", 'trying', '.']\n",
      "['you', 'should', 'suggest', 'some', ',', 'too', '.']\n",
      "['you', \"'ve\", 'done', 'this', 'before', '?']\n"
     ]
    }
   ],
   "source": [
    "tokens=getWordTokens(sentences)\n",
    "#tokens is 2D list\n",
    "for sentence in tokens:\n",
    "    print(sentence)"
   ]
  },
  {
   "cell_type": "code",
   "execution_count": 87,
   "metadata": {},
   "outputs": [
    {
     "name": "stdout",
     "output_type": "stream",
     "text": [
      "Number of sentences starting with you:2\n",
      "Number of sentences starting with i:3\n"
     ]
    }
   ],
   "source": [
    "print(\"Number of sentences starting with you:\"+str(sentencesStartWithYouCount(tokens)))\n",
    "print(\"Number of sentences starting with i:\"+str(sentencesStartWithICount(tokens)))"
   ]
  },
  {
   "cell_type": "code",
   "execution_count": 88,
   "metadata": {},
   "outputs": [
    {
     "name": "stdout",
     "output_type": "stream",
     "text": [
      "['this', 's', 'is', '9', 'short', 'sentence', 'amazing', 'i', 'have', 'tried', 'an', 'approach', 'i', 'am', 'trying', 'this', 'i', 'm', 'trying', 'you', 'should', 'suggest', 'some', 'too', 'you', 've', 'done', 'this', 'before']\n",
      "29\n"
     ]
    }
   ],
   "source": [
    "tokens=[removePunctuations(w) for s in tokens for w in s]\n",
    "tokens=list( filter(None,tokens) )\n",
    "print(tokens)\n",
    "print(len(tokens))"
   ]
  },
  {
   "cell_type": "code",
   "execution_count": 89,
   "metadata": {},
   "outputs": [
    {
     "name": "stdout",
     "output_type": "stream",
     "text": [
      "['9', 'short', 'sentence', 'amazing', 'tried', 'approach', 'trying', 'trying', 'suggest', 'done']\n",
      "10\n"
     ]
    }
   ],
   "source": [
    "tokens=removeStopwords(tokens)\n",
    "print(tokens)\n",
    "print(len(tokens))"
   ]
  },
  {
   "cell_type": "code",
   "execution_count": 97,
   "metadata": {},
   "outputs": [
    {
     "name": "stdout",
     "output_type": "stream",
     "text": [
      "!\"#$%&'()*+,-./:;<=>?@[\\]^_`{|}~\n"
     ]
    }
   ],
   "source": [
    "print(string.punctuation)"
   ]
  },
  {
   "cell_type": "code",
   "execution_count": null,
   "metadata": {},
   "outputs": [],
   "source": []
  }
 ],
 "metadata": {
  "kernelspec": {
   "display_name": "Python 3",
   "language": "python",
   "name": "python3"
  },
  "language_info": {
   "codemirror_mode": {
    "name": "ipython",
    "version": 3
   },
   "file_extension": ".py",
   "mimetype": "text/x-python",
   "name": "python",
   "nbconvert_exporter": "python",
   "pygments_lexer": "ipython3",
   "version": "3.6.5"
  }
 },
 "nbformat": 4,
 "nbformat_minor": 2
}
