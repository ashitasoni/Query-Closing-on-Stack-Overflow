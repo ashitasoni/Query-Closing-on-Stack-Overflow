{
 "cells": [
  {
   "cell_type": "code",
   "execution_count": 82,
   "metadata": {},
   "outputs": [],
   "source": [
    "import matplotlib as plt\n",
    "import numpy as np\n",
    "import pandas as pd\n",
    "import math\n",
    "import nltk\n",
    "import re"
   ]
  },
  {
   "cell_type": "code",
   "execution_count": 83,
   "metadata": {},
   "outputs": [
    {
     "name": "stdout",
     "output_type": "stream",
     "text": [
      "{\"aren't\", 'they', 'being', 'until', 'she', \"should've\", 'doing', 'this', \"you'll\", 'through', 'each', 'where', 'few', \"couldn't\", 'ma', 'then', 'no', 'y', 'was', 'below', \"hasn't\", 'own', 'don', 'are', 't', 'it', 'such', 'weren', 'by', 'out', 'after', 'who', 'our', 'will', 'am', 'ourselves', 'couldn', 's', \"wouldn't\", 'or', \"that'll\", 'themselves', 'for', 'herself', 'we', 'were', 'during', \"mustn't\", 'as', 'yourself', 'them', 'between', 'doesn', 'those', 'had', 'most', 'ours', 'nor', 'your', 'himself', 'which', 'me', 'too', 'itself', 'be', 'some', 'did', 'these', 'over', 'other', 'been', 'all', 'whom', 'll', 'myself', 'hadn', 'hers', 'ain', \"hadn't\", 'mustn', \"you've\", 'her', \"don't\", 'i', 'than', 'above', \"haven't\", \"didn't\", 'here', \"shouldn't\", 'do', \"it's\", 'you', 'that', 'wasn', 'is', 'while', \"you're\", 'not', 'can', 'theirs', 'just', 'their', \"you'd\", 'he', 'hasn', 'there', 'shouldn', 'yourselves', 'won', 'a', 'needn', 'an', 'because', 'of', 'against', 'into', \"shan't\", 'before', 'what', 'on', 'have', \"doesn't\", 'both', 'm', 'why', 'only', 'same', 'd', 'its', 'him', 'yours', 'any', 'aren', 'if', 'down', 'mightn', \"weren't\", 're', 'with', \"mightn't\", 'under', 'my', 'when', 'very', 'from', 'haven', 'more', 'off', 'has', 'but', 'in', 've', 'up', 'and', 'further', 'now', 'so', \"wasn't\", 'didn', 'how', 'does', \"won't\", 'his', 'at', 'o', 'again', 'shan', 'to', \"isn't\", 'once', \"she's\", 'the', 'about', 'should', \"needn't\", 'wouldn', 'isn', 'having'}\n"
     ]
    }
   ],
   "source": [
    "#Resources for text cleaning: \n",
    "#https://machinelearningmastery.com/clean-text-machine-learning-python/\n",
    "#https://github.com/SudalaiRajkumar/NLP/blob/master/src/Text%20Cleaning.ipynb\n",
    "#https://docs.python.org/3/library/re.html\n",
    "\n",
    "#Sentence tokenization\n",
    "from nltk import sent_tokenize\n",
    "#Tokenizes sentences into sentence list\n",
    "def getSentTokens(sentences):\n",
    "    return sent_tokenize(sentences)\n",
    "\n",
    "#Word tokenization\n",
    "from nltk import word_tokenize\n",
    "#Tokenizes sentence 1D list into words 2D list\n",
    "def getWordTokens(sentenceList):\n",
    "    return [word_tokenize(s) for s in sentenceList]\n",
    "\n",
    "#Punctuations removal\n",
    "def removePunctuations(word):\n",
    "    return re.sub(r'\\W+', '', word)\n",
    "\n",
    "#Stop words removal from list of words\n",
    "from nltk.corpus import stopwords\n",
    "eng_stop=set(stopwords.words('english'))\n",
    "print(eng_stop)\n",
    "def removeStopwords(text):\n",
    "    return [word for word in text if word not in eng_stop]\n",
    "\n",
    "def sentencesStartWithYouCount(tokens):\n",
    "    count=0\n",
    "    for sentence in tokens:\n",
    "        if(sentence[0]==\"you\"):\n",
    "            #print(s)\n",
    "            count=count+1\n",
    "    return count;\n",
    "\n",
    "def sentencesStartWithICount(tokens):\n",
    "    count=0\n",
    "    for sentence in tokens:\n",
    "        if(sentence[0]==\"i\"):\n",
    "            #print(s)\n",
    "            count=count+1\n",
    "    return count;"
   ]
  },
  {
   "cell_type": "code",
   "execution_count": 84,
   "metadata": {},
   "outputs": [
    {
     "name": "stdout",
     "output_type": "stream",
     "text": [
      "this's is@ 9 short, sentence. amazing! i have tried an approach. i am trying this. i'm trying. you should suggest some, too. you've done this before?\n"
     ]
    }
   ],
   "source": [
    "text = (\"This's is@ 9 short, sentence. Amazing! I have tried an approach. I am trying this. I'm trying. \" \n",
    "       \"You should suggest some, too. You've done this before?\")\n",
    "text=text.lower()\n",
    "print(text)"
   ]
  },
  {
   "cell_type": "code",
   "execution_count": 85,
   "metadata": {},
   "outputs": [
    {
     "name": "stdout",
     "output_type": "stream",
     "text": [
      "Sentence count:7\n",
      "[\"this's is@ 9 short, sentence.\", 'amazing!', 'i have tried an approach.', 'i am trying this.', \"i'm trying.\", 'you should suggest some, too.', \"you've done this before?\"]\n"
     ]
    }
   ],
   "source": [
    "sentences=getSentTokens(text)\n",
    "print(\"Sentence count:\"+str(len(sentences)))\n",
    "print(sentences)"
   ]
  },
  {
   "cell_type": "code",
   "execution_count": 86,
   "metadata": {},
   "outputs": [
    {
     "name": "stdout",
     "output_type": "stream",
     "text": [
      "['this', \"'s\", 'is', '@', '9', 'short', ',', 'sentence', '.']\n",
      "['amazing', '!']\n",
      "['i', 'have', 'tried', 'an', 'approach', '.']\n",
      "['i', 'am', 'trying', 'this', '.']\n",
      "['i', \"'m\", 'trying', '.']\n",
      "['you', 'should', 'suggest', 'some', ',', 'too', '.']\n",
      "['you', \"'ve\", 'done', 'this', 'before', '?']\n"
     ]
    }
   ],
   "source": [
    "tokens=getWordTokens(sentences)\n",
    "#tokens is 2D list\n",
    "for sentence in tokens:\n",
    "    print(sentence)"
   ]
  },
  {
   "cell_type": "code",
   "execution_count": 87,
   "metadata": {},
   "outputs": [
    {
     "name": "stdout",
     "output_type": "stream",
     "text": [
      "Number of sentences starting with you:2\n",
      "Number of sentences starting with i:3\n"
     ]
    }
   ],
   "source": [
    "print(\"Number of sentences starting with you:\"+str(sentencesStartWithYouCount(tokens)))\n",
    "print(\"Number of sentences starting with i:\"+str(sentencesStartWithICount(tokens)))"
   ]
  },
  {
   "cell_type": "code",
   "execution_count": 88,
   "metadata": {},
   "outputs": [
    {
     "name": "stdout",
     "output_type": "stream",
     "text": [
      "['this', 's', 'is', '9', 'short', 'sentence', 'amazing', 'i', 'have', 'tried', 'an', 'approach', 'i', 'am', 'trying', 'this', 'i', 'm', 'trying', 'you', 'should', 'suggest', 'some', 'too', 'you', 've', 'done', 'this', 'before']\n",
      "29\n"
     ]
    }
   ],
   "source": [
    "tokens=[removePunctuations(w) for s in tokens for w in s]\n",
    "tokens=list( filter(None,tokens) )\n",
    "print(tokens)\n",
    "print(len(tokens))"
   ]
  },
  {
   "cell_type": "code",
   "execution_count": 89,
   "metadata": {},
   "outputs": [
    {
     "name": "stdout",
     "output_type": "stream",
     "text": [
      "['9', 'short', 'sentence', 'amazing', 'tried', 'approach', 'trying', 'trying', 'suggest', 'done']\n",
      "10\n"
     ]
    }
   ],
   "source": [
    "tokens=removeStopwords(tokens)\n",
    "print(tokens)\n",
    "print(len(tokens))"
   ]
  },
  {
   "cell_type": "code",
   "execution_count": null,
   "metadata": {},
   "outputs": [],
   "source": []
  },
  {
   "cell_type": "code",
   "execution_count": null,
   "metadata": {},
   "outputs": [],
   "source": []
  }
 ],
 "metadata": {
  "kernelspec": {
   "display_name": "Python 3",
   "language": "python",
   "name": "python3"
  },
  "language_info": {
   "codemirror_mode": {
    "name": "ipython",
    "version": 3
   },
   "file_extension": ".py",
   "mimetype": "text/x-python",
   "name": "python",
   "nbconvert_exporter": "python",
   "pygments_lexer": "ipython3",
   "version": "3.6.5"
  }
 },
 "nbformat": 4,
 "nbformat_minor": 2
}
