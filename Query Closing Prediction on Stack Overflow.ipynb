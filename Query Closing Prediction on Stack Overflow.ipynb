{
 "cells": [
  {
   "cell_type": "code",
   "execution_count": 71,
   "metadata": {},
   "outputs": [],
   "source": [
    "import matplotlib as plt\n",
    "import numpy as np\n",
    "import pandas as pd\n",
    "import math\n",
    "import nltk"
   ]
  },
  {
   "cell_type": "code",
   "execution_count": 72,
   "metadata": {},
   "outputs": [
    {
     "name": "stdout",
     "output_type": "stream",
     "text": [
      "{'be', \"needn't\", \"weren't\", \"that'll\", 'so', 'down', 'here', 'she', 'how', 'all', 'that', \"hasn't\", 'as', 'should', \"didn't\", 'who', \"hadn't\", 'out', 've', 'does', 'the', 'if', 'my', \"you've\", 'too', 'through', 'ourselves', 'them', 'some', 'after', 'himself', 'over', 'shouldn', 'needn', 'is', 'it', \"you're\", 'above', 'o', \"aren't\", 'am', 'up', 'just', 'won', 'whom', 'about', \"mustn't\", 'very', 'our', 'weren', 'don', 's', 'both', 'yours', 'these', 'its', \"doesn't\", 'nor', 'mustn', 'once', \"mightn't\", \"wouldn't\", 'he', 'we', \"don't\", 're', 'when', 'to', 'most', 'ours', 'what', 'why', 'there', 'wasn', 'those', 'any', 'yourself', 'myself', 'll', 'further', 'y', 'themselves', 'herself', 'before', 'isn', 'of', 'such', 'his', 'him', \"should've\", 'on', 'have', 'her', 'were', 'doing', \"won't\", 'you', 'no', 'did', 'between', 'from', 'again', 'm', \"couldn't\", 'had', 'hadn', 'then', 'in', 'being', 'they', 'me', \"you'd\", 'by', 'ain', 'shan', 'which', 'was', \"it's\", 'during', 'wouldn', 'itself', 'hasn', 'each', 'has', 'didn', 'because', 'below', 'into', 'hers', 'now', 'off', 'will', 'an', 'theirs', \"shan't\", 'can', 'while', 'other', 'couldn', 'd', 'do', 'or', 'for', 'where', 'against', 'been', 'this', 'but', 'few', 't', 'i', \"she's\", 'their', \"you'll\", 'are', \"shouldn't\", 'same', 'at', 'a', 'having', 'yourselves', 'more', \"wasn't\", 'doesn', 'haven', 'under', \"isn't\", 'until', 'your', 'not', 'and', 'than', 'aren', 'mightn', 'only', 'own', 'ma', 'with', \"haven't\"}\n"
     ]
    }
   ],
   "source": [
    "#Resources for text cleaning: \n",
    "#https://machinelearningmastery.com/clean-text-machine-learning-python/\n",
    "#https://github.com/SudalaiRajkumar/NLP/blob/master/src/Text%20Cleaning.ipynb\n",
    "#https://docs.python.org/3/library/re.html\n",
    "\n",
    "#Sentence tokenization\n",
    "from nltk import sent_tokenize\n",
    "def getSentTokens(sentences):\n",
    "    return sent_tokenize(sentences)\n",
    "\n",
    "#Word tokenization\n",
    "from nltk import word_tokenize\n",
    "def getWordTokens(sentence):\n",
    "    return word_tokenize(sentence)\n",
    "\n",
    "#Punctuations removal\n",
    "def removePunctuations(word):\n",
    "    return re.sub(r'\\W+', '', word)\n",
    "\n",
    "#Stop words removal from list of words\n",
    "from nltk.corpus import stopwords\n",
    "eng_stop=set(stopwords.words('english'))\n",
    "print(eng_stop)\n",
    "def removeStopwords(text):\n",
    "    return [word for word in text if word not in eng_stop]"
   ]
  },
  {
   "cell_type": "code",
   "execution_count": 73,
   "metadata": {},
   "outputs": [],
   "source": [
    "text = \"This's is@ 9 short, sentence. Amazing!\""
   ]
  },
  {
   "cell_type": "code",
   "execution_count": 74,
   "metadata": {},
   "outputs": [
    {
     "name": "stdout",
     "output_type": "stream",
     "text": [
      "This's is@ 9 short, sentence.\n",
      "Amazing!\n"
     ]
    }
   ],
   "source": [
    "sentences=getSentTokens(text)\n",
    "print(sentences[0])\n",
    "print(sentences[1])"
   ]
  },
  {
   "cell_type": "code",
   "execution_count": 75,
   "metadata": {},
   "outputs": [
    {
     "name": "stdout",
     "output_type": "stream",
     "text": [
      "['Amazing', '!']\n",
      "['This', \"'s\", 'is', '@', '9', 'short', ',', 'sentence', '.']\n"
     ]
    }
   ],
   "source": [
    "tokens=getWordTokens(sentences[1])\n",
    "print(tokens)\n",
    "tokens=getWordTokens(sentences[0])\n",
    "print(tokens)"
   ]
  },
  {
   "cell_type": "code",
   "execution_count": 76,
   "metadata": {},
   "outputs": [
    {
     "name": "stdout",
     "output_type": "stream",
     "text": [
      "['this', \"'s\", 'is', '@', '9', 'short', ',', 'sentence', '.']\n"
     ]
    }
   ],
   "source": [
    "#Convert everything into lowercase\n",
    "tokens=[w.lower() for w in tokens]\n",
    "print(tokens)"
   ]
  },
  {
   "cell_type": "code",
   "execution_count": 77,
   "metadata": {},
   "outputs": [
    {
     "name": "stdout",
     "output_type": "stream",
     "text": [
      "['this', 's', 'is', '9', 'short', 'sentence']\n",
      "6\n"
     ]
    }
   ],
   "source": [
    "tokens=[removePunctuations(w) for w in tokens]\n",
    "tokens=list( filter(None,tokens) )\n",
    "print(tokens)\n",
    "print(len(tokens))"
   ]
  },
  {
   "cell_type": "code",
   "execution_count": 78,
   "metadata": {},
   "outputs": [
    {
     "name": "stdout",
     "output_type": "stream",
     "text": [
      "['9', 'short', 'sentence']\n",
      "3\n"
     ]
    }
   ],
   "source": [
    "tokens=removeStopwords(tokens)\n",
    "print(tokens)\n",
    "print(len(tokens))"
   ]
  },
  {
   "cell_type": "code",
   "execution_count": null,
   "metadata": {},
   "outputs": [],
   "source": []
  },
  {
   "cell_type": "code",
   "execution_count": null,
   "metadata": {},
   "outputs": [],
   "source": []
  }
 ],
 "metadata": {
  "kernelspec": {
   "display_name": "Python 3",
   "language": "python",
   "name": "python3"
  },
  "language_info": {
   "codemirror_mode": {
    "name": "ipython",
    "version": 3
   },
   "file_extension": ".py",
   "mimetype": "text/x-python",
   "name": "python",
   "nbconvert_exporter": "python",
   "pygments_lexer": "ipython3",
   "version": "3.6.5"
  }
 },
 "nbformat": 4,
 "nbformat_minor": 2
}
