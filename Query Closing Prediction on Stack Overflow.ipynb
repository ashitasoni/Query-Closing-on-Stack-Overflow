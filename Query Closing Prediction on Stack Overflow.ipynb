{
 "cells": [
  {
   "cell_type": "code",
   "execution_count": 36,
   "metadata": {},
   "outputs": [],
   "source": [
    "import matplotlib as plt\n",
    "import numpy as np\n",
    "import pandas as pd\n",
    "import math\n",
    "import nltk\n",
    "import re\n",
    "import string"
   ]
  },
  {
   "cell_type": "markdown",
   "metadata": {},
   "source": [
    "### Features for classifiers\n",
    "(&)in data (+) calculate\n",
    "\n",
    "#### Query Content:  \n",
    "&Date of creation of post-User account creation date  \n",
    "+Count of lowercase chars in body  \n",
    "+Count of uppercase chars in body  \n",
    "+lowercase to uppercase ratio in body  \n",
    "+character count in body  (removed)  \n",
    "+word count in body  \n",
    "+code length in body  \n",
    "+length of first line in body   \n",
    "+punctuations count  \n",
    "+sentence count in body  \n",
    "+count of sentences starting with you  \n",
    "+count of sentences starting with i  \n",
    "+count of interrogative sentences  \n",
    "+count of URLs in body  \n",
    "+count of stackoverflow URLs in body  \n",
    "+count of short words in body  \n",
    "+count of tags  \n",
    "+tags weight(to be worked upon)  \n",
    "\n",
    "+character count in title  \n",
    "+word count in title     \n",
    "+title starting with what/which/how (useful for opinion based questions) or use interrogative words check\n",
    "\n",
    "\n",
    "#### User profile\n",
    "\n",
    "&Reputation  \n",
    "&View count  \n",
    "&upvotes received  \n",
    "&downvotes received   \n",
    "&about me filled  \n",
    "&website url filled  \n",
    "&location filled  \n",
    "&profile image url filled    \n",
    "questions asked by user  \n",
    "answers posted by user  \n",
    "CloseVotesReceived: The number of close votes received by the user for his posts  \n",
    "Previous Questions with -ve score  \n",
    "Previous Questions with +ve score  \n",
    "Previous Questions with 0 score  \n",
    "Previous Answers with -ve score  \n",
    "Previous Answers with +ve score  \n",
    "Previous Answers with 0 score  "
   ]
  },
  {
   "cell_type": "markdown",
   "metadata": {},
   "source": [
    "##### URL count\n",
    "https://codeblog.jonskeet.uk/2010/08/29/writing-the-perfect-question/\n",
    "Often there will be other people in a similar situation, but the answers didn’t quite match your situation. Just like the above point about unusual constraints, it saves time if you can point out differences between your situation and other common ones. It’s even worth referring to other related questions explicitly – particularly if they’re on the same forum. Aside from anything else, this shows a certain amount of “due diligence” – people are generally more willing to help you if can show you’ve already put some effort in.  \n",
    "\n",
    "Sharing your research helps everyone. Tell us what you found and why it didn’t meet your needs. This demonstrates that you’ve taken the time to try to help yourself, it saves us from reiterating obvious answers, and above all, it helps you get a more specific and relevant answer!"
   ]
  },
  {
   "cell_type": "markdown",
   "metadata": {},
   "source": [
    "##### Title length\n",
    "Write a title that summarizes the specific problem\n",
    "At the same time a “question” title of “Please help” is unlikely to do well"
   ]
  },
  {
   "cell_type": "markdown",
   "metadata": {},
   "source": [
    "#### Count of interrogative words\n",
    "Make sure it’s obvious what you’re trying to get out of the question. Too many “questions” are actually just statements: when I do X, something goes wrong. Well, what did you expect it to do? What are you trying to accomplish? What have you already tried? What happened in those attempts?"
   ]
  },
  {
   "cell_type": "markdown",
   "metadata": {},
   "source": [
    "#### code length\n",
    "Shows effort done on the part of asker.  \n",
    "BUT  \n",
    "Be as short as possible. If I have to wade through hundreds of lines of code to find the problem, I’m doing work that you should be doing\n"
   ]
  },
  {
   "cell_type": "markdown",
   "metadata": {},
   "source": [
    "#### length of first sentence\n",
    "There’s no need to include greetings and sign-offs such as “Hi everyone!” and “Thanks – hope to get an answer soon” in the question. These will often be edited out by other users, as they’re basically a distraction. Greetings at the start of a question are particularly useless as they can take up valuable space in the snippet displayed in the question list."
   ]
  },
  {
   "cell_type": "markdown",
   "metadata": {},
   "source": [
    "##### some closing weight for tags such as homework?"
   ]
  },
  {
   "cell_type": "code",
   "execution_count": 37,
   "metadata": {},
   "outputs": [],
   "source": [
    "#Resources for text cleaning: \n",
    "#https://machinelearningmastery.com/clean-text-machine-learning-python/\n",
    "#https://github.com/SudalaiRajkumar/NLP/blob/master/src/Text%20Cleaning.ipynb\n",
    "#https://docs.python.org/3/library/re.html\n",
    "\n",
    "#Returns number of lowercase chars in the text\n",
    "def lowercaseCount(text):\n",
    "    lowercount=0\n",
    "    for w in text:\n",
    "        for char in w:\n",
    "            \n",
    "            if(char.islower()):\n",
    "                lowercount+=1\n",
    "    return lowercount\n",
    "\n",
    "#Returns number of uppercase chars in the text\n",
    "def uppercaseCount(text):\n",
    "    uppercount=0\n",
    "    for w in text:\n",
    "        for char in w:\n",
    "            if(char.isupper()):\n",
    "                uppercount+=1\n",
    "    return uppercount\n",
    "    \n",
    "#Returns count of total number of words in the query\n",
    "#https://stackoverflow.com/questions/19410018/how-to-count-the-number-of-words-in-a-sentence-ignoring-numbers-punctuation-an\n",
    "def countWords(text):\n",
    "    return len(text.split())\n",
    "\n",
    "#Removes HTML from query data but doesn't remove the content bw opening and closing tag\n",
    "#Attributes are removed eg:<a href=\"this is all removed\">not removed</a>\n",
    "#https://stackoverflow.com/questions/3398852/using-python-remove-html-tags-formatting-from-a-string\n",
    "def striphtml(data):\n",
    "    p = re.compile(r'<.*?>')\n",
    "    return p.sub('', data)\n",
    "    \n",
    "#Sentence tokenization\n",
    "from nltk import sent_tokenize\n",
    "#Tokenizes sentences into sentence list\n",
    "def getSentTokens(sentences):\n",
    "    return sent_tokenize(sentences)\n",
    "\n",
    "#Count of sentences in the post body\n",
    "def getSentenceCount(text):\n",
    "    return len(split_into_sentences(text))\n",
    "\n",
    "def getFirstLineLength(text):\n",
    "    sentences=split_into_sentences(text)\n",
    "    #print(len(sentences))\n",
    "    if(len(sentences)==0):\n",
    "        #print(text)\n",
    "        return 0\n",
    "    firstLine=sentences[0]\n",
    "    return len(firstLine)\n",
    "    \n",
    "def countOfInterrogativeSent(text):\n",
    "    text=text.lower()\n",
    "    #tokens=text.split() #1D list of words \n",
    "    interrogatives=re.findall(r'\\b[a-z]*[^.!][?]',text)\n",
    "    return len(interrogatives)\n",
    "    \n",
    "#Word tokenization\n",
    "from nltk import word_tokenize\n",
    "#Tokenizes sentence 1D list into words 2D list\n",
    "def getWordTokens(sentenceList):\n",
    "    return [word_tokenize(s) for s in sentenceList]\n",
    "\n",
    "#Punctuations removal\n",
    "def removePunctuations(word):\n",
    "    return re.sub(r'\\W+', '', word)\n",
    "\n",
    "#Stop words removal from list of words\n",
    "from nltk.corpus import stopwords\n",
    "eng_stop=set(stopwords.words('english'))\n",
    "#print(eng_stop)\n",
    "def removeStopwords(text):\n",
    "    return [word for word in text if word not in eng_stop]\n",
    "\n",
    "def sentencesStartWithYouCount(text):\n",
    "    count=0\n",
    "    text=text.lower()\n",
    "    text=re.sub('<.*>','',text)\n",
    "    sentences=split_into_sentences(text)\n",
    "    for sentence in sentences:\n",
    "        tokens=re.split('[\\s;\\',.\\-\\%]',sentence)\n",
    "        #print(tokens)\n",
    "        if(tokens[0]==\"you\"):\n",
    "            #print(\"token0=\"+tokens[0])\n",
    "            count+=1\n",
    "    return count;\n",
    "\n",
    "def sentencesStartWithICount(text):\n",
    "    count=0\n",
    "    text=text.lower()\n",
    "    sentences=split_into_sentences(text)\n",
    "    for sentence in sentences:\n",
    "        tokens=re.split('[\\s;\\',.\\-\\%]',sentence)\n",
    "        #print(tokens)\n",
    "        if(tokens[0]==\"i\"):\n",
    "            #print(\"token0=\"+tokens[0])\n",
    "            count+=1\n",
    "    return count;\n",
    "\n",
    "#https://stackoverflow.com/questions/6883049/regex-to-extract-urls-from-href-attribute-in-html-with-python\n",
    "#https://stackoverflow.com/questions/1374457/find-out-how-many-times-a-regex-matches-in-a-string-in-python\n",
    "#Returns count of url in a given post\n",
    "def urlCount(text):\n",
    "    urls=re.findall(r'https://?|ftp://',text)\n",
    "    #print(urls)\n",
    "    return len(urls)\n",
    "\n",
    "#Returns count of URls pointing to Stack Overflow \n",
    "def SOUrlCount(text):\n",
    "    SOUrls=re.findall(r'https://stackoverflow.com',text)\n",
    "    #print(SOUrls)\n",
    "    return len(SOUrls)\n",
    "    \n",
    "#Returns the length of total code present in the post\n",
    "def codeLength(text):\n",
    "    #make sure you don't strip HTML beforehand\n",
    "    codes=re.findall(r\"<code>(.*?)</code>\",text,flags= re.DOTALL)\n",
    "    #print(codes)\n",
    "    return len(''.join(codes))\n",
    "\n",
    "def makeBinary(text):\n",
    "    if(pd.isnull(text)):\n",
    "        return 0\n",
    "    return 1\n",
    "\n",
    "#https://stackoverflow.com/questions/12628958/remove-small-words-using-python\n",
    "def countShortWords(text):\n",
    "    text=striphtml(text)\n",
    "    shortwords = re.findall(r'\\W*\\b\\w{1,3}\\b',text)\n",
    "    #print(shortwords)\n",
    "    return len(shortwords)\n",
    "\n",
    "#Returns the count of tags in the post\n",
    "#https://stackoverflow.com/questions/11301387/python-regex-first-shortest-match\n",
    "def countTags(text):\n",
    "    tagList=re.findall('<.*?>',text)\n",
    "    #print(tagList)\n",
    "    return len(tagList)\n",
    "\n",
    "#Returns count of punctuations in the post body\n",
    "#https://stackoverflow.com/questions/265960/best-way-to-strip-punctuation-from-a-string-in-python\n",
    "def countPunctuations(text):\n",
    "    #remove all code in the post\n",
    "    text=re.sub('<code>.*?</code>','',text)\n",
    "    \n",
    "    text=striphtml(text)  #will also remove all URLs as URL is mentioned in href=\" \" attribute\n",
    "    puncs=re.findall(r'[^\\w\\s]',text)\n",
    "    #print(puncs)\n",
    "    return len(puncs)"
   ]
  },
  {
   "cell_type": "code",
   "execution_count": 38,
   "metadata": {},
   "outputs": [],
   "source": [
    "#Credits: https://stackoverflow.com/questions/4576077/python-split-text-on-sentences\n",
    "\n",
    "alphabets= \"([A-Za-z])\"\n",
    "prefixes = \"(Mr|St|Mrs|Ms|Dr)[.]\"\n",
    "suffixes = \"(Inc|Ltd|Jr|Sr|Co)\"\n",
    "starters = \"(Mr|Mrs|Ms|Dr|He\\s|She\\s|It\\s|They\\s|Their\\s|Our\\s|We\\s|But\\s|However\\s|That\\s|This\\s|Wherever)\"\n",
    "acronyms = \"([A-Z][.][A-Z][.](?:[A-Z][.])?)\"\n",
    "websites = \"[.](com|net|org|io|gov)\"\n",
    "digits = \"([0-9])\" \n",
    "\n",
    "def split_into_sentences(text):\n",
    "    #text=body\n",
    "    text=striphtml(text)\n",
    "    text = \" \" + text + \"  \"\n",
    "    text = text.replace(\"\\n\",\" \")\n",
    "    text = re.sub(prefixes,\"\\\\1<prd>\",text)\n",
    "    text = re.sub(websites,\"<prd>\\\\1\",text)\n",
    "    if \"Ph.D\" in text: text = text.replace(\"Ph.D.\",\"Ph<prd>D<prd>\")\n",
    "    text = re.sub(\"\\s\" + alphabets + \"[.] \",\" \\\\1<prd> \",text)\n",
    "    text = re.sub(acronyms+\" \"+starters,\"\\\\1<stop> \\\\2\",text)\n",
    "    text = re.sub(alphabets + \"[.]\" + alphabets + \"[.]\" + alphabets + \"[.]\",\"\\\\1<prd>\\\\2<prd>\\\\3<prd>\",text)\n",
    "    text = re.sub(alphabets + \"[.]\" + alphabets + \"[.]\",\"\\\\1<prd>\\\\2<prd>\",text)\n",
    "    text = re.sub(\" \"+suffixes+\"[.] \"+starters,\" \\\\1<stop> \\\\2\",text)\n",
    "    text = re.sub(\" \"+suffixes+\"[.]\",\" \\\\1<prd>\",text)\n",
    "    text = re.sub(\" \" + alphabets + \"[.]\",\" \\\\1<prd>\",text)\n",
    "    text = re.sub(digits + \"[.]\" + digits,\"\\\\1<prd>\\\\2\",text)\n",
    "    if \"”\" in text: text = text.replace(\".”\",\"”.\")\n",
    "    if \"\\\"\" in text: text = text.replace(\".\\\"\",\"\\\".\")\n",
    "    if \"!\" in text: text = text.replace(\"!\\\"\",\"\\\"!\")\n",
    "    if \"?\" in text: text = text.replace(\"?\\\"\",\"\\\"?\")\n",
    "    text = text.replace(\".\",\".<stop>\")\n",
    "    text = text.replace(\"?\",\"?<stop>\")\n",
    "    text = text.replace(\"!\",\"!<stop>\")\n",
    "    text = text.replace(\"<prd>\",\".\")\n",
    "    sentences = text.split(\"<stop>\")\n",
    "    sentences = sentences[:-1]\n",
    "    sentences = [s.strip() for s in sentences]\n",
    "    #print(text)\n",
    "    return sentences"
   ]
  },
  {
   "cell_type": "code",
   "execution_count": 6,
   "metadata": {},
   "outputs": [
    {
     "name": "stdout",
     "output_type": "stream",
     "text": [
      "[\"this's is@ 9 short, sentence.\", 'amazing!', 'i have tried an approach.', 'i am trying this.', \"i'm trying.\", 'you should suggest some, too.', \"you've done this before?\"]\n",
      "Lowercase count:110\n",
      "Uppercase count:0\n",
      "this's is@ 9 short, sentence. amazing! i have tried an approach. i am trying this. i'm trying. you should suggest some, too. you've done this before?\n"
     ]
    }
   ],
   "source": [
    "text = (\"This's is@ 9 short, sentence. Amazing! I have tried an approach. I am trying this. I'm trying. \" \n",
    "       \"You should suggest some, too. You've done this before?\")\n",
    "text=text.lower()\n",
    "print(split_into_sentences(text))\n",
    "print(\"Lowercase count:\"+str(lowercaseCount(text)))\n",
    "print(\"Uppercase count:\"+str(uppercaseCount(text)))\n",
    "#print(\"Lowercase chars to Upper chars ratio:\"+str( lowercaseCount(text)/uppercaseCount(text) ))\n",
    "text=text.lower()\n",
    "print(text);"
   ]
  },
  {
   "cell_type": "code",
   "execution_count": 12,
   "metadata": {
    "scrolled": true
   },
   "outputs": [
    {
     "name": "stdout",
     "output_type": "stream",
     "text": [
      "3\n",
      "1\n"
     ]
    }
   ],
   "source": [
    "text2=(\"<p>Are there any free web based service to manage/use your remote computers?</p> \"\n",
    "\"<p>I use <a href=\\\"https://secure.logmein.com/home.asp\\\" rel=\\\"nofollow noreferrer\\\">Logmein</a> free. \"\n",
    "\"It solves the purpose. But wondering any other free services available.</p> \"\n",
    "\"<p>Heard <a href=\\\"https://www.copilot.com/\\\" rel=\\\"nofollow noreferrer\\\">Copilot</a> is great but not free!\"\n",
    "       \"<a href=\\\"https://stackoverflow.com/questions/51884419/how-to-paginate-stack-exchange-data-explorer-sede-results\\\" \"\n",
    "      )\n",
    "print(urlCount(text2))\n",
    "print(SOUrlCount(text2))"
   ]
  },
  {
   "cell_type": "code",
   "execution_count": 13,
   "metadata": {},
   "outputs": [
    {
     "name": "stdout",
     "output_type": "stream",
     "text": [
      "26\n"
     ]
    }
   ],
   "source": [
    "text3=(\"some text <code> something here </code> some text <code>hello\"\n",
    "\"world</code>\")\n",
    "print(codeLength(text3))"
   ]
  },
  {
   "cell_type": "code",
   "execution_count": 14,
   "metadata": {},
   "outputs": [
    {
     "name": "stdout",
     "output_type": "stream",
     "text": [
      "Sentence count:7\n",
      "[\"this's is@ 9 short, sentence.\", 'amazing!', 'i have tried an approach.', 'i am trying this.', \"i'm trying.\", 'you should suggest some, too.', \"you've done this before?\"]\n"
     ]
    }
   ],
   "source": [
    "sentences=getSentTokens(text)\n",
    "print(\"Sentence count:\"+str(len(sentences)))\n",
    "print(sentences)"
   ]
  },
  {
   "cell_type": "code",
   "execution_count": 15,
   "metadata": {},
   "outputs": [
    {
     "name": "stdout",
     "output_type": "stream",
     "text": [
      "['this', \"'s\", 'is', '@', '9', 'short', ',', 'sentence', '.']\n",
      "['amazing', '!']\n",
      "['i', 'have', 'tried', 'an', 'approach', '.']\n",
      "['i', 'am', 'trying', 'this', '.']\n",
      "['i', \"'m\", 'trying', '.']\n",
      "['you', 'should', 'suggest', 'some', ',', 'too', '.']\n",
      "['you', \"'ve\", 'done', 'this', 'before', '?']\n"
     ]
    }
   ],
   "source": [
    "tokens=getWordTokens(sentences)\n",
    "#tokens is 2D list\n",
    "for sentence in tokens:\n",
    "    print(sentence)"
   ]
  },
  {
   "cell_type": "code",
   "execution_count": 24,
   "metadata": {},
   "outputs": [
    {
     "name": "stdout",
     "output_type": "stream",
     "text": [
      "this's is@ 9 short, sentence. amazing! i have tried an approach. i am trying this. i'm trying. you should suggest some, too. you've done this before?\n",
      "Number of sentences starting with you:2\n",
      "Number of sentences starting with i:3\n"
     ]
    }
   ],
   "source": [
    "print(text)\n",
    "print(\"Number of sentences starting with you:\"+str(sentencesStartWithYouCount(text)) )\n",
    "print(\"Number of sentences starting with i:\"+str(sentencesStartWithICount(text)) ) "
   ]
  },
  {
   "cell_type": "code",
   "execution_count": 15,
   "metadata": {},
   "outputs": [
    {
     "name": "stdout",
     "output_type": "stream",
     "text": [
      "['this', 's', 'is', '9', 'short', 'sentence', 'amazing', 'i', 'have', 'tried', 'an', 'approach', 'i', 'am', 'trying', 'this', 'i', 'm', 'trying', 'you', 'should', 'suggest', 'some', 'too', 'you', 've', 'done', 'this', 'before']\n",
      "29\n"
     ]
    }
   ],
   "source": [
    "tokens=[removePunctuations(w) for s in tokens for w in s]\n",
    "tokens=list( filter(None,tokens) )\n",
    "print(tokens)\n",
    "print(len(tokens))"
   ]
  },
  {
   "cell_type": "code",
   "execution_count": 16,
   "metadata": {},
   "outputs": [
    {
     "name": "stdout",
     "output_type": "stream",
     "text": [
      "['9', 'short', 'sentence', 'amazing', 'tried', 'approach', 'trying', 'trying', 'suggest', 'done']\n",
      "10\n"
     ]
    }
   ],
   "source": [
    "tokens=removeStopwords(tokens)\n",
    "print(tokens)\n",
    "print(len(tokens))"
   ]
  },
  {
   "cell_type": "code",
   "execution_count": 17,
   "metadata": {},
   "outputs": [
    {
     "name": "stdout",
     "output_type": "stream",
     "text": [
      "!\"#$%&'()*+,-./:;<=>?@[\\]^_`{|}~\n"
     ]
    }
   ],
   "source": [
    "print(string.punctuation)"
   ]
  },
  {
   "cell_type": "markdown",
   "metadata": {},
   "source": [
    "If HistoryClosedDate is not null and ClosedDate is null\n",
    "then the post might be protected\n",
    "PostId=151969"
   ]
  },
  {
   "cell_type": "markdown",
   "metadata": {},
   "source": [
    "Multiple rows for same PostId=101754 in Off topic closed question database"
   ]
  },
  {
   "cell_type": "code",
   "execution_count": 25,
   "metadata": {},
   "outputs": [
    {
     "name": "stdout",
     "output_type": "stream",
     "text": [
      "   PostId      Id  UserId  OwnerUserId    HistoryClosedDate  \\\n",
      "0  106963  106963       4            4  2018-03-21 07:42:02   \n",
      "1   33242   33242       5            5  2017-08-12 17:30:34   \n",
      "2   53802   53802      20           20  2014-02-19 14:01:15   \n",
      "3      72      72      25           25  2017-04-20 07:24:44   \n",
      "4   15731   15731      26           26  2015-03-16 01:49:34   \n",
      "\n",
      "            ClosedDate  PostHistoryTypeId  Comment  PostTypeId  \\\n",
      "0  2018-03-21 07:42:02                 10      102           1   \n",
      "1  2017-08-12 17:30:34                 10      102           1   \n",
      "2  2014-02-19 14:01:15                 10      102           1   \n",
      "3  2017-04-20 07:24:44                 10      102           1   \n",
      "4  2015-03-16 01:49:34                 10      102           1   \n",
      "\n",
      "                                                Body  \\\n",
      "0  <p>I'm building the world's simplest library a...   \n",
      "1  <p>Is there method (other than trial and error...   \n",
      "2  <p>I'm currently working on a JavaScript tool ...   \n",
      "3  <p>I want to format my existing comments as 'R...   \n",
      "4  <p>I am looking for either a FireFox extension...   \n",
      "\n",
      "                         ...                             PostCreationDate  \\\n",
      "0                        ...                          2008-09-20 03:28:34   \n",
      "1                        ...                          2008-08-28 19:54:02   \n",
      "2                        ...                          2008-09-10 11:33:53   \n",
      "3                        ...                          2008-08-01 13:38:27   \n",
      "4                        ...                          2008-08-19 04:59:03   \n",
      "\n",
      "      UserCreationDate  experienceInTime  \\\n",
      "0  2008-07-31 14:22:31                51   \n",
      "1  2008-07-31 14:22:31                28   \n",
      "2  2008-08-01 12:09:11                40   \n",
      "3  2008-08-01 12:15:23                 0   \n",
      "4  2008-08-01 12:18:14                18   \n",
      "\n",
      "                             WebsiteUrl                           Location  \\\n",
      "0        http://www.joelonsoftware.com/                       New York, NY   \n",
      "1     http://weblogs.asp.net/jgalloway/                      San Diego, CA   \n",
      "2                http://tommcfarlin.com                        Atlanta, GA   \n",
      "3  http://www.codingwithoutcomments.com  Seattle, Washington United States   \n",
      "4                                   NaN                  San Francisco, CA   \n",
      "\n",
      "                                             AboutMe  Views Upvotes Downvotes  \\\n",
      "0  <p>I am:</p>\\n\\n<ul>\\n<li>the co-founder and C...  74674     799        96   \n",
      "1  <p>Technical Evangelist at Microsoft, speciali...  11989     782        34   \n",
      "2                                                NaN   1686     370        38   \n",
      "3            <p>a man, a plan, a canal, panama</p>\\n   3925     539        83   \n",
      "4  <p>a long time ago i found an xss vuln here an...   3426     565        67   \n",
      "\n",
      "                                     ProfileImageUrl  \n",
      "0      https://i.stack.imgur.com/C5gBG.jpg?s=128&g=1  \n",
      "1                                                NaN  \n",
      "2                                                NaN  \n",
      "3                                                NaN  \n",
      "4  https://www.gravatar.com/avatar/?s=128&d=ident...  \n",
      "\n",
      "[5 rows x 23 columns]\n"
     ]
    }
   ],
   "source": [
    "data=pd.read_csv(\"OffTopic1.csv\")\n",
    "print(data.head())"
   ]
  },
  {
   "cell_type": "code",
   "execution_count": 43,
   "metadata": {},
   "outputs": [
    {
     "name": "stdout",
     "output_type": "stream",
     "text": [
      "   PostId      Id  UserId  OwnerUserId    HistoryClosedDate  \\\n",
      "0  106963  106963       4            4  2018-03-21 07:42:02   \n",
      "1   33242   33242       5            5  2017-08-12 17:30:34   \n",
      "2   53802   53802      20           20  2014-02-19 14:01:15   \n",
      "3      72      72      25           25  2017-04-20 07:24:44   \n",
      "4   15731   15731      26           26  2015-03-16 01:49:34   \n",
      "\n",
      "            ClosedDate  PostHistoryTypeId  Comment  PostTypeId  \\\n",
      "0  2018-03-21 07:42:02                 10      102           1   \n",
      "1  2017-08-12 17:30:34                 10      102           1   \n",
      "2  2014-02-19 14:01:15                 10      102           1   \n",
      "3  2017-04-20 07:24:44                 10      102           1   \n",
      "4  2015-03-16 01:49:34                 10      102           1   \n",
      "\n",
      "                                                Body       ...        \\\n",
      "0  <p>I'm building the world's simplest library a...       ...         \n",
      "1  <p>Is there method (other than trial and error...       ...         \n",
      "2  <p>I'm currently working on a JavaScript tool ...       ...         \n",
      "3  <p>I want to format my existing comments as 'R...       ...         \n",
      "4  <p>I am looking for either a FireFox extension...       ...         \n",
      "\n",
      "  SOUrlCount titleLength  countOfInterrogativeSent sentencesStartWithYouCount  \\\n",
      "0          0          59                         0                          0   \n",
      "1          0          57                         2                          0   \n",
      "2          0          49                         1                          0   \n",
      "3          0          47                         1                          0   \n",
      "4          0          67                         0                          0   \n",
      "\n",
      "  sentencesStartWithICount  websiteUrlFilled locationFilled aboutMeFilled  \\\n",
      "0                        1                 1              1             1   \n",
      "1                        0                 1              1             1   \n",
      "2                        1                 1              1             0   \n",
      "3                        1                 1              1             1   \n",
      "4                        1                 0              1             1   \n",
      "\n",
      "  profileImageUrlFilled  shortWordCount  \n",
      "0                     1             101  \n",
      "1                     0              28  \n",
      "2                     0             104  \n",
      "3                     0              11  \n",
      "4                     1              53  \n",
      "\n",
      "[5 rows x 38 columns]\n"
     ]
    }
   ],
   "source": [
    "#Adding necessary feature columns\n",
    "#https://stackoverflow.com/questions/40045632/adding-a-column-in-pandas-df-using-a-function\n",
    "\n",
    "data['lowerUpperRatio']=data['Body'].apply(lowercaseCount)/data['Body'].apply(uppercaseCount)\n",
    "data['sentenceCount']=data['Body'].apply(getSentenceCount)\n",
    "data['firstLineLength']=data['Body'].apply(getFirstLineLength)\n",
    "data['codeLength']=data['Body'].apply(codeLength)\n",
    "data['urlCount']=data['Body'].apply(urlCount)\n",
    "data['SOUrlCount']=data['Body'].apply(SOUrlCount)\n",
    "data['titleLengthInChars']=data['Title'].apply(len)\n",
    "data['countOfInterrogativeSent']=data['Body'].apply(countOfInterrogativeSent)\n",
    "data['sentencesStartWithYouCount']=data['Body'].apply(sentencesStartWithYouCount)\n",
    "data['sentencesStartWithICount']=data['Body'].apply(sentencesStartWithICount)\n",
    "data['shortWordCount']=data['Body'].apply(countShortWords)\n",
    "data['bodyWordCount']=data['Body'].apply(countWords)\n",
    "data['tagCount']=data['Tags'].apply(countTags)\n",
    "data['punctuationCount']=data['Body'].apply(countPunctuations)\n",
    "\n",
    "data['websiteUrlFilled']=data['WebsiteUrl'].apply(makeBinary)\n",
    "data['locationFilled']=data['Location'].apply(makeBinary)\n",
    "data['aboutMeFilled']=data['AboutMe'].apply(makeBinary)\n",
    "data['profileImageUrlFilled']=data['ProfileImageUrl'].apply(makeBinary)\n",
    "\n",
    "print(data.head())"
   ]
  },
  {
   "cell_type": "code",
   "execution_count": 27,
   "metadata": {},
   "outputs": [
    {
     "data": {
      "text/plain": [
       "Index(['PostId', 'Id', 'UserId', 'OwnerUserId', 'HistoryClosedDate',\n",
       "       'ClosedDate', 'PostHistoryTypeId', 'Comment', 'PostTypeId', 'Body',\n",
       "       'Title', 'Tags', 'Reputation', 'PostCreationDate', 'UserCreationDate',\n",
       "       'experienceInTime', 'WebsiteUrl', 'Location', 'AboutMe', 'Views',\n",
       "       'Upvotes', 'Downvotes', 'ProfileImageUrl', 'lowerUpperRatio',\n",
       "       'sentenceCount', 'firstLineLength', 'codeLength', 'urlCount',\n",
       "       'SOUrlCount', 'titleLength', 'countOfInterrogativeSent',\n",
       "       'sentencesStartWithYouCount', 'sentencesStartWithICount',\n",
       "       'websiteUrlFilled', 'locationFilled', 'aboutMeFilled',\n",
       "       'profileImageUrlFilled'],\n",
       "      dtype='object')"
      ]
     },
     "execution_count": 27,
     "metadata": {},
     "output_type": "execute_result"
    }
   ],
   "source": [
    "data.columns"
   ]
  },
  {
   "cell_type": "code",
   "execution_count": 40,
   "metadata": {},
   "outputs": [
    {
     "name": "stdout",
     "output_type": "stream",
     "text": [
      "<p>I'm currently working on a JavaScript tool that, during the course of its execution, will ultimately traverse each node in the DOM. Because this has potential to be a very expensive task, I'd like to benchmark the performance of this script.</p>\n",
      "\n",
      "<p>What's the best, free tool for benchmarking a script such as this across the major browsers? Ideally, I'd like the tool (or set of tools, even):</p>\n",
      "\n",
      "<ul>\n",
      "<li>\n",
      "**To generate some form of report based on the results of the test.** It can be as simple as a table showing execution times, or as complex as generating some form of a chart. Either way is fine.\n",
      "</li>\n",
      "<li>\n",
      "**To be free.** it's not that I don't believe in paying for software, it's just that I don't have a major need for a tool like this in my typical day-to-day tasks.\n",
      "</li>\n",
      "</ul>\n",
      "\n",
      "<p>If possible, I'd also like the tool to generate varying levels of complex pages so that I can stress test a set of DOMs. This isn't a necessity - if I need to do so, I can write one myself; however, I'd figure I'd poll the community first to see if something already exists.</p>\n",
      "\n",
      "I'm currently working on a JavaScript tool that, during the course of its execution, will ultimately traverse each node in the DOM. Because this has potential to be a very expensive task, I'd like to benchmark the performance of this script.\n",
      "\n",
      "What's the best, free tool for benchmarking a script such as this across the major browsers? Ideally, I'd like the tool (or set of tools, even):\n",
      "\n",
      "\n",
      "\n",
      "**To generate some form of report based on the results of the test.** It can be as simple as a table showing execution times, or as complex as generating some form of a chart. Either way is fine.\n",
      "\n",
      "\n",
      "**To be free.** it's not that I don't believe in paying for software, it's just that I don't have a major need for a tool like this in my typical day-to-day tasks.\n",
      "\n",
      "\n",
      "\n",
      "If possible, I'd also like the tool to generate varying levels of complex pages so that I can stress test a set of DOMs. This isn't a necessity - if I need to do so, I can write one myself; however, I'd figure I'd poll the community first to see if something already exists.\n",
      "\n",
      "['I', \"'m\", ' on', ' a', ' the', ' of', ' its', ' in', ' the', ' DOM', ' has', ' to', ' be', ' a', ', I', \"'d\", ' to', ' the', ' of', \"'s\", ' the', ' for', ' a', ' as', ' the', ', I', \"'d\", ' the', ' (or', ' set', ' of', '):\\n\\n\\n\\n**To', ' of', ' on', ' the', ' of', ' the', '.** It', ' can', ' be', ' as', ' as', ' a', ', or', ' as', ' as', ' of', ' a', ' way', ' is', '.\\n\\n\\n**To', ' be', '.** it', \"'s\", ' not', ' I', ' don', \"'t\", ' in', ' for', ', it', \"'s\", ' I', ' don', \"'t\", ' a', ' for', ' a', ' in', ' my', ' day', '-to', '-day', '.\\n\\n\\n\\nIf', ', I', \"'d\", ' the', ' to', ' of', ' so', ' I', ' can', ' a', ' set', ' of', ' isn', \"'t\", ' a', ' - if', ' I', ' to', ' do', ' so', ', I', ' can', ' one', ', I', \"'d\", ' I', \"'d\", ' the', ' to', ' see', ' if']\n",
      "104\n",
      "[\"I'm currently working on a JavaScript tool that, during the course of its execution, will ultimately traverse each node in the DOM.\", \"Because this has potential to be a very expensive task, I'd like to benchmark the performance of this script.\", \"What's the best, free tool for benchmarking a script such as this across the major browsers?\", \"Ideally, I'd like the tool (or set of tools, even):    **To generate some form of report based on the results of the test.\", '** It can be as simple as a table showing execution times, or as complex as generating some form of a chart.', 'Either way is fine.', '**To be free.', \"** it's not that I don't believe in paying for software, it's just that I don't have a major need for a tool like this in my typical day-to-day tasks.\", \"If possible, I'd also like the tool to generate varying levels of complex pages so that I can stress test a set of DOMs. This isn't a necessity - if I need to do so, I can write one myself; however, I'd figure I'd poll the community first to see if something already exists.\"]\n"
     ]
    }
   ],
   "source": [
    "removeTags=data.iloc[2].Body\n",
    "print(data.iloc[2].Body)\n",
    "removeTags=striphtml(removeTags)\n",
    "print(removeTags)\n",
    "print(countShortWords(removeTags))\n",
    "print(split_into_sentences(removeTags))"
   ]
  },
  {
   "cell_type": "code",
   "execution_count": 22,
   "metadata": {},
   "outputs": [
    {
     "name": "stdout",
     "output_type": "stream",
     "text": [
      "I am Ph.D and A.B.c.de. He said, \"Hello!\"\n",
      "I am Ph.D and A<prd>B<prd>c<prd>de. He said, \"Hello!\"\n",
      "I am Ph.D and A<prd>B<prd>c<prd>de. He said, \"Hello!\"\n",
      "I am Ph.D and A<prd>B<prd>c<prd>de. He said, \"Hello\"!\n",
      "I am Ph.<stop>D and A.B.c.de.<stop> He said, \"Hello\"!<stop>\n",
      "['I am Ph.', 'D and A.B.c.de.', ' He said, \"Hello\"!', '']\n"
     ]
    }
   ],
   "source": [
    "text5=\"I am Ph.D and A.B.c.de. He said, \\\"Hello!\\\"\"\n",
    "print((text5))\n",
    "text5 = re.sub(alphabets + \"[.]\" + alphabets + \"[.]\" + alphabets + \"[.]\",\"\\\\1<prd>\\\\2<prd>\\\\3<prd>\",text5)\n",
    "if \"Ph.D\" in text5: text5 = text5.replace(\"Ph.D.\",\"Ph<prd>D<prd>\")\n",
    "print((text5))\n",
    "if \"”\" in text5: text5 = text5.replace(\".”\",\"”.\")\n",
    "print((text5))\n",
    "if \"\\\"\" in text5: text5 = text5.replace(\".\\\"\",\"\\\".\")\n",
    "if \"!\" in text5: text5 = text5.replace(\"!\\\"\",\"\\\"!\")\n",
    "print((text5))\n",
    "if \"?\" in text5: text5 = text5.replace(\"?\\\"\",\"\\\"?\")\n",
    "text5 = text5.replace(\".\",\".<stop>\")\n",
    "text5 = text5.replace(\"?\",\"?<stop>\")\n",
    "text5 = text5.replace(\"!\",\"!<stop>\")\n",
    "text5 = text5.replace(\"<prd>\",\".\")\n",
    "print(text5)\n",
    "sentences = text5.split(\"<stop>\")\n",
    "print(sentences)"
   ]
  },
  {
   "cell_type": "code",
   "execution_count": 23,
   "metadata": {},
   "outputs": [
    {
     "name": "stdout",
     "output_type": "stream",
     "text": [
      "Hello everyone! \n",
      "I want to ask a question.\n",
      "15\n",
      "Hello everyone! \n",
      "I want to ask a question.\n"
     ]
    }
   ],
   "source": [
    "text6=(\"Hello everyone! \\n\"\n",
    "\"I want to ask a question.\")\n",
    "print(text6)\n",
    "print(getFirstLineLength(text6))\n",
    "print(text6)"
   ]
  },
  {
   "cell_type": "code",
   "execution_count": 24,
   "metadata": {},
   "outputs": [
    {
     "data": {
      "text/plain": [
       "['!', '@']"
      ]
     },
     "execution_count": 24,
     "metadata": {},
     "output_type": "execute_result"
    }
   ],
   "source": [
    "re.findall(r'[!\"#$%&\\'()*+,-./:;<=>?@[\\]^_`{|}~]',\"hello! he\\ @\")"
   ]
  },
  {
   "cell_type": "code",
   "execution_count": 51,
   "metadata": {},
   "outputs": [
    {
     "name": "stdout",
     "output_type": "stream",
     "text": [
      "['<javascript>', '<dom>']\n",
      "2\n"
     ]
    }
   ],
   "source": [
    "print(countTags(data.iloc[2].Tags))"
   ]
  },
  {
   "cell_type": "code",
   "execution_count": 78,
   "metadata": {},
   "outputs": [
    {
     "name": "stdout",
     "output_type": "stream",
     "text": [
      "<p>Is it possible to configure <a href=\"http://www.apachefriends.org/en/xampp.html\" rel=\"noreferrer\">xampp</a> to serve up a file outside of the <code>htdocs</code> directory?</p>\n",
      "\n",
      "<p>For instance, say I have a file located as follows:</p>\n",
      "\n",
      "<p><code>C:\\projects\\transitCalculator\\trunk\\TransitCalculator.php</code></p>\n",
      "\n",
      "<p>and my <a href=\"http://www.apachefriends.org/en/xampp.html\" rel=\"noreferrer\">xampp</a> files are normally served out from:</p>\n",
      "\n",
      "<p><code>C:\\xampp\\htdocs\\</code></p>\n",
      "\n",
      "<p>(because that's the default configuration) Is there some way to make Apache recognize and serve up my <code>TransitCalculator.php</code> file without moving it under <code>htdocs</code>? Preferably I'd like Apache to serve up/have access to the entire contents of the projects directory, and I don't want to move the projects directory under <code>htdocs</code>.</p>\n",
      "\n",
      "<p>edit: edited to add Apache to the question title to make Q/A more \"searchable\"</p>\n",
      "\n",
      "['?', ',', ':', ':', '(', \"'\", ')', '?', \"'\", '/', ',', \"'\", '.', ':', '/', '\"', '\"']\n",
      "17\n"
     ]
    }
   ],
   "source": [
    "punc=data.iloc[11].Body\n",
    "print(punc)\n",
    "print( countPunctuations(punc) )"
   ]
  },
  {
   "cell_type": "code",
   "execution_count": 16,
   "metadata": {},
   "outputs": [
    {
     "name": "stderr",
     "output_type": "stream",
     "text": [
      "C:\\Users\\Lenovo\\Anaconda3\\lib\\site-packages\\IPython\\core\\interactiveshell.py:2785: DtypeWarning: Columns (0,1,3,7) have mixed types. Specify dtype option on import or set low_memory=False.\n",
      "  interactivity=interactivity, compiler=compiler, result=result)\n",
      "C:\\Users\\Lenovo\\Anaconda3\\lib\\site-packages\\IPython\\core\\interactiveshell.py:2785: DtypeWarning: Columns (1,3) have mixed types. Specify dtype option on import or set low_memory=False.\n",
      "  interactivity=interactivity, compiler=compiler, result=result)\n"
     ]
    },
    {
     "name": "stdout",
     "output_type": "stream",
     "text": [
      "   PostId UserId        ClosedDate Comment  \\\n",
      "0  106963      4   21/03/2018 7:42     102   \n",
      "1   33242      5  12/08/2017 17:30     102   \n",
      "2   53802     20  19/02/2014 14:01     102   \n",
      "3      72     25   20/04/2017 7:24     102   \n",
      "4   15731     26   16/03/2015 1:49     102   \n",
      "\n",
      "                                                Body  \\\n",
      "0  <p>I'm building the world's simplest library a...   \n",
      "1  <p>Is there method (other than trial and error...   \n",
      "2  <p>I'm currently working on a JavaScript tool ...   \n",
      "3  <p>I want to format my existing comments as 'R...   \n",
      "4  <p>I am looking for either a FireFox extension...   \n",
      "\n",
      "                                               Title  \\\n",
      "0  How can I lookup data about a book from its ba...   \n",
      "1  How can I find unused images and CSS styles in...   \n",
      "2  What is the best tool to benchmark my JavaScript?   \n",
      "3    How do I add existing comments to RDoc in Ruby?   \n",
      "4  Looking for a specific FireFox extension / pro...   \n",
      "\n",
      "                                        Tags Reputation  experienceInTime  \\\n",
      "0  <api><language-agnostic><amazon><barcode>      29023              51.0   \n",
      "1                                <html><css>      39678              28.0   \n",
      "2                          <javascript><dom>       8705              40.0   \n",
      "3                               <ruby><rdoc>      17356               0.0   \n",
      "4                         <javascript><html>      11546              18.0   \n",
      "\n",
      "                             WebsiteUrl                           Location  \\\n",
      "0        http://www.joelonsoftware.com/                       New York, NY   \n",
      "1     http://weblogs.asp.net/jgalloway/                      San Diego, CA   \n",
      "2                http://tommcfarlin.com                        Atlanta, GA   \n",
      "3  http://www.codingwithoutcomments.com  Seattle, Washington United States   \n",
      "4                                   NaN                  San Francisco, CA   \n",
      "\n",
      "                                             AboutMe    Views  Upvotes  \\\n",
      "0  <p>I am:</p>\\n\\n<ul>\\n<li>the co-founder and C...  74674.0    799.0   \n",
      "1  <p>Technical Evangelist at Microsoft, speciali...  11989.0    782.0   \n",
      "2                                                NaN   1686.0    370.0   \n",
      "3            <p>a man, a plan, a canal, panama</p>\\n   3925.0    539.0   \n",
      "4  <p>a long time ago i found an xss vuln here an...   3426.0    565.0   \n",
      "\n",
      "   Downvotes                                    ProfileImageUrl  \n",
      "0       96.0      https://i.stack.imgur.com/C5gBG.jpg?s=128&g=1  \n",
      "1       34.0                                                NaN  \n",
      "2       38.0                                                NaN  \n",
      "3       83.0                                                NaN  \n",
      "4       67.0  https://www.gravatar.com/avatar/?s=128&d=ident...  \n"
     ]
    }
   ],
   "source": [
    "#READING CSV Files\n",
    "offTopic=pd.read_csv(\"102_OffTopic.csv\")\n",
    "unclear=pd.read_csv(\"103_Unclear.csv\")\n",
    "tooBroad=pd.read_csv(\"104_TooBroad.csv\")\n",
    "opinionBased=pd.read_csv(\"105_OpinionBased.csv\")\n",
    "openQues=pd.read_csv(\"open.csv\")\n",
    "#https://stackoverflow.com/questions/24251219/pandas-read-csv-low-memory-and-dtype-options\n",
    "print(offTopic.head())"
   ]
  },
  {
   "cell_type": "code",
   "execution_count": 17,
   "metadata": {},
   "outputs": [
    {
     "name": "stdout",
     "output_type": "stream",
     "text": [
      "offTopic before sampling: (125000, 16)\n",
      "unclear before sampling: (53821, 16)\n",
      "tooBroad before sampling: (53374, 16)\n",
      "opinionBased before sampling: (22808, 16)\n",
      "open questions data before sampling: (112860, 14)\n"
     ]
    }
   ],
   "source": [
    "print(\"offTopic before sampling: \"+str(offTopic.shape))\n",
    "print(\"unclear before sampling: \"+str(unclear.shape))\n",
    "print(\"tooBroad before sampling: \"+str(tooBroad.shape))\n",
    "print(\"opinionBased before sampling: \"+str(opinionBased.shape))\n",
    "print(\"open questions data before sampling: \"+str(openQues.shape))"
   ]
  },
  {
   "cell_type": "code",
   "execution_count": 26,
   "metadata": {},
   "outputs": [
    {
     "name": "stdout",
     "output_type": "stream",
     "text": [
      "          PostId   UserId        ClosedDate Comment  \\\n",
      "66738   20840821  3027111  28/02/2014 16:13     102   \n",
      "31519   21555359  1283970  04/02/2014 17:49     102   \n",
      "66442   20146719  3017165  22/11/2013 14:30     102   \n",
      "80108   24353036  3707159  22/06/2014 19:08     102   \n",
      "111028  40055974  7022450   15/10/2016 7:21     102   \n",
      "\n",
      "                                                     Body  \\\n",
      "66738   <p>I want to make queries for mySQL DB from no...   \n",
      "31519   <p>I am looking for a radio select carousel. I...   \n",
      "66442   <p>I need to copy a row from my table1 to my t...   \n",
      "80108   <p>I want to create an iOS app that can show t...   \n",
      "111028  <p>Im a novice programmer. There's a recurring...   \n",
      "\n",
      "                                               Title  \\\n",
      "66738                 working with node.js and mySQL   \n",
      "31519            Looking for a jquery radio carousel   \n",
      "66442               Copy row from table 1 to table 2   \n",
      "80108   How can I get data from a website to ios app   \n",
      "111028         wrong output in c for simple programs   \n",
      "\n",
      "                               Tags Reputation  experienceInTime  \\\n",
      "66738   <mysql><node.js><socket.io>       5414              36.0   \n",
      "31519          <javascript><jquery>       1255             685.0   \n",
      "66442   <php><mysql><sql><database>        148               1.0   \n",
      "80108           <ios><web><request>         25              18.0   \n",
      "111028                          <c>          4               0.0   \n",
      "\n",
      "                          WebsiteUrl                                Location  \\\n",
      "66738                            NaN                                     NaN   \n",
      "31519                            NaN                                     NaN   \n",
      "66442   http://www.reprograma.com.br  São Paulo - State of São Paulo, Brazil   \n",
      "80108                            NaN                                     NaN   \n",
      "111028                           NaN                                     NaN   \n",
      "\n",
      "       AboutMe  Views  Upvotes  Downvotes  \\\n",
      "66738      NaN  223.0    533.0        3.0   \n",
      "31519      NaN  289.0     68.0        3.0   \n",
      "66442      NaN   89.0     16.0        0.0   \n",
      "80108      NaN    3.0      8.0        0.0   \n",
      "111028     NaN    0.0      0.0        0.0   \n",
      "\n",
      "                                          ProfileImageUrl  \n",
      "66738       https://i.stack.imgur.com/ngpIj.jpg?s=128&g=1  \n",
      "31519       https://i.stack.imgur.com/Te31K.jpg?s=128&g=1  \n",
      "66442                 https://i.stack.imgur.com/cnfiS.jpg  \n",
      "80108   https://www.gravatar.com/avatar/?s=128&d=ident...  \n",
      "111028  https://www.gravatar.com/avatar/44e96b4ee3197c...  \n"
     ]
    }
   ],
   "source": [
    "#Sampling 20k rows from each close reason type\n",
    "#https://stackoverflow.com/questions/15923826/random-row-selection-in-pandas-dataframe\n",
    "\n",
    "#Every run will generate new random samples\n",
    "offTopicSample=offTopic.sample(n=100)  #n=20k \n",
    "unclearSample=unclear.sample(n=100)  #n=20k \n",
    "tooBroadSample=tooBroad.sample(n=100)  #n=20k \n",
    "opinionBasedSample=opinionBased.sample(n=100)  #n=20k \n",
    "openQuesSample=openQues.sample(n=400) #n=80k (sum total of all closed questions)\n",
    "\n",
    "print(offTopicSample.head())\n",
    "#print( unclearSample.head() )\n",
    "#print( tooBroadSample.head() )\n",
    "#print( opinionBasedSample.head() )\n",
    "#print( openQuesSample.head() )"
   ]
  },
  {
   "cell_type": "markdown",
   "metadata": {},
   "source": [
    "### CLASSIFIER FOR OPEN/CLOSED QUESTIONS"
   ]
  },
  {
   "cell_type": "code",
   "execution_count": 27,
   "metadata": {},
   "outputs": [
    {
     "name": "stdout",
     "output_type": "stream",
     "text": [
      "offTopicSample before cleaning: (100, 16)\n",
      "unclearSample before cleaning: (100, 16)\n",
      "tooBroadSample before cleaning: (100, 16)\n",
      "opinionBasedSample before cleaning: (100, 16)\n",
      "\n",
      "closedQuesSample before cleaning: (400, 16)\n",
      "<<< removing rows with NaN closedDate >>>\n",
      "closedQuesSample after cleaning: (374, 16)\n",
      "\n",
      "openQuesSample (400, 14)\n"
     ]
    }
   ],
   "source": [
    "print(\"offTopicSample before cleaning: \"+str(offTopicSample.shape))\n",
    "print(\"unclearSample before cleaning: \"+str(unclearSample.shape))\n",
    "print(\"tooBroadSample before cleaning: \"+str(tooBroadSample.shape))\n",
    "print(\"opinionBasedSample before cleaning: \"+str(opinionBasedSample.shape))\n",
    "\n",
    "#Merging dataframes into a single one\n",
    "closedQuesSample=pd.concat([offTopicSample,unclearSample,tooBroadSample,opinionBasedSample])\n",
    "\n",
    "#Cleaning data\n",
    "#Dropping those examples where ClosedDate=NAN(signifies the question wasn't actually closed but locked, protected)\n",
    "#https://stackoverflow.com/questions/36370839/better-way-to-drop-nan-rows-in-pandas?\n",
    "print(\"\\nclosedQuesSample before cleaning: \"+str(closedQuesSample.shape))\n",
    "print(\"<<< removing rows with NaN closedDate >>>\")\n",
    "closedQuesSample.dropna(subset=['ClosedDate'],inplace = True) \n",
    "print(\"closedQuesSample after cleaning: \"+str(closedQuesSample.shape))\n",
    "#print(closedQuesSample.iloc[96:100,:])\n",
    "\n",
    "print(\"\\nopenQuesSample \"+str(openQuesSample.shape))"
   ]
  },
  {
   "cell_type": "code",
   "execution_count": null,
   "metadata": {},
   "outputs": [],
   "source": []
  },
  {
   "cell_type": "code",
   "execution_count": 28,
   "metadata": {},
   "outputs": [
    {
     "data": {
      "text/plain": [
       "Index(['PostId', 'UserId', 'ClosedDate', 'Comment', 'Body', 'Title', 'Tags',\n",
       "       'Reputation', 'experienceInTime', 'WebsiteUrl', 'Location', 'AboutMe',\n",
       "       'Views', 'Upvotes', 'Downvotes', 'ProfileImageUrl'],\n",
       "      dtype='object')"
      ]
     },
     "execution_count": 28,
     "metadata": {},
     "output_type": "execute_result"
    }
   ],
   "source": [
    "closedQuesSample.columns"
   ]
  },
  {
   "cell_type": "code",
   "execution_count": 29,
   "metadata": {},
   "outputs": [
    {
     "data": {
      "text/plain": [
       "Index(['PostId', 'UserId', 'Body', 'Title', 'Tags', 'Reputation',\n",
       "       'experienceInTime', 'WebsiteUrl', 'Location', 'AboutMe', 'Views',\n",
       "       'Upvotes', 'Downvotes', 'ProfileImageUrl'],\n",
       "      dtype='object')"
      ]
     },
     "execution_count": 29,
     "metadata": {},
     "output_type": "execute_result"
    }
   ],
   "source": [
    "openQuesSample.columns"
   ]
  },
  {
   "cell_type": "code",
   "execution_count": 30,
   "metadata": {},
   "outputs": [
    {
     "name": "stdout",
     "output_type": "stream",
     "text": [
      "Index(['Body', 'Title', 'Tags', 'Reputation', 'experienceInTime', 'WebsiteUrl',\n",
      "       'Location', 'AboutMe', 'Views', 'Upvotes', 'Downvotes',\n",
      "       'ProfileImageUrl', 'closed'],\n",
      "      dtype='object')\n",
      "Index(['Body', 'Title', 'Tags', 'Reputation', 'experienceInTime', 'WebsiteUrl',\n",
      "       'Location', 'AboutMe', 'Views', 'Upvotes', 'Downvotes',\n",
      "       'ProfileImageUrl', 'closed'],\n",
      "      dtype='object')\n",
      "                                                     Body  \\\n",
      "66738   <p>I want to make queries for mySQL DB from no...   \n",
      "31519   <p>I am looking for a radio select carousel. I...   \n",
      "66442   <p>I need to copy a row from my table1 to my t...   \n",
      "80108   <p>I want to create an iOS app that can show t...   \n",
      "111028  <p>Im a novice programmer. There's a recurring...   \n",
      "\n",
      "                                               Title  \\\n",
      "66738                 working with node.js and mySQL   \n",
      "31519            Looking for a jquery radio carousel   \n",
      "66442               Copy row from table 1 to table 2   \n",
      "80108   How can I get data from a website to ios app   \n",
      "111028         wrong output in c for simple programs   \n",
      "\n",
      "                               Tags Reputation  experienceInTime  \\\n",
      "66738   <mysql><node.js><socket.io>       5414              36.0   \n",
      "31519          <javascript><jquery>       1255             685.0   \n",
      "66442   <php><mysql><sql><database>        148               1.0   \n",
      "80108           <ios><web><request>         25              18.0   \n",
      "111028                          <c>          4               0.0   \n",
      "\n",
      "                          WebsiteUrl                                Location  \\\n",
      "66738                            NaN                                     NaN   \n",
      "31519                            NaN                                     NaN   \n",
      "66442   http://www.reprograma.com.br  São Paulo - State of São Paulo, Brazil   \n",
      "80108                            NaN                                     NaN   \n",
      "111028                           NaN                                     NaN   \n",
      "\n",
      "       AboutMe  Views  Upvotes  Downvotes  \\\n",
      "66738      NaN  223.0    533.0        3.0   \n",
      "31519      NaN  289.0     68.0        3.0   \n",
      "66442      NaN   89.0     16.0        0.0   \n",
      "80108      NaN    3.0      8.0        0.0   \n",
      "111028     NaN    0.0      0.0        0.0   \n",
      "\n",
      "                                          ProfileImageUrl  closed  \n",
      "66738       https://i.stack.imgur.com/ngpIj.jpg?s=128&g=1       1  \n",
      "31519       https://i.stack.imgur.com/Te31K.jpg?s=128&g=1       1  \n",
      "66442                 https://i.stack.imgur.com/cnfiS.jpg       1  \n",
      "80108   https://www.gravatar.com/avatar/?s=128&d=ident...       1  \n",
      "111028  https://www.gravatar.com/avatar/44e96b4ee3197c...       1  \n",
      "                                                     Body  \\\n",
      "42021   <p>What's the sequence of events in a full <st...   \n",
      "22635   <p>I have a single Geometry Field in a table</...   \n",
      "97229   <p>I´m creating a scene with planets and space...   \n",
      "80484   <p>The table <code>MTEL</code> has 7 million r...   \n",
      "101665  <p>I'm using Google calendar API v3 via the .N...   \n",
      "\n",
      "                                                    Title  \\\n",
      "42021           What's the life cycle of Unit Tests in C#   \n",
      "22635   Oracle - Changing the value of a single ordina...   \n",
      "97229                 three.js orbitcontrols move shaking   \n",
      "80484   Error converting data type varchar to float wh...   \n",
      "101665  403 when trying to clear calendar using Google...   \n",
      "\n",
      "                                                     Tags  Reputation  \\\n",
      "42021           c#|.net|visual-studio|unit-testing|mstest        2259   \n",
      "22635                                 sql|oracle|geometry         108   \n",
      "97229                          camera|three.js|move|shake          11   \n",
      "80484                      sql|sql-server|group-by|sum|na         332   \n",
      "101665  google-api|google-oauth|google-api-dotnet-clie...         350   \n",
      "\n",
      "        experienceInTime              WebsiteUrl                     Location  \\\n",
      "42021               -428  http://www.jerther.com                          NaN   \n",
      "22635              -1528                     NaN                          NaN   \n",
      "97229                -21                     NaN                          NaN   \n",
      "80484               -657                     NaN                          NaN   \n",
      "101665             -1536  https://www.beiley.com  Chandler, AZ, United States   \n",
      "\n",
      "                                                  AboutMe  Views  Upvotes  \\\n",
      "42021                       <p>Convert.ToCode(ideas);</p>    348      832   \n",
      "22635                                                 NaN     18        8   \n",
      "97229                                                 NaN      4        0   \n",
      "80484                       <p>SQL Server and Oracle.</p>    171       65   \n",
      "101665  <p>Founder/CEO of <a href=\"https://www.beiley....     31       40   \n",
      "\n",
      "        Downvotes                                    ProfileImageUrl  closed  \n",
      "42021          23                                                NaN       0  \n",
      "22635           0                                                NaN       0  \n",
      "97229           0  https://graph.facebook.com/100001443444301/pic...       0  \n",
      "80484          10                                                NaN       0  \n",
      "101665          0                                                NaN       0  \n"
     ]
    }
   ],
   "source": [
    "#Removing unnecessary columns(PostId, UserId, ClosedDate etc) and streamlining all data for one dataframe\n",
    "closedQuesSample.drop(['PostId','UserId','ClosedDate','Comment'],inplace=True,axis=1)\n",
    "openQuesSample.drop(['PostId','UserId'],inplace=True,axis=1)\n",
    "\n",
    "#Adding a column for classifying between open and closed data\n",
    "closedQuesSample['closed']=1\n",
    "openQuesSample['closed']=0\n",
    "\n",
    "print(closedQuesSample.columns)\n",
    "print(openQuesSample.columns)\n",
    "\n",
    "print(closedQuesSample.head())\n",
    "print(openQuesSample.head())"
   ]
  },
  {
   "cell_type": "code",
   "execution_count": 34,
   "metadata": {},
   "outputs": [
    {
     "name": "stdout",
     "output_type": "stream",
     "text": [
      "openCloseData: (774, 13)\n"
     ]
    }
   ],
   "source": [
    "#Merging open and closed questions\n",
    "openCloseData=pd.concat([closedQuesSample,openQuesSample])\n",
    "print(\"openCloseData: \"+ str(openCloseData.shape))"
   ]
  },
  {
   "cell_type": "code",
   "execution_count": 40,
   "metadata": {},
   "outputs": [
    {
     "name": "stdout",
     "output_type": "stream",
     "text": [
      "                                                     Body  \\\n",
      "66738   <p>I want to make queries for mySQL DB from no...   \n",
      "31519   <p>I am looking for a radio select carousel. I...   \n",
      "66442   <p>I need to copy a row from my table1 to my t...   \n",
      "80108   <p>I want to create an iOS app that can show t...   \n",
      "111028  <p>Im a novice programmer. There's a recurring...   \n",
      "\n",
      "                                               Title  \\\n",
      "66738                 working with node.js and mySQL   \n",
      "31519            Looking for a jquery radio carousel   \n",
      "66442               Copy row from table 1 to table 2   \n",
      "80108   How can I get data from a website to ios app   \n",
      "111028         wrong output in c for simple programs   \n",
      "\n",
      "                               Tags Reputation  experienceInTime  \\\n",
      "66738   <mysql><node.js><socket.io>       5414              36.0   \n",
      "31519          <javascript><jquery>       1255             685.0   \n",
      "66442   <php><mysql><sql><database>        148               1.0   \n",
      "80108           <ios><web><request>         25              18.0   \n",
      "111028                          <c>          4               0.0   \n",
      "\n",
      "                          WebsiteUrl                                Location  \\\n",
      "66738                            NaN                                     NaN   \n",
      "31519                            NaN                                     NaN   \n",
      "66442   http://www.reprograma.com.br  São Paulo - State of São Paulo, Brazil   \n",
      "80108                            NaN                                     NaN   \n",
      "111028                           NaN                                     NaN   \n",
      "\n",
      "       AboutMe  Views  Upvotes          ...            \\\n",
      "66738      NaN  223.0    533.0          ...             \n",
      "31519      NaN  289.0     68.0          ...             \n",
      "66442      NaN   89.0     16.0          ...             \n",
      "80108      NaN    3.0      8.0          ...             \n",
      "111028     NaN    0.0      0.0          ...             \n",
      "\n",
      "        sentencesStartWithYouCount sentencesStartWithICount  shortWordCount  \\\n",
      "66738                            0                        1              54   \n",
      "31519                            0                        2              24   \n",
      "66442                            0                        2             114   \n",
      "80108                            0                        1              20   \n",
      "111028                           0                        0              32   \n",
      "\n",
      "        bodyWordCount  tagCount  punctuationCount  websiteUrlFilled  \\\n",
      "66738             124         3               177                 0   \n",
      "31519              60         2                19                 0   \n",
      "66442             250         4               286                 1   \n",
      "80108              38         3                 8                 0   \n",
      "111028             54         1                30                 0   \n",
      "\n",
      "        locationFilled  aboutMeFilled  profileImageUrlFilled  \n",
      "66738                0              0                      1  \n",
      "31519                0              0                      1  \n",
      "66442                1              0                      1  \n",
      "80108                0              0                      1  \n",
      "111028               0              0                      1  \n",
      "\n",
      "[5 rows x 31 columns]\n"
     ]
    }
   ],
   "source": [
    "#Adding necessary feature columns\n",
    "#https://stackoverflow.com/questions/40045632/adding-a-column-in-pandas-df-using-a-function\n",
    "\n",
    "openCloseData['lowerUpperRatio']=openCloseData['Body'].apply(lowercaseCount)/openCloseData['Body'].apply(uppercaseCount)\n",
    "openCloseData['sentenceCount']=openCloseData['Body'].apply(getSentenceCount)\n",
    "openCloseData['firstLineLength']=openCloseData['Body'].apply(getFirstLineLength)\n",
    "openCloseData['codeLength']=openCloseData['Body'].apply(codeLength)\n",
    "openCloseData['urlCount']=openCloseData['Body'].apply(urlCount)\n",
    "openCloseData['SOUrlCount']=openCloseData['Body'].apply(SOUrlCount)\n",
    "openCloseData['titleLengthInChars']=openCloseData['Title'].apply(len)\n",
    "openCloseData['countOfInterrogativeSent']=openCloseData['Body'].apply(countOfInterrogativeSent)\n",
    "openCloseData['sentencesStartWithYouCount']=openCloseData['Body'].apply(sentencesStartWithYouCount)\n",
    "openCloseData['sentencesStartWithICount']=openCloseData['Body'].apply(sentencesStartWithICount)\n",
    "openCloseData['shortWordCount']=openCloseData['Body'].apply(countShortWords)\n",
    "openCloseData['bodyWordCount']=openCloseData['Body'].apply(countWords)\n",
    "openCloseData['tagCount']=openCloseData['Tags'].apply(countTags)\n",
    "openCloseData['punctuationCount']=openCloseData['Body'].apply(countPunctuations)\n",
    "\n",
    "openCloseData['websiteUrlFilled']=openCloseData['WebsiteUrl'].apply(makeBinary)\n",
    "openCloseData['locationFilled']=openCloseData['Location'].apply(makeBinary)\n",
    "openCloseData['aboutMeFilled']=openCloseData['AboutMe'].apply(makeBinary)\n",
    "openCloseData['profileImageUrlFilled']=openCloseData['ProfileImageUrl'].apply(makeBinary)\n",
    "\n",
    "print(openCloseData.head())"
   ]
  },
  {
   "cell_type": "code",
   "execution_count": 42,
   "metadata": {},
   "outputs": [
    {
     "name": "stdout",
     "output_type": "stream",
     "text": [
      "openCloseData shape after adding features:(774, 31)\n",
      "Index(['Body', 'Title', 'Tags', 'Reputation', 'experienceInTime', 'WebsiteUrl',\n",
      "       'Location', 'AboutMe', 'Views', 'Upvotes', 'Downvotes',\n",
      "       'ProfileImageUrl', 'closed', 'lowerUpperRatio', 'sentenceCount',\n",
      "       'firstLineLength', 'codeLength', 'urlCount', 'SOUrlCount',\n",
      "       'titleLengthInChars', 'countOfInterrogativeSent',\n",
      "       'sentencesStartWithYouCount', 'sentencesStartWithICount',\n",
      "       'shortWordCount', 'bodyWordCount', 'tagCount', 'punctuationCount',\n",
      "       'websiteUrlFilled', 'locationFilled', 'aboutMeFilled',\n",
      "       'profileImageUrlFilled'],\n",
      "      dtype='object')\n"
     ]
    }
   ],
   "source": [
    "print(\"openCloseData shape after adding features:\"+str(openCloseData.shape))\n",
    "print(openCloseData.columns)"
   ]
  },
  {
   "cell_type": "markdown",
   "metadata": {},
   "source": [
    "## CLASSIFIER FOR REASON FOR CLOSURE"
   ]
  }
 ],
 "metadata": {
  "kernelspec": {
   "display_name": "Python 3",
   "language": "python",
   "name": "python3"
  },
  "language_info": {
   "codemirror_mode": {
    "name": "ipython",
    "version": 3
   },
   "file_extension": ".py",
   "mimetype": "text/x-python",
   "name": "python",
   "nbconvert_exporter": "python",
   "pygments_lexer": "ipython3",
   "version": "3.6.5"
  }
 },
 "nbformat": 4,
 "nbformat_minor": 2
}
