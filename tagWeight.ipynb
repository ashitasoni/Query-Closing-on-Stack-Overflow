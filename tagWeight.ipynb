{
 "cells": [
  {
   "cell_type": "code",
   "execution_count": 331,
   "metadata": {},
   "outputs": [],
   "source": [
    "import pandas as pd\n",
    "import matplotlib.pyplot as plt\n",
    "import numpy as np"
   ]
  },
  {
   "cell_type": "code",
   "execution_count": 332,
   "metadata": {},
   "outputs": [],
   "source": [
    "closeData=pd.read_csv(\"tagWithCloseCount.csv\")\n",
    "openData=pd.read_csv(\"tagWithOpenCount.csv\")"
   ]
  },
  {
   "cell_type": "code",
   "execution_count": 333,
   "metadata": {},
   "outputs": [
    {
     "data": {
      "text/plain": [
       "(20666, 3)"
      ]
     },
     "execution_count": 333,
     "metadata": {},
     "output_type": "execute_result"
    }
   ],
   "source": [
    "closeData.shape"
   ]
  },
  {
   "cell_type": "code",
   "execution_count": 334,
   "metadata": {},
   "outputs": [
    {
     "data": {
      "text/plain": [
       "(54126, 3)"
      ]
     },
     "execution_count": 334,
     "metadata": {},
     "output_type": "execute_result"
    }
   ],
   "source": [
    "openData.shape"
   ]
  },
  {
   "cell_type": "code",
   "execution_count": 335,
   "metadata": {},
   "outputs": [
    {
     "name": "stdout",
     "output_type": "stream",
     "text": [
      "   TagId  countOfQuesClosed     TagName  countOfQuesStillOpen\n",
      "0      1             4768.0        .net              263882.0\n",
      "1      2            18998.0        html              747022.0\n",
      "2      3            27528.0  javascript             1645699.0\n",
      "3      4            12759.0         css              535258.0\n",
      "4      5            29303.0         php             1160245.0\n",
      "(54158, 4)\n"
     ]
    }
   ],
   "source": [
    "tagData=closeData.merge(openData,how=\"outer\")\n",
    "print(tagData.head())\n",
    "print(tagData.shape)"
   ]
  },
  {
   "cell_type": "code",
   "execution_count": 336,
   "metadata": {},
   "outputs": [
    {
     "data": {
      "text/html": [
       "<div>\n",
       "<style scoped>\n",
       "    .dataframe tbody tr th:only-of-type {\n",
       "        vertical-align: middle;\n",
       "    }\n",
       "\n",
       "    .dataframe tbody tr th {\n",
       "        vertical-align: top;\n",
       "    }\n",
       "\n",
       "    .dataframe thead th {\n",
       "        text-align: right;\n",
       "    }\n",
       "</style>\n",
       "<table border=\"1\" class=\"dataframe\">\n",
       "  <thead>\n",
       "    <tr style=\"text-align: right;\">\n",
       "      <th></th>\n",
       "      <th>TagId</th>\n",
       "      <th>countOfQuesClosed</th>\n",
       "      <th>TagName</th>\n",
       "      <th>countOfQuesStillOpen</th>\n",
       "    </tr>\n",
       "  </thead>\n",
       "  <tbody>\n",
       "    <tr>\n",
       "      <th>20666</th>\n",
       "      <td>26</td>\n",
       "      <td>NaN</td>\n",
       "      <td>j#</td>\n",
       "      <td>57.0</td>\n",
       "    </tr>\n",
       "  </tbody>\n",
       "</table>\n",
       "</div>"
      ],
      "text/plain": [
       "       TagId  countOfQuesClosed TagName  countOfQuesStillOpen\n",
       "20666     26                NaN      j#                  57.0"
      ]
     },
     "execution_count": 336,
     "metadata": {},
     "output_type": "execute_result"
    }
   ],
   "source": [
    "tagData[tagData['TagId']==26]"
   ]
  },
  {
   "cell_type": "code",
   "execution_count": 337,
   "metadata": {},
   "outputs": [],
   "source": [
    "tagData.replace(np.nan,0,inplace=True)"
   ]
  },
  {
   "cell_type": "code",
   "execution_count": 338,
   "metadata": {},
   "outputs": [
    {
     "data": {
      "text/html": [
       "<div>\n",
       "<style scoped>\n",
       "    .dataframe tbody tr th:only-of-type {\n",
       "        vertical-align: middle;\n",
       "    }\n",
       "\n",
       "    .dataframe tbody tr th {\n",
       "        vertical-align: top;\n",
       "    }\n",
       "\n",
       "    .dataframe thead th {\n",
       "        text-align: right;\n",
       "    }\n",
       "</style>\n",
       "<table border=\"1\" class=\"dataframe\">\n",
       "  <thead>\n",
       "    <tr style=\"text-align: right;\">\n",
       "      <th></th>\n",
       "      <th>TagId</th>\n",
       "      <th>countOfQuesClosed</th>\n",
       "      <th>TagName</th>\n",
       "      <th>countOfQuesStillOpen</th>\n",
       "    </tr>\n",
       "  </thead>\n",
       "  <tbody>\n",
       "    <tr>\n",
       "      <th>20666</th>\n",
       "      <td>26</td>\n",
       "      <td>0.0</td>\n",
       "      <td>j#</td>\n",
       "      <td>57.0</td>\n",
       "    </tr>\n",
       "  </tbody>\n",
       "</table>\n",
       "</div>"
      ],
      "text/plain": [
       "       TagId  countOfQuesClosed TagName  countOfQuesStillOpen\n",
       "20666     26                0.0      j#                  57.0"
      ]
     },
     "execution_count": 338,
     "metadata": {},
     "output_type": "execute_result"
    }
   ],
   "source": [
    "tagData[tagData['TagId']==26]"
   ]
  },
  {
   "cell_type": "code",
   "execution_count": 351,
   "metadata": {},
   "outputs": [],
   "source": [
    "tagData['closeCountNorm']=tagData['countOfQuesClosed']\n",
    "#/np.sum(tagData['countOfQuesClosed'])\n",
    "tagData['openCountNorm']=tagData['countOfQuesStillOpen']\n",
    "#/np.sum(tagData['countOfQuesStillOpen'])\n",
    "tagData['closeOpenRatio']=tagData['closeCountNorm']/(tagData['openCountNorm']+10)"
   ]
  },
  {
   "cell_type": "code",
   "execution_count": 352,
   "metadata": {},
   "outputs": [
    {
     "data": {
      "text/html": [
       "<div>\n",
       "<style scoped>\n",
       "    .dataframe tbody tr th:only-of-type {\n",
       "        vertical-align: middle;\n",
       "    }\n",
       "\n",
       "    .dataframe tbody tr th {\n",
       "        vertical-align: top;\n",
       "    }\n",
       "\n",
       "    .dataframe thead th {\n",
       "        text-align: right;\n",
       "    }\n",
       "</style>\n",
       "<table border=\"1\" class=\"dataframe\">\n",
       "  <thead>\n",
       "    <tr style=\"text-align: right;\">\n",
       "      <th></th>\n",
       "      <th>TagId</th>\n",
       "      <th>countOfQuesClosed</th>\n",
       "      <th>TagName</th>\n",
       "      <th>countOfQuesStillOpen</th>\n",
       "      <th>closeCountNorm</th>\n",
       "      <th>openCountNorm</th>\n",
       "      <th>closeOpenRatio</th>\n",
       "    </tr>\n",
       "  </thead>\n",
       "  <tbody>\n",
       "    <tr>\n",
       "      <th>850</th>\n",
       "      <td>1835</td>\n",
       "      <td>2119.0</td>\n",
       "      <td>open-source</td>\n",
       "      <td>1117.0</td>\n",
       "      <td>2119.0</td>\n",
       "      <td>1117.0</td>\n",
       "      <td>1.880213</td>\n",
       "    </tr>\n",
       "    <tr>\n",
       "      <th>245</th>\n",
       "      <td>508</td>\n",
       "      <td>749.0</td>\n",
       "      <td>agile</td>\n",
       "      <td>225.0</td>\n",
       "      <td>749.0</td>\n",
       "      <td>225.0</td>\n",
       "      <td>3.187234</td>\n",
       "    </tr>\n",
       "    <tr>\n",
       "      <th>685</th>\n",
       "      <td>1446</td>\n",
       "      <td>1134.0</td>\n",
       "      <td>licensing</td>\n",
       "      <td>569.0</td>\n",
       "      <td>1134.0</td>\n",
       "      <td>569.0</td>\n",
       "      <td>1.958549</td>\n",
       "    </tr>\n",
       "    <tr>\n",
       "      <th>710</th>\n",
       "      <td>1504</td>\n",
       "      <td>475.0</td>\n",
       "      <td>scrum</td>\n",
       "      <td>201.0</td>\n",
       "      <td>475.0</td>\n",
       "      <td>201.0</td>\n",
       "      <td>2.251185</td>\n",
       "    </tr>\n",
       "    <tr>\n",
       "      <th>1645</th>\n",
       "      <td>3871</td>\n",
       "      <td>274.0</td>\n",
       "      <td>gpl</td>\n",
       "      <td>0.0</td>\n",
       "      <td>274.0</td>\n",
       "      <td>0.0</td>\n",
       "      <td>27.400000</td>\n",
       "    </tr>\n",
       "  </tbody>\n",
       "</table>\n",
       "</div>"
      ],
      "text/plain": [
       "      TagId  countOfQuesClosed      TagName  countOfQuesStillOpen  \\\n",
       "850    1835             2119.0  open-source                1117.0   \n",
       "245     508              749.0        agile                 225.0   \n",
       "685    1446             1134.0    licensing                 569.0   \n",
       "710    1504              475.0        scrum                 201.0   \n",
       "1645   3871              274.0          gpl                   0.0   \n",
       "\n",
       "      closeCountNorm  openCountNorm  closeOpenRatio  \n",
       "850           2119.0         1117.0        1.880213  \n",
       "245            749.0          225.0        3.187234  \n",
       "685           1134.0          569.0        1.958549  \n",
       "710            475.0          201.0        2.251185  \n",
       "1645           274.0            0.0       27.400000  "
      ]
     },
     "execution_count": 352,
     "metadata": {},
     "output_type": "execute_result"
    }
   ],
   "source": [
    "tagData.head()"
   ]
  },
  {
   "cell_type": "code",
   "execution_count": 353,
   "metadata": {},
   "outputs": [],
   "source": [
    "#MOST POPULAR TAGS"
   ]
  },
  {
   "cell_type": "code",
   "execution_count": 354,
   "metadata": {},
   "outputs": [
    {
     "name": "stdout",
     "output_type": "stream",
     "text": [
      "        TagId  countOfQuesClosed        TagName  countOfQuesStillOpen  \\\n",
      "1645     3871              274.0            gpl                   0.0   \n",
      "1730     4089              102.0           lgpl                   0.0   \n",
      "18358  111007               42.0  rosetta-stone                   0.0   \n",
      "245       508              749.0          agile                 225.0   \n",
      "232       474               30.0       freeware                   3.0   \n",
      "\n",
      "       closeCountNorm  openCountNorm  closeOpenRatio  \n",
      "1645            274.0            0.0       27.400000  \n",
      "1730            102.0            0.0       10.200000  \n",
      "18358            42.0            0.0        4.200000  \n",
      "245             749.0          225.0        3.187234  \n",
      "232              30.0            3.0        2.307692  \n"
     ]
    }
   ],
   "source": [
    "tagData.sort_values(by=['closeOpenRatio'],ascending=False,inplace=True)\n",
    "print(tagData.head())"
   ]
  },
  {
   "cell_type": "code",
   "execution_count": 359,
   "metadata": {},
   "outputs": [
    {
     "name": "stdout",
     "output_type": "stream",
     "text": [
      "<class 'numpy.ndarray'>\n",
      "(50,)\n"
     ]
    }
   ],
   "source": [
    "labels=tagData['TagName'].iloc[0:50]\n",
    "#print(labels)\n",
    "indices=[i for i in range(1,51)]\n",
    "#print(indices)\n",
    "ratios=np.array(tagData['closeOpenRatio'].iloc[0:50] )\n",
    "# from sklearn.preprocessing import scale\n",
    "# ratios=scale(ratios)\n",
    "print(type(ratios))\n",
    "print(ratios.shape)"
   ]
  },
  {
   "cell_type": "code",
   "execution_count": 360,
   "metadata": {},
   "outputs": [
    {
     "data": {
      "image/png": "[encoded data removed]",
      "text/plain": [
       "<Figure size 1080x576 with 1 Axes>"
      ]
     },
     "metadata": {},
     "output_type": "display_data"
    }
   ],
   "source": [
    "plt.figure(figsize=(15, 8))\n",
    "plt.bar(indices,ratios,align='center')\n",
    "plt.xticks(indices, labels)\n",
    "plt.xticks(rotation=90)\n",
    "plt.show()\n",
    "#plt.savefig('D:\\SAJAL\\\\foo.png')"
   ]
  },
  {
   "cell_type": "code",
   "execution_count": null,
   "metadata": {},
   "outputs": [],
   "source": []
  }
 ],
 "metadata": {
  "kernelspec": {
   "display_name": "Python 3",
   "language": "python",
   "name": "python3"
  },
  "language_info": {
   "codemirror_mode": {
    "name": "ipython",
    "version": 3
   },
   "file_extension": ".py",
   "mimetype": "text/x-python",
   "name": "python",
   "nbconvert_exporter": "python",
   "pygments_lexer": "ipython3",
   "version": "3.6.5"
  }
 },
 "nbformat": 4,
 "nbformat_minor": 2
}
