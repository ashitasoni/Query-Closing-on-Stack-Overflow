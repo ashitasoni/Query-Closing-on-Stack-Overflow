{
 "cells": [
  {
   "cell_type": "markdown",
   "metadata": {},
   "source": [
    "### NORMALIZED TAG RATIO GRAPH"
   ]
  },
  {
   "cell_type": "code",
   "execution_count": 417,
   "metadata": {},
   "outputs": [],
   "source": [
    "import pandas as pd\n",
    "import matplotlib.pyplot as plt\n",
    "import numpy as np"
   ]
  },
  {
   "cell_type": "code",
   "execution_count": 418,
   "metadata": {},
   "outputs": [],
   "source": [
    "closeData=pd.read_csv(\"tagCount4Reasons.csv\") #4 reasons for closure(excluding duplicate)\n",
    "openData=pd.read_csv(\"tagWithOpenCount.csv\")"
   ]
  },
  {
   "cell_type": "code",
   "execution_count": 419,
   "metadata": {},
   "outputs": [
    {
     "data": {
      "text/plain": [
       "(20666, 3)"
      ]
     },
     "execution_count": 419,
     "metadata": {},
     "output_type": "execute_result"
    }
   ],
   "source": [
    "closeData.shape"
   ]
  },
  {
   "cell_type": "code",
   "execution_count": 420,
   "metadata": {},
   "outputs": [
    {
     "data": {
      "text/plain": [
       "(54126, 3)"
      ]
     },
     "execution_count": 420,
     "metadata": {},
     "output_type": "execute_result"
    }
   ],
   "source": [
    "openData.shape"
   ]
  },
  {
   "cell_type": "code",
   "execution_count": 421,
   "metadata": {},
   "outputs": [
    {
     "name": "stdout",
     "output_type": "stream",
     "text": [
      "   TagId  countOfQuesClosed     TagName  countOfQuesStillOpen\n",
      "0      1             4768.0        .net              263882.0\n",
      "1      2            18998.0        html              747022.0\n",
      "2      3            27528.0  javascript             1645699.0\n",
      "3      4            12759.0         css              535258.0\n",
      "4      5            29303.0         php             1160245.0\n",
      "(54158, 4)\n"
     ]
    }
   ],
   "source": [
    "tagData=closeData.merge(openData,how=\"outer\")\n",
    "print(tagData.head())\n",
    "print(tagData.shape)"
   ]
  },
  {
   "cell_type": "code",
   "execution_count": 422,
   "metadata": {},
   "outputs": [
    {
     "data": {
      "text/html": [
       "<div>\n",
       "<style scoped>\n",
       "    .dataframe tbody tr th:only-of-type {\n",
       "        vertical-align: middle;\n",
       "    }\n",
       "\n",
       "    .dataframe tbody tr th {\n",
       "        vertical-align: top;\n",
       "    }\n",
       "\n",
       "    .dataframe thead th {\n",
       "        text-align: right;\n",
       "    }\n",
       "</style>\n",
       "<table border=\"1\" class=\"dataframe\">\n",
       "  <thead>\n",
       "    <tr style=\"text-align: right;\">\n",
       "      <th></th>\n",
       "      <th>TagId</th>\n",
       "      <th>countOfQuesClosed</th>\n",
       "      <th>TagName</th>\n",
       "      <th>countOfQuesStillOpen</th>\n",
       "    </tr>\n",
       "  </thead>\n",
       "  <tbody>\n",
       "    <tr>\n",
       "      <th>20666</th>\n",
       "      <td>26</td>\n",
       "      <td>NaN</td>\n",
       "      <td>j#</td>\n",
       "      <td>57.0</td>\n",
       "    </tr>\n",
       "  </tbody>\n",
       "</table>\n",
       "</div>"
      ],
      "text/plain": [
       "       TagId  countOfQuesClosed TagName  countOfQuesStillOpen\n",
       "20666     26                NaN      j#                  57.0"
      ]
     },
     "execution_count": 422,
     "metadata": {},
     "output_type": "execute_result"
    }
   ],
   "source": [
    "tagData[tagData['TagId']==26]"
   ]
  },
  {
   "cell_type": "code",
   "execution_count": 423,
   "metadata": {},
   "outputs": [],
   "source": [
    "tagData.replace(np.nan,0,inplace=True)"
   ]
  },
  {
   "cell_type": "code",
   "execution_count": 424,
   "metadata": {},
   "outputs": [
    {
     "data": {
      "text/html": [
       "<div>\n",
       "<style scoped>\n",
       "    .dataframe tbody tr th:only-of-type {\n",
       "        vertical-align: middle;\n",
       "    }\n",
       "\n",
       "    .dataframe tbody tr th {\n",
       "        vertical-align: top;\n",
       "    }\n",
       "\n",
       "    .dataframe thead th {\n",
       "        text-align: right;\n",
       "    }\n",
       "</style>\n",
       "<table border=\"1\" class=\"dataframe\">\n",
       "  <thead>\n",
       "    <tr style=\"text-align: right;\">\n",
       "      <th></th>\n",
       "      <th>TagId</th>\n",
       "      <th>countOfQuesClosed</th>\n",
       "      <th>TagName</th>\n",
       "      <th>countOfQuesStillOpen</th>\n",
       "    </tr>\n",
       "  </thead>\n",
       "  <tbody>\n",
       "    <tr>\n",
       "      <th>20666</th>\n",
       "      <td>26</td>\n",
       "      <td>0.0</td>\n",
       "      <td>j#</td>\n",
       "      <td>57.0</td>\n",
       "    </tr>\n",
       "  </tbody>\n",
       "</table>\n",
       "</div>"
      ],
      "text/plain": [
       "       TagId  countOfQuesClosed TagName  countOfQuesStillOpen\n",
       "20666     26                0.0      j#                  57.0"
      ]
     },
     "execution_count": 424,
     "metadata": {},
     "output_type": "execute_result"
    }
   ],
   "source": [
    "tagData[tagData['TagId']==26]"
   ]
  },
  {
   "cell_type": "code",
   "execution_count": 425,
   "metadata": {},
   "outputs": [],
   "source": [
    "tagData['closeCountNorm']=tagData['countOfQuesClosed']\n",
    "#/np.sum(tagData['countOfQuesClosed'])\n",
    "tagData['openCountNorm']=tagData['countOfQuesStillOpen']\n",
    "#/np.sum(tagData['countOfQuesStillOpen'])\n",
    "tagData['closeOpenRatio']=tagData['closeCountNorm']/(tagData['openCountNorm']+1)"
   ]
  },
  {
   "cell_type": "code",
   "execution_count": 426,
   "metadata": {},
   "outputs": [
    {
     "data": {
      "text/html": [
       "<div>\n",
       "<style scoped>\n",
       "    .dataframe tbody tr th:only-of-type {\n",
       "        vertical-align: middle;\n",
       "    }\n",
       "\n",
       "    .dataframe tbody tr th {\n",
       "        vertical-align: top;\n",
       "    }\n",
       "\n",
       "    .dataframe thead th {\n",
       "        text-align: right;\n",
       "    }\n",
       "</style>\n",
       "<table border=\"1\" class=\"dataframe\">\n",
       "  <thead>\n",
       "    <tr style=\"text-align: right;\">\n",
       "      <th></th>\n",
       "      <th>TagId</th>\n",
       "      <th>countOfQuesClosed</th>\n",
       "      <th>TagName</th>\n",
       "      <th>countOfQuesStillOpen</th>\n",
       "      <th>closeCountNorm</th>\n",
       "      <th>openCountNorm</th>\n",
       "      <th>closeOpenRatio</th>\n",
       "    </tr>\n",
       "  </thead>\n",
       "  <tbody>\n",
       "    <tr>\n",
       "      <th>0</th>\n",
       "      <td>1</td>\n",
       "      <td>4768.0</td>\n",
       "      <td>.net</td>\n",
       "      <td>263882.0</td>\n",
       "      <td>4768.0</td>\n",
       "      <td>263882.0</td>\n",
       "      <td>0.018069</td>\n",
       "    </tr>\n",
       "    <tr>\n",
       "      <th>1</th>\n",
       "      <td>2</td>\n",
       "      <td>18998.0</td>\n",
       "      <td>html</td>\n",
       "      <td>747022.0</td>\n",
       "      <td>18998.0</td>\n",
       "      <td>747022.0</td>\n",
       "      <td>0.025432</td>\n",
       "    </tr>\n",
       "    <tr>\n",
       "      <th>2</th>\n",
       "      <td>3</td>\n",
       "      <td>27528.0</td>\n",
       "      <td>javascript</td>\n",
       "      <td>1645699.0</td>\n",
       "      <td>27528.0</td>\n",
       "      <td>1645699.0</td>\n",
       "      <td>0.016727</td>\n",
       "    </tr>\n",
       "    <tr>\n",
       "      <th>3</th>\n",
       "      <td>4</td>\n",
       "      <td>12759.0</td>\n",
       "      <td>css</td>\n",
       "      <td>535258.0</td>\n",
       "      <td>12759.0</td>\n",
       "      <td>535258.0</td>\n",
       "      <td>0.023837</td>\n",
       "    </tr>\n",
       "    <tr>\n",
       "      <th>4</th>\n",
       "      <td>5</td>\n",
       "      <td>29303.0</td>\n",
       "      <td>php</td>\n",
       "      <td>1160245.0</td>\n",
       "      <td>29303.0</td>\n",
       "      <td>1160245.0</td>\n",
       "      <td>0.025256</td>\n",
       "    </tr>\n",
       "  </tbody>\n",
       "</table>\n",
       "</div>"
      ],
      "text/plain": [
       "   TagId  countOfQuesClosed     TagName  countOfQuesStillOpen  closeCountNorm  \\\n",
       "0      1             4768.0        .net              263882.0          4768.0   \n",
       "1      2            18998.0        html              747022.0         18998.0   \n",
       "2      3            27528.0  javascript             1645699.0         27528.0   \n",
       "3      4            12759.0         css              535258.0         12759.0   \n",
       "4      5            29303.0         php             1160245.0         29303.0   \n",
       "\n",
       "   openCountNorm  closeOpenRatio  \n",
       "0       263882.0        0.018069  \n",
       "1       747022.0        0.025432  \n",
       "2      1645699.0        0.016727  \n",
       "3       535258.0        0.023837  \n",
       "4      1160245.0        0.025256  "
      ]
     },
     "execution_count": 426,
     "metadata": {},
     "output_type": "execute_result"
    }
   ],
   "source": [
    "tagData.head()"
   ]
  },
  {
   "cell_type": "code",
   "execution_count": 427,
   "metadata": {},
   "outputs": [
    {
     "name": "stdout",
     "output_type": "stream",
     "text": [
      "        TagId  countOfQuesClosed        TagName  countOfQuesStillOpen  \\\n",
      "1645     3871              274.0            gpl                   0.0   \n",
      "1730     4089              102.0           lgpl                   0.0   \n",
      "18358  111007               42.0  rosetta-stone                   0.0   \n",
      "3743     9968               20.0        godaddy                   0.0   \n",
      "13885   73861                9.0       tool-rec                   0.0   \n",
      "232       474               30.0       freeware                   3.0   \n",
      "4247    11638                5.0     beautifier                   0.0   \n",
      "245       508              749.0          agile                 225.0   \n",
      "17227  102637                3.0       unicoins                   0.0   \n",
      "710      1504              475.0          scrum                 201.0   \n",
      "\n",
      "       closeCountNorm  openCountNorm  closeOpenRatio  \n",
      "1645            274.0            0.0      274.000000  \n",
      "1730            102.0            0.0      102.000000  \n",
      "18358            42.0            0.0       42.000000  \n",
      "3743             20.0            0.0       20.000000  \n",
      "13885             9.0            0.0        9.000000  \n",
      "232              30.0            3.0        7.500000  \n",
      "4247              5.0            0.0        5.000000  \n",
      "245             749.0          225.0        3.314159  \n",
      "17227             3.0            0.0        3.000000  \n",
      "710             475.0          201.0        2.351485  \n"
     ]
    }
   ],
   "source": [
    "tagData.sort_values(by=['closeOpenRatio'],ascending=False,inplace=True)\n",
    "print(tagData.iloc[0:10])"
   ]
  },
  {
   "cell_type": "code",
   "execution_count": 428,
   "metadata": {},
   "outputs": [
    {
     "name": "stdout",
     "output_type": "stream",
     "text": [
      "[274.         102.          42.          20.           9.\n",
      "   7.5          5.           3.31415929   3.           2.35148515\n",
      "   2.           2.           2.           2.           2.\n",
      "   2.           2.           1.98947368   1.95238095   1.89534884\n",
      "   1.5          1.34782609   1.33333333   1.29166667   1.28571429]\n",
      "<class 'numpy.ndarray'>\n",
      "(25,)\n"
     ]
    }
   ],
   "source": [
    "top=25\n",
    "labels=tagData['TagName'].iloc[0:top]\n",
    "#print(labels)\n",
    "indices=[i for i in range(1,top+1)]\n",
    "#print(indices)\n",
    "ratios=np.array(tagData['closeOpenRatio'].iloc[0:top] )\n",
    "#from sklearn.preprocessing import scale\n",
    "#ratios=scale(ratios)\n",
    "print(ratios)\n",
    "print(type(ratios))\n",
    "print(ratios.shape)"
   ]
  },
  {
   "cell_type": "code",
   "execution_count": 429,
   "metadata": {},
   "outputs": [
    {
     "data": {
      "image/png": "[encoded data removed]",
      "text/plain": [
       "<Figure size 864x432 with 1 Axes>"
      ]
     },
     "metadata": {},
     "output_type": "display_data"
    }
   ],
   "source": [
    "plt.figure(figsize=(12, 6))\n",
    "plt.bar(indices,ratios,align='center')\n",
    "plt.ylabel(\"Log of ratio of tag count in closed and open questions\")\n",
    "plt.xticks(indices, labels)\n",
    "plt.xticks(rotation=90)\n",
    "plt.title(\"Tags with top \"+str(top)+\" Tag Ratio\")\n",
    "plt.yscale('log')\n",
    "plt.show()\n",
    "#plt.savefig('D:\\SAJAL\\\\foo.png')"
   ]
  },
  {
   "cell_type": "code",
   "execution_count": null,
   "metadata": {},
   "outputs": [],
   "source": []
  },
  {
   "cell_type": "code",
   "execution_count": null,
   "metadata": {},
   "outputs": [],
   "source": []
  }
 ],
 "metadata": {
  "kernelspec": {
   "display_name": "Python 3",
   "language": "python",
   "name": "python3"
  },
  "language_info": {
   "codemirror_mode": {
    "name": "ipython",
    "version": 3
   },
   "file_extension": ".py",
   "mimetype": "text/x-python",
   "name": "python",
   "nbconvert_exporter": "python",
   "pygments_lexer": "ipython3",
   "version": "3.6.5"
  }
 },
 "nbformat": 4,
 "nbformat_minor": 2
}
