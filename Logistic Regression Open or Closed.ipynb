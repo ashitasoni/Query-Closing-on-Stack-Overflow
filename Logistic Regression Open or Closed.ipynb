{
 "cells": [
  {
   "cell_type": "code",
   "execution_count": 1,
   "metadata": {},
   "outputs": [],
   "source": [
    "import pandas as pd\n",
    "import numpy as np\n",
    "from sklearn.linear_model import LogisticRegression\n",
    "from sklearn.model_selection import train_test_split\n",
    "from sklearn.metrics import classification_report\n",
    "from sklearn.metrics import precision_score\n",
    "from sklearn.metrics import recall_score\n",
    "from sklearn.metrics import f1_score\n",
    "from sklearn.metrics import precision_recall_fscore_support"
   ]
  },
  {
   "cell_type": "code",
   "execution_count": 2,
   "metadata": {},
   "outputs": [
    {
     "data": {
      "text/html": [
       "<div>\n",
       "<style scoped>\n",
       "    .dataframe tbody tr th:only-of-type {\n",
       "        vertical-align: middle;\n",
       "    }\n",
       "\n",
       "    .dataframe tbody tr th {\n",
       "        vertical-align: top;\n",
       "    }\n",
       "\n",
       "    .dataframe thead th {\n",
       "        text-align: right;\n",
       "    }\n",
       "</style>\n",
       "<table border=\"1\" class=\"dataframe\">\n",
       "  <thead>\n",
       "    <tr style=\"text-align: right;\">\n",
       "      <th></th>\n",
       "      <th>Unnamed: 0</th>\n",
       "      <th>PostId</th>\n",
       "      <th>UserId</th>\n",
       "      <th>Comment</th>\n",
       "      <th>Body</th>\n",
       "      <th>Title</th>\n",
       "      <th>Tags</th>\n",
       "      <th>Reputation</th>\n",
       "      <th>experienceInTime</th>\n",
       "      <th>WebsiteUrl</th>\n",
       "      <th>...</th>\n",
       "      <th>sentencesStartWithYouCount</th>\n",
       "      <th>sentencesStartWithICount</th>\n",
       "      <th>shortWordCount</th>\n",
       "      <th>bodyWordCount</th>\n",
       "      <th>punctuationCount</th>\n",
       "      <th>websiteUrlFilled</th>\n",
       "      <th>locationFilled</th>\n",
       "      <th>aboutMeFilled</th>\n",
       "      <th>profileImageUrlFilled</th>\n",
       "      <th>tagWeightSum</th>\n",
       "    </tr>\n",
       "  </thead>\n",
       "  <tbody>\n",
       "    <tr>\n",
       "      <th>0</th>\n",
       "      <td>0</td>\n",
       "      <td>21170255</td>\n",
       "      <td>5921</td>\n",
       "      <td>102</td>\n",
       "      <td>&lt;p&gt;I tried to Google for this, but was (surpri...</td>\n",
       "      <td>Can anyone point me to (or post) an array of e...</td>\n",
       "      <td>&lt;javascript&gt;&lt;html&gt;&lt;arrays&gt;&lt;tags&gt;</td>\n",
       "      <td>17527</td>\n",
       "      <td>1953</td>\n",
       "      <td>NaN</td>\n",
       "      <td>...</td>\n",
       "      <td>0</td>\n",
       "      <td>3</td>\n",
       "      <td>87</td>\n",
       "      <td>176</td>\n",
       "      <td>50</td>\n",
       "      <td>0</td>\n",
       "      <td>1</td>\n",
       "      <td>1</td>\n",
       "      <td>0</td>\n",
       "      <td>-207.161031</td>\n",
       "    </tr>\n",
       "    <tr>\n",
       "      <th>1</th>\n",
       "      <td>1</td>\n",
       "      <td>38290647</td>\n",
       "      <td>1601251</td>\n",
       "      <td>102</td>\n",
       "      <td>&lt;p&gt;I am at a decision fork where i have to pic...</td>\n",
       "      <td>RESTful API with either Tomcat or Node.js?</td>\n",
       "      <td>&lt;java&gt;&lt;node.js&gt;&lt;rest&gt;&lt;tomcat&gt;&lt;typescript&gt;</td>\n",
       "      <td>151</td>\n",
       "      <td>1425</td>\n",
       "      <td>NaN</td>\n",
       "      <td>...</td>\n",
       "      <td>0</td>\n",
       "      <td>1</td>\n",
       "      <td>51</td>\n",
       "      <td>118</td>\n",
       "      <td>19</td>\n",
       "      <td>0</td>\n",
       "      <td>0</td>\n",
       "      <td>0</td>\n",
       "      <td>0</td>\n",
       "      <td>-536.990588</td>\n",
       "    </tr>\n",
       "    <tr>\n",
       "      <th>2</th>\n",
       "      <td>2</td>\n",
       "      <td>6496114</td>\n",
       "      <td>52924</td>\n",
       "      <td>102</td>\n",
       "      <td>&lt;p&gt;Does anyone know of a good tool to test Sch...</td>\n",
       "      <td>Tool for testing Schema.org markup</td>\n",
       "      <td>&lt;testing&gt;&lt;markup&gt;&lt;schema.org&gt;</td>\n",
       "      <td>1639</td>\n",
       "      <td>900</td>\n",
       "      <td>http://www.agendarecife.com</td>\n",
       "      <td>...</td>\n",
       "      <td>0</td>\n",
       "      <td>0</td>\n",
       "      <td>15</td>\n",
       "      <td>50</td>\n",
       "      <td>17</td>\n",
       "      <td>1</td>\n",
       "      <td>1</td>\n",
       "      <td>1</td>\n",
       "      <td>0</td>\n",
       "      <td>-160.004636</td>\n",
       "    </tr>\n",
       "    <tr>\n",
       "      <th>3</th>\n",
       "      <td>3</td>\n",
       "      <td>25982771</td>\n",
       "      <td>1968462</td>\n",
       "      <td>102</td>\n",
       "      <td>&lt;p&gt;The &lt;a href=\"http://www.postgresql.org/docs...</td>\n",
       "      <td>Inserting into simple Postgres views</td>\n",
       "      <td>&lt;sql&gt;&lt;postgresql&gt;</td>\n",
       "      <td>2669</td>\n",
       "      <td>620</td>\n",
       "      <td>https://katrinahoffert.github.io/</td>\n",
       "      <td>...</td>\n",
       "      <td>0</td>\n",
       "      <td>2</td>\n",
       "      <td>70</td>\n",
       "      <td>189</td>\n",
       "      <td>45</td>\n",
       "      <td>1</td>\n",
       "      <td>1</td>\n",
       "      <td>1</td>\n",
       "      <td>1</td>\n",
       "      <td>-188.646160</td>\n",
       "    </tr>\n",
       "    <tr>\n",
       "      <th>4</th>\n",
       "      <td>4</td>\n",
       "      <td>10142243</td>\n",
       "      <td>383479</td>\n",
       "      <td>102</td>\n",
       "      <td>&lt;p&gt;Which frameworks would you recommend for wr...</td>\n",
       "      <td>Frameworks for Unittests for Multithreading in...</td>\n",
       "      <td>&lt;java&gt;&lt;multithreading&gt;&lt;unit-testing&gt;&lt;concurrency&gt;</td>\n",
       "      <td>245</td>\n",
       "      <td>648</td>\n",
       "      <td>NaN</td>\n",
       "      <td>...</td>\n",
       "      <td>0</td>\n",
       "      <td>0</td>\n",
       "      <td>31</td>\n",
       "      <td>68</td>\n",
       "      <td>11</td>\n",
       "      <td>0</td>\n",
       "      <td>0</td>\n",
       "      <td>0</td>\n",
       "      <td>0</td>\n",
       "      <td>-274.409048</td>\n",
       "    </tr>\n",
       "  </tbody>\n",
       "</table>\n",
       "<p>5 rows × 36 columns</p>\n",
       "</div>"
      ],
      "text/plain": [
       "   Unnamed: 0    PostId   UserId  Comment  \\\n",
       "0           0  21170255     5921      102   \n",
       "1           1  38290647  1601251      102   \n",
       "2           2   6496114    52924      102   \n",
       "3           3  25982771  1968462      102   \n",
       "4           4  10142243   383479      102   \n",
       "\n",
       "                                                Body  \\\n",
       "0  <p>I tried to Google for this, but was (surpri...   \n",
       "1  <p>I am at a decision fork where i have to pic...   \n",
       "2  <p>Does anyone know of a good tool to test Sch...   \n",
       "3  <p>The <a href=\"http://www.postgresql.org/docs...   \n",
       "4  <p>Which frameworks would you recommend for wr...   \n",
       "\n",
       "                                               Title  \\\n",
       "0  Can anyone point me to (or post) an array of e...   \n",
       "1         RESTful API with either Tomcat or Node.js?   \n",
       "2                 Tool for testing Schema.org markup   \n",
       "3               Inserting into simple Postgres views   \n",
       "4  Frameworks for Unittests for Multithreading in...   \n",
       "\n",
       "                                                Tags  Reputation  \\\n",
       "0                   <javascript><html><arrays><tags>       17527   \n",
       "1          <java><node.js><rest><tomcat><typescript>         151   \n",
       "2                      <testing><markup><schema.org>        1639   \n",
       "3                                  <sql><postgresql>        2669   \n",
       "4  <java><multithreading><unit-testing><concurrency>         245   \n",
       "\n",
       "   experienceInTime                         WebsiteUrl      ...       \\\n",
       "0              1953                                NaN      ...        \n",
       "1              1425                                NaN      ...        \n",
       "2               900        http://www.agendarecife.com      ...        \n",
       "3               620  https://katrinahoffert.github.io/      ...        \n",
       "4               648                                NaN      ...        \n",
       "\n",
       "  sentencesStartWithYouCount sentencesStartWithICount  shortWordCount  \\\n",
       "0                          0                        3              87   \n",
       "1                          0                        1              51   \n",
       "2                          0                        0              15   \n",
       "3                          0                        2              70   \n",
       "4                          0                        0              31   \n",
       "\n",
       "   bodyWordCount  punctuationCount websiteUrlFilled  locationFilled  \\\n",
       "0            176                50                0               1   \n",
       "1            118                19                0               0   \n",
       "2             50                17                1               1   \n",
       "3            189                45                1               1   \n",
       "4             68                11                0               0   \n",
       "\n",
       "   aboutMeFilled  profileImageUrlFilled  tagWeightSum  \n",
       "0              1                      0   -207.161031  \n",
       "1              0                      0   -536.990588  \n",
       "2              1                      0   -160.004636  \n",
       "3              1                      1   -188.646160  \n",
       "4              0                      0   -274.409048  \n",
       "\n",
       "[5 rows x 36 columns]"
      ]
     },
     "execution_count": 2,
     "metadata": {},
     "output_type": "execute_result"
    }
   ],
   "source": [
    "#3 rows deleted:\n",
    "#20484\t,RegEx used to extract tokens from an ASCIIMath expression\"\t11\t\t1\t0\t0\thttps://i.stack.imgur.com/6VcaB.png\t\t\t\t\t\t\t\t\t0\t1\t\t0\t0\t0\t0\t0\t1\t0\t0\t0\t1\t1\t0\t0\t0\t0\t0\n",
    "#71350\t,Bootstrap modal wont trigger on mobile\"\t443\tLake Mary, FL, United States\t85\t165\t11\thttps://i.stack.imgur.com/TLzJW.png?s=128&g=1\t\t\t\t\t\t\t\t\t0\t1\t\t0\t0\t0\t0\t0\t3\t0\t0\t0\t1\t1\t0\t0\t0\t0\t0\n",
    "#60036\t<p>from group \"\"Value\"\" i can get the value of hour and it gives output as 1\t3\t2\t4\t5\t6 and so on for each generator name but since no of hour is common to all i need that i get it only once that is i should get 1\t2\t5\t6 only once</p>\t\t\t\t\t\t\t0\t1\t\t0\t0\t0\t0\t0\t1\t0\t0\t0\t1\t1\t0\t1\t0\t0\t0\n",
    "\n",
    "openCloseData=pd.read_csv(\"openCloseData.csv\")\n",
    "openCloseData.head()"
   ]
  },
  {
   "cell_type": "code",
   "execution_count": 3,
   "metadata": {},
   "outputs": [
    {
     "name": "stdout",
     "output_type": "stream",
     "text": [
      "(159996, 36)\n",
      "(159996, 35)\n"
     ]
    }
   ],
   "source": [
    "print(openCloseData.shape)\n",
    "openCloseData.drop(['Unnamed: 0'],inplace=True,axis=1)\n",
    "print(openCloseData.shape)\n",
    "#Actually 4 rows are removed"
   ]
  },
  {
   "cell_type": "code",
   "execution_count": 4,
   "metadata": {},
   "outputs": [
    {
     "data": {
      "text/plain": [
       "Index(['PostId', 'UserId', 'Comment', 'Body', 'Title', 'Tags', 'Reputation',\n",
       "       'experienceInTime', 'WebsiteUrl', 'Location', 'AboutMe', 'Views',\n",
       "       'Upvotes', 'Downvotes', 'ProfileImageUrl', 'tagCount', 'closed',\n",
       "       'lowerUpperRatio', 'sentenceCount', 'firstLineLength', 'codeLength',\n",
       "       'urlCount', 'SOUrlCount', 'titleLengthInChars',\n",
       "       'countOfInterrogativeSent', 'sentencesStartWithYouCount',\n",
       "       'sentencesStartWithICount', 'shortWordCount', 'bodyWordCount',\n",
       "       'punctuationCount', 'websiteUrlFilled', 'locationFilled',\n",
       "       'aboutMeFilled', 'profileImageUrlFilled', 'tagWeightSum'],\n",
       "      dtype='object')"
      ]
     },
     "execution_count": 4,
     "metadata": {},
     "output_type": "execute_result"
    }
   ],
   "source": [
    "openCloseData.columns"
   ]
  },
  {
   "cell_type": "code",
   "execution_count": 5,
   "metadata": {},
   "outputs": [
    {
     "name": "stdout",
     "output_type": "stream",
     "text": [
      "(159996, 35)\n"
     ]
    }
   ],
   "source": [
    "#https://stackoverflow.com/questions/33961028/remove-non-numeric-rows-in-one-column-with-pandas\n",
    "print(openCloseData.shape)\n",
    "#openCloseData[openCloseData.Reputation.apply(lambda x: x.isnumeric())]\n",
    "#print(openCloseData.dtypes)\n",
    "#print(openCloseData.shape)"
   ]
  },
  {
   "cell_type": "markdown",
   "metadata": {},
   "source": [
    "### ADDING MORE FEATURES"
   ]
  },
  {
   "cell_type": "code",
   "execution_count": 6,
   "metadata": {},
   "outputs": [],
   "source": [
    "# tagWeightData=pd.read_csv(\"tagWeightData.csv\")\n",
    "# print(tagWeightData.head())"
   ]
  },
  {
   "cell_type": "code",
   "execution_count": 7,
   "metadata": {},
   "outputs": [],
   "source": [
    "# import re\n",
    "# idx=0\n",
    "# def calculateTagWeight(tags):\n",
    "#     forClosed=re.findall('<(.*?)>',tags)\n",
    "#     forOpen=tags.split('|')\n",
    "#     #print(forClosed)\n",
    "#     #print(forOpen)\n",
    "#     if(len(forClosed) ):  #if we pass tags for open in close it won't work, but vice versa will work hence \n",
    "#         # this particular order of if-else \n",
    "#         tagList=forClosed\n",
    "#     elif(len(forOpen) ):\n",
    "#         tagList=forOpen\n",
    "#     #print(tagList)\n",
    "#     wt=0\n",
    "# #     for t in tagList:\n",
    "# #         #print(t)\n",
    "# #         try:\n",
    "            \n",
    "# #         except:\n",
    "# #             print(t)\n",
    "# #         print(wt)\n",
    "# #     print(\"check\")\n",
    "# #     if(idx%1000==0)print(idx)\n",
    "# #     idx+=1\n",
    "#     try:\n",
    "#         for t in tagList:\n",
    "#             wt=wt+tagWeightData[tagWeightData['TagName']==t][['tagWeight']].values[0]\n",
    "#     except:\n",
    "#         #print(tagList)\n",
    "#         pass\n",
    "#     return wt"
   ]
  },
  {
   "cell_type": "code",
   "execution_count": 8,
   "metadata": {},
   "outputs": [],
   "source": [
    "# import time\n",
    "# tic=time.time()\n",
    "# openCloseData['tagWeightSum']=openCloseData['Tags'].apply(calculateTagWeight) #tagClosingWeightSum\n",
    "# toc=time.time()\n",
    "# print(str((toc-tic)/60)+\"mins\")"
   ]
  },
  {
   "cell_type": "code",
   "execution_count": 9,
   "metadata": {},
   "outputs": [
    {
     "data": {
      "text/plain": [
       "Index(['PostId', 'UserId', 'Comment', 'Body', 'Title', 'Tags', 'Reputation',\n",
       "       'experienceInTime', 'WebsiteUrl', 'Location', 'AboutMe', 'Views',\n",
       "       'Upvotes', 'Downvotes', 'ProfileImageUrl', 'tagCount', 'closed',\n",
       "       'lowerUpperRatio', 'sentenceCount', 'firstLineLength', 'codeLength',\n",
       "       'urlCount', 'SOUrlCount', 'titleLengthInChars',\n",
       "       'countOfInterrogativeSent', 'sentencesStartWithYouCount',\n",
       "       'sentencesStartWithICount', 'shortWordCount', 'bodyWordCount',\n",
       "       'punctuationCount', 'websiteUrlFilled', 'locationFilled',\n",
       "       'aboutMeFilled', 'profileImageUrlFilled', 'tagWeightSum'],\n",
       "      dtype='object')"
      ]
     },
     "execution_count": 9,
     "metadata": {},
     "output_type": "execute_result"
    }
   ],
   "source": [
    "openCloseData.columns"
   ]
  },
  {
   "cell_type": "code",
   "execution_count": 10,
   "metadata": {},
   "outputs": [],
   "source": [
    "# openCloseData['tagWeightSum'][0][0]"
   ]
  },
  {
   "cell_type": "code",
   "execution_count": 11,
   "metadata": {},
   "outputs": [],
   "source": [
    "# openCloseData.head()"
   ]
  },
  {
   "cell_type": "code",
   "execution_count": 12,
   "metadata": {},
   "outputs": [],
   "source": [
    "# def getInitialEle(ar):\n",
    "#     #print(type(ar))\n",
    "#     return float(ar)\n",
    "\n",
    "# openCloseData['tagWeightSum']=openCloseData['tagWeightSum'].apply(getInitialEle)\n",
    "# print(openCloseData.head())"
   ]
  },
  {
   "cell_type": "code",
   "execution_count": 13,
   "metadata": {},
   "outputs": [],
   "source": [
    "# openCloseData.to_csv(\"openCloseData[35 cols].csv\")"
   ]
  },
  {
   "cell_type": "code",
   "execution_count": 63,
   "metadata": {},
   "outputs": [
    {
     "name": "stdout",
     "output_type": "stream",
     "text": [
      "(159996, 25)\n",
      "<class 'pandas.core.frame.DataFrame'>\n"
     ]
    }
   ],
   "source": [
    "X = openCloseData.loc[:,['Reputation',\n",
    "       'experienceInTime', 'Views',\n",
    "       'Upvotes', 'Downvotes', 'tagCount', 'closed',\n",
    "       'lowerUpperRatio', 'sentenceCount', 'firstLineLength', 'codeLength',\n",
    "       'urlCount', 'SOUrlCount', 'titleLengthInChars',\n",
    "       'countOfInterrogativeSent', 'sentencesStartWithYouCount',\n",
    "       'sentencesStartWithICount', 'shortWordCount', 'bodyWordCount',\n",
    "       'punctuationCount', 'websiteUrlFilled', 'locationFilled',\n",
    "       'aboutMeFilled', 'profileImageUrlFilled', 'tagWeightSum'] ]\n",
    "X.replace(np.nan,0,inplace=True)  #replacing NaN to 0\n",
    "X.lowerUpperRatio.replace(np.inf,0,inplace=True)  #replacing infinity to 0\n",
    "print(X.shape)\n",
    "print(type(X))"
   ]
  },
  {
   "cell_type": "code",
   "execution_count": 64,
   "metadata": {},
   "outputs": [
    {
     "data": {
      "text/html": [
       "<div>\n",
       "<style scoped>\n",
       "    .dataframe tbody tr th:only-of-type {\n",
       "        vertical-align: middle;\n",
       "    }\n",
       "\n",
       "    .dataframe tbody tr th {\n",
       "        vertical-align: top;\n",
       "    }\n",
       "\n",
       "    .dataframe thead th {\n",
       "        text-align: right;\n",
       "    }\n",
       "</style>\n",
       "<table border=\"1\" class=\"dataframe\">\n",
       "  <thead>\n",
       "    <tr style=\"text-align: right;\">\n",
       "      <th></th>\n",
       "      <th>Reputation</th>\n",
       "      <th>experienceInTime</th>\n",
       "      <th>Views</th>\n",
       "      <th>Upvotes</th>\n",
       "      <th>Downvotes</th>\n",
       "      <th>tagCount</th>\n",
       "      <th>closed</th>\n",
       "      <th>lowerUpperRatio</th>\n",
       "      <th>sentenceCount</th>\n",
       "      <th>firstLineLength</th>\n",
       "      <th>...</th>\n",
       "      <th>sentencesStartWithYouCount</th>\n",
       "      <th>sentencesStartWithICount</th>\n",
       "      <th>shortWordCount</th>\n",
       "      <th>bodyWordCount</th>\n",
       "      <th>punctuationCount</th>\n",
       "      <th>websiteUrlFilled</th>\n",
       "      <th>locationFilled</th>\n",
       "      <th>aboutMeFilled</th>\n",
       "      <th>profileImageUrlFilled</th>\n",
       "      <th>tagWeightSum</th>\n",
       "    </tr>\n",
       "  </thead>\n",
       "  <tbody>\n",
       "    <tr>\n",
       "      <th>0</th>\n",
       "      <td>17527</td>\n",
       "      <td>1953</td>\n",
       "      <td>2765</td>\n",
       "      <td>2005</td>\n",
       "      <td>119</td>\n",
       "      <td>4</td>\n",
       "      <td>1</td>\n",
       "      <td>27.074074</td>\n",
       "      <td>9</td>\n",
       "      <td>69</td>\n",
       "      <td>...</td>\n",
       "      <td>0</td>\n",
       "      <td>3</td>\n",
       "      <td>87</td>\n",
       "      <td>176</td>\n",
       "      <td>50</td>\n",
       "      <td>0</td>\n",
       "      <td>1</td>\n",
       "      <td>1</td>\n",
       "      <td>0</td>\n",
       "      <td>-207.161031</td>\n",
       "    </tr>\n",
       "    <tr>\n",
       "      <th>1</th>\n",
       "      <td>151</td>\n",
       "      <td>1425</td>\n",
       "      <td>32</td>\n",
       "      <td>16</td>\n",
       "      <td>0</td>\n",
       "      <td>5</td>\n",
       "      <td>1</td>\n",
       "      <td>17.275862</td>\n",
       "      <td>10</td>\n",
       "      <td>75</td>\n",
       "      <td>...</td>\n",
       "      <td>0</td>\n",
       "      <td>1</td>\n",
       "      <td>51</td>\n",
       "      <td>118</td>\n",
       "      <td>19</td>\n",
       "      <td>0</td>\n",
       "      <td>0</td>\n",
       "      <td>0</td>\n",
       "      <td>0</td>\n",
       "      <td>-536.990588</td>\n",
       "    </tr>\n",
       "    <tr>\n",
       "      <th>2</th>\n",
       "      <td>1639</td>\n",
       "      <td>900</td>\n",
       "      <td>208</td>\n",
       "      <td>75</td>\n",
       "      <td>1</td>\n",
       "      <td>3</td>\n",
       "      <td>1</td>\n",
       "      <td>27.666667</td>\n",
       "      <td>4</td>\n",
       "      <td>79</td>\n",
       "      <td>...</td>\n",
       "      <td>0</td>\n",
       "      <td>0</td>\n",
       "      <td>15</td>\n",
       "      <td>50</td>\n",
       "      <td>17</td>\n",
       "      <td>1</td>\n",
       "      <td>1</td>\n",
       "      <td>1</td>\n",
       "      <td>0</td>\n",
       "      <td>-160.004636</td>\n",
       "    </tr>\n",
       "    <tr>\n",
       "      <th>3</th>\n",
       "      <td>2669</td>\n",
       "      <td>620</td>\n",
       "      <td>658</td>\n",
       "      <td>282</td>\n",
       "      <td>11</td>\n",
       "      <td>2</td>\n",
       "      <td>1</td>\n",
       "      <td>2.843537</td>\n",
       "      <td>7</td>\n",
       "      <td>198</td>\n",
       "      <td>...</td>\n",
       "      <td>0</td>\n",
       "      <td>2</td>\n",
       "      <td>70</td>\n",
       "      <td>189</td>\n",
       "      <td>45</td>\n",
       "      <td>1</td>\n",
       "      <td>1</td>\n",
       "      <td>1</td>\n",
       "      <td>1</td>\n",
       "      <td>-188.646160</td>\n",
       "    </tr>\n",
       "    <tr>\n",
       "      <th>4</th>\n",
       "      <td>245</td>\n",
       "      <td>648</td>\n",
       "      <td>78</td>\n",
       "      <td>14</td>\n",
       "      <td>0</td>\n",
       "      <td>4</td>\n",
       "      <td>1</td>\n",
       "      <td>98.666667</td>\n",
       "      <td>2</td>\n",
       "      <td>92</td>\n",
       "      <td>...</td>\n",
       "      <td>0</td>\n",
       "      <td>0</td>\n",
       "      <td>31</td>\n",
       "      <td>68</td>\n",
       "      <td>11</td>\n",
       "      <td>0</td>\n",
       "      <td>0</td>\n",
       "      <td>0</td>\n",
       "      <td>0</td>\n",
       "      <td>-274.409048</td>\n",
       "    </tr>\n",
       "  </tbody>\n",
       "</table>\n",
       "<p>5 rows × 25 columns</p>\n",
       "</div>"
      ],
      "text/plain": [
       "   Reputation  experienceInTime  Views  Upvotes  Downvotes  tagCount  closed  \\\n",
       "0       17527              1953   2765     2005        119         4       1   \n",
       "1         151              1425     32       16          0         5       1   \n",
       "2        1639               900    208       75          1         3       1   \n",
       "3        2669               620    658      282         11         2       1   \n",
       "4         245               648     78       14          0         4       1   \n",
       "\n",
       "   lowerUpperRatio  sentenceCount  firstLineLength      ...       \\\n",
       "0        27.074074              9               69      ...        \n",
       "1        17.275862             10               75      ...        \n",
       "2        27.666667              4               79      ...        \n",
       "3         2.843537              7              198      ...        \n",
       "4        98.666667              2               92      ...        \n",
       "\n",
       "   sentencesStartWithYouCount  sentencesStartWithICount  shortWordCount  \\\n",
       "0                           0                         3              87   \n",
       "1                           0                         1              51   \n",
       "2                           0                         0              15   \n",
       "3                           0                         2              70   \n",
       "4                           0                         0              31   \n",
       "\n",
       "   bodyWordCount  punctuationCount  websiteUrlFilled  locationFilled  \\\n",
       "0            176                50                 0               1   \n",
       "1            118                19                 0               0   \n",
       "2             50                17                 1               1   \n",
       "3            189                45                 1               1   \n",
       "4             68                11                 0               0   \n",
       "\n",
       "   aboutMeFilled  profileImageUrlFilled  tagWeightSum  \n",
       "0              1                      0   -207.161031  \n",
       "1              0                      0   -536.990588  \n",
       "2              1                      0   -160.004636  \n",
       "3              1                      1   -188.646160  \n",
       "4              0                      0   -274.409048  \n",
       "\n",
       "[5 rows x 25 columns]"
      ]
     },
     "execution_count": 64,
     "metadata": {},
     "output_type": "execute_result"
    }
   ],
   "source": [
    "X.head()"
   ]
  },
  {
   "cell_type": "code",
   "execution_count": 65,
   "metadata": {},
   "outputs": [
    {
     "data": {
      "text/html": [
       "<div>\n",
       "<style scoped>\n",
       "    .dataframe tbody tr th:only-of-type {\n",
       "        vertical-align: middle;\n",
       "    }\n",
       "\n",
       "    .dataframe tbody tr th {\n",
       "        vertical-align: top;\n",
       "    }\n",
       "\n",
       "    .dataframe thead th {\n",
       "        text-align: right;\n",
       "    }\n",
       "</style>\n",
       "<table border=\"1\" class=\"dataframe\">\n",
       "  <thead>\n",
       "    <tr style=\"text-align: right;\">\n",
       "      <th></th>\n",
       "      <th>Reputation</th>\n",
       "      <th>experienceInTime</th>\n",
       "      <th>Views</th>\n",
       "      <th>Upvotes</th>\n",
       "      <th>Downvotes</th>\n",
       "      <th>tagCount</th>\n",
       "      <th>closed</th>\n",
       "      <th>lowerUpperRatio</th>\n",
       "      <th>sentenceCount</th>\n",
       "      <th>firstLineLength</th>\n",
       "      <th>...</th>\n",
       "      <th>sentencesStartWithYouCount</th>\n",
       "      <th>sentencesStartWithICount</th>\n",
       "      <th>shortWordCount</th>\n",
       "      <th>bodyWordCount</th>\n",
       "      <th>punctuationCount</th>\n",
       "      <th>websiteUrlFilled</th>\n",
       "      <th>locationFilled</th>\n",
       "      <th>aboutMeFilled</th>\n",
       "      <th>profileImageUrlFilled</th>\n",
       "      <th>tagWeightSum</th>\n",
       "    </tr>\n",
       "  </thead>\n",
       "  <tbody>\n",
       "  </tbody>\n",
       "</table>\n",
       "<p>0 rows × 25 columns</p>\n",
       "</div>"
      ],
      "text/plain": [
       "Empty DataFrame\n",
       "Columns: [Reputation, experienceInTime, Views, Upvotes, Downvotes, tagCount, closed, lowerUpperRatio, sentenceCount, firstLineLength, codeLength, urlCount, SOUrlCount, titleLengthInChars, countOfInterrogativeSent, sentencesStartWithYouCount, sentencesStartWithICount, shortWordCount, bodyWordCount, punctuationCount, websiteUrlFilled, locationFilled, aboutMeFilled, profileImageUrlFilled, tagWeightSum]\n",
       "Index: []\n",
       "\n",
       "[0 rows x 25 columns]"
      ]
     },
     "execution_count": 65,
     "metadata": {},
     "output_type": "execute_result"
    }
   ],
   "source": [
    "X[np.isinf(X).any(axis=1)]"
   ]
  },
  {
   "cell_type": "code",
   "execution_count": 66,
   "metadata": {},
   "outputs": [
    {
     "name": "stdout",
     "output_type": "stream",
     "text": [
      "(159996,)\n"
     ]
    }
   ],
   "source": [
    "y = X.closed\n",
    "X.drop(['closed'],inplace=True,axis=1)\n",
    "print(y.shape)"
   ]
  },
  {
   "cell_type": "markdown",
   "metadata": {},
   "source": [
    "### MEAN NORMALIZATION of X"
   ]
  },
  {
   "cell_type": "code",
   "execution_count": 67,
   "metadata": {},
   "outputs": [
    {
     "data": {
      "text/plain": [
       "Index(['Reputation', 'experienceInTime', 'Views', 'Upvotes', 'Downvotes',\n",
       "       'tagCount', 'lowerUpperRatio', 'sentenceCount', 'firstLineLength',\n",
       "       'codeLength', 'urlCount', 'SOUrlCount', 'titleLengthInChars',\n",
       "       'countOfInterrogativeSent', 'sentencesStartWithYouCount',\n",
       "       'sentencesStartWithICount', 'shortWordCount', 'bodyWordCount',\n",
       "       'punctuationCount', 'websiteUrlFilled', 'locationFilled',\n",
       "       'aboutMeFilled', 'profileImageUrlFilled', 'tagWeightSum'],\n",
       "      dtype='object')"
      ]
     },
     "execution_count": 67,
     "metadata": {},
     "output_type": "execute_result"
    }
   ],
   "source": [
    "X.columns"
   ]
  },
  {
   "cell_type": "code",
   "execution_count": 68,
   "metadata": {},
   "outputs": [
    {
     "name": "stdout",
     "output_type": "stream",
     "text": [
      "<class 'pandas.core.frame.DataFrame'>\n",
      "   Reputation  experienceInTime  Views  Upvotes  Downvotes  tagCount  \\\n",
      "0       17527              1953   2765     2005        119         4   \n",
      "1         151              1425     32       16          0         5   \n",
      "2        1639               900    208       75          1         3   \n",
      "3        2669               620    658      282         11         2   \n",
      "4         245               648     78       14          0         4   \n",
      "\n",
      "   lowerUpperRatio  sentenceCount  firstLineLength  codeLength      ...       \\\n",
      "0        27.074074              9               69          40      ...        \n",
      "1        17.275862             10               75           0      ...        \n",
      "2        27.666667              4               79           0      ...        \n",
      "3         2.843537              7              198         661      ...        \n",
      "4        98.666667              2               92           0      ...        \n",
      "\n",
      "   sentencesStartWithYouCount  sentencesStartWithICount  shortWordCount  \\\n",
      "0                           0                         3              87   \n",
      "1                           0                         1              51   \n",
      "2                           0                         0              15   \n",
      "3                           0                         2              70   \n",
      "4                           0                         0              31   \n",
      "\n",
      "   bodyWordCount  punctuationCount  websiteUrlFilled  locationFilled  \\\n",
      "0            176                50                 0               1   \n",
      "1            118                19                 0               0   \n",
      "2             50                17                 1               1   \n",
      "3            189                45                 1               1   \n",
      "4             68                11                 0               0   \n",
      "\n",
      "   aboutMeFilled  profileImageUrlFilled  tagWeightSum  \n",
      "0              1                      0   -207.161031  \n",
      "1              0                      0   -536.990588  \n",
      "2              1                      0   -160.004636  \n",
      "3              1                      1   -188.646160  \n",
      "4              0                      0   -274.409048  \n",
      "\n",
      "[5 rows x 24 columns]\n"
     ]
    }
   ],
   "source": [
    "print(type(X))\n",
    "print(X.head())"
   ]
  },
  {
   "cell_type": "code",
   "execution_count": 69,
   "metadata": {},
   "outputs": [
    {
     "name": "stdout",
     "output_type": "stream",
     "text": [
      "<class 'numpy.ndarray'>\n"
     ]
    }
   ],
   "source": [
    "#x=(x-u)/std\n",
    "\n",
    "from sklearn.preprocessing import StandardScaler\n",
    "scaler = StandardScaler()\n",
    "#print(scaler.fit(X))\n",
    "#print(scaler.mean_)\n",
    "X=scaler.fit_transform(X)\n",
    "print(type(X))\n",
    "X = pd.DataFrame(X, columns=['Reputation', 'experienceInTime', 'Views', 'Upvotes', 'Downvotes',\n",
    "       'tagCount', 'lowerUpperRatio', 'sentenceCount', 'firstLineLength',\n",
    "       'codeLength', 'urlCount', 'SOUrlCount', 'titleLengthInChars',\n",
    "       'countOfInterrogativeSent', 'sentencesStartWithYouCount',\n",
    "       'sentencesStartWithICount', 'shortWordCount', 'bodyWordCount',\n",
    "       'punctuationCount', 'websiteUrlFilled', 'locationFilled',\n",
    "       'aboutMeFilled', 'profileImageUrlFilled', 'tagWeightSum'])"
   ]
  },
  {
   "cell_type": "code",
   "execution_count": 70,
   "metadata": {},
   "outputs": [
    {
     "name": "stdout",
     "output_type": "stream",
     "text": [
      "   Reputation  experienceInTime     Views   Upvotes  Downvotes  tagCount  \\\n",
      "0    1.432738          2.465146  1.435231  2.289324   0.290707  0.892056   \n",
      "1   -0.172483          1.563097 -0.156726 -0.270553  -0.065531  1.707299   \n",
      "2   -0.035019          0.666172 -0.054207 -0.194619  -0.062537  0.076813   \n",
      "3    0.060134          0.187813  0.207916  0.071794  -0.032601 -0.738430   \n",
      "4   -0.163799          0.235649 -0.129931 -0.273127  -0.065531  0.892056   \n",
      "\n",
      "   lowerUpperRatio  sentenceCount  firstLineLength  codeLength      ...       \\\n",
      "0        -0.042663      -0.156798        -0.283030   -0.366570      ...        \n",
      "1        -0.383563      -0.133287        -0.241211   -0.394312      ...        \n",
      "2        -0.022045      -0.274350        -0.213331   -0.394312      ...        \n",
      "3        -0.885693      -0.203819         0.616087    0.064136      ...        \n",
      "4         2.448191      -0.321371        -0.122723   -0.394312      ...        \n",
      "\n",
      "   sentencesStartWithYouCount  sentencesStartWithICount  shortWordCount  \\\n",
      "0                   -0.027334                  1.285423        0.151836   \n",
      "1                   -0.027334                 -0.327971       -0.211144   \n",
      "2                   -0.027334                 -1.134668       -0.574123   \n",
      "3                   -0.027334                  0.478726       -0.019571   \n",
      "4                   -0.027334                 -1.134668       -0.412799   \n",
      "\n",
      "   bodyWordCount  punctuationCount  websiteUrlFilled  locationFilled  \\\n",
      "0       0.200394          0.046470         -0.459965        1.244623   \n",
      "1      -0.172881         -0.170823         -0.459965       -0.803456   \n",
      "2      -0.610514         -0.184842          2.174079        1.244623   \n",
      "3       0.284060          0.011423          2.174079        1.244623   \n",
      "4      -0.494670         -0.226899         -0.459965       -0.803456   \n",
      "\n",
      "   aboutMeFilled  profileImageUrlFilled  tagWeightSum  \n",
      "0       1.562819              -1.467841      0.176386  \n",
      "1      -0.639869              -1.467841     -1.362468  \n",
      "2       1.562819              -1.467841      0.396399  \n",
      "3       1.562819               0.681273      0.262769  \n",
      "4      -0.639869              -1.467841     -0.137367  \n",
      "\n",
      "[5 rows x 24 columns]\n"
     ]
    }
   ],
   "source": [
    "print(X.head())"
   ]
  },
  {
   "cell_type": "code",
   "execution_count": 71,
   "metadata": {},
   "outputs": [
    {
     "name": "stdout",
     "output_type": "stream",
     "text": [
      "(111997, 24)\n",
      "(111997,)\n",
      "(47999, 24)\n",
      "(47999,)\n"
     ]
    }
   ],
   "source": [
    "#Train/Test Split\n",
    "X_train,X_test,y_train,y_test=train_test_split(X,y,test_size=0.3,random_state=42)\n",
    "print(X_train.shape)\n",
    "print(y_train.shape)\n",
    "print(X_test.shape)\n",
    "print(y_test.shape)"
   ]
  },
  {
   "cell_type": "markdown",
   "metadata": {},
   "source": [
    "### LOGISTIC REGRESSION"
   ]
  },
  {
   "cell_type": "code",
   "execution_count": 72,
   "metadata": {},
   "outputs": [
    {
     "data": {
      "text/plain": [
       "LogisticRegression(C=1.0, class_weight=None, dual=False, fit_intercept=True,\n",
       "          intercept_scaling=1, max_iter=100, multi_class='ovr', n_jobs=1,\n",
       "          penalty='l2', random_state=None, solver='liblinear', tol=0.0001,\n",
       "          verbose=0, warm_start=False)"
      ]
     },
     "execution_count": 72,
     "metadata": {},
     "output_type": "execute_result"
    }
   ],
   "source": [
    "logreg=LogisticRegression()\n",
    "logreg.fit(X_train,y_train)"
   ]
  },
  {
   "cell_type": "code",
   "execution_count": 73,
   "metadata": {},
   "outputs": [
    {
     "name": "stdout",
     "output_type": "stream",
     "text": [
      "(47999,)\n"
     ]
    }
   ],
   "source": [
    "y_pred=logreg.predict(X_test)\n",
    "print(y_pred.shape)"
   ]
  },
  {
   "cell_type": "code",
   "execution_count": 74,
   "metadata": {},
   "outputs": [
    {
     "data": {
      "text/plain": [
       "0.8540177920373341"
      ]
     },
     "execution_count": 74,
     "metadata": {},
     "output_type": "execute_result"
    }
   ],
   "source": [
    "#Accuracy\n",
    "np.mean(y_pred==y_test)\n",
    "#Accuracy with 23 features: 0.8399341652951103\n",
    "#Accuracy after adding tagClosingWeightSum (24 features): 0.8365590949811454\n",
    "#After scaling\n",
    "#24 features: 0.8540177920373341"
   ]
  },
  {
   "cell_type": "code",
   "execution_count": 75,
   "metadata": {},
   "outputs": [
    {
     "name": "stdout",
     "output_type": "stream",
     "text": [
      "             precision    recall  f1-score   support\n",
      "\n",
      "          0       0.89      0.81      0.85     24085\n",
      "          1       0.82      0.90      0.86     23914\n",
      "\n",
      "avg / total       0.86      0.85      0.85     47999\n",
      "\n",
      "Precision: 0.8572664777052081\n",
      "Recall: 0.8541877649634044\n",
      "F1 Score:0.8537259468886165\n",
      "(0.8572664777052081, 0.8541877649634044, 0.8537259468886165, None)\n"
     ]
    }
   ],
   "source": [
    "print(classification_report(y_test,y_pred) )\n",
    "print(\"Precision: \"+str(precision_score(y_test, y_pred, average='macro')) )\n",
    "print(\"Recall: \"+str(recall_score(y_test, y_pred, average='macro')) )\n",
    "print(\"F1 Score:\"+str(f1_score(y_test, y_pred, average='macro')) )\n",
    "print(precision_recall_fscore_support(y_test, y_pred, average='macro') )\n",
    "# Precision, recall, fscore, support in order"
   ]
  },
  {
   "cell_type": "markdown",
   "metadata": {},
   "source": [
    "### LASSO REGULARIZATION"
   ]
  },
  {
   "cell_type": "code",
   "execution_count": 77,
   "metadata": {},
   "outputs": [
    {
     "name": "stdout",
     "output_type": "stream",
     "text": [
      "[1, 2, 3, 4, 5, 6, 7, 8, 9, 10, 11, 12, 13, 14, 15, 16, 17, 18, 19, 20, 21, 22, 23, 24, 25, 26, 27, 28, 29, 30, 31, 32, 33, 34, 35, 36, 37, 38, 39, 40, 41, 42, 43, 44, 45, 46, 47, 48, 49]\n",
      "lambda=1 c=1.0 Accuracy:0.8542261297110356\n",
      "lambda=2 c=0.5 Accuracy:0.8541636284089252\n",
      "lambda=3 c=0.3333333333333333 Accuracy:0.8541636284089252\n",
      "lambda=4 c=0.25 Accuracy:0.8541219608741849\n",
      "lambda=5 c=0.2 Accuracy:0.8540802933394446\n",
      "lambda=6 c=0.16666666666666666 Accuracy:0.8540594595720744\n",
      "lambda=7 c=0.14285714285714285 Accuracy:0.8539552907352237\n",
      "lambda=8 c=0.125 Accuracy:0.8538927894331132\n",
      "lambda=9 c=0.1111111111111111 Accuracy:0.8538094543636325\n",
      "lambda=10 c=0.1 Accuracy:0.8538302881310027\n",
      "lambda=11 c=0.09090909090909091 Accuracy:0.8537469530615222\n",
      "lambda=12 c=0.08333333333333333 Accuracy:0.8536844517594117\n",
      "lambda=13 c=0.07692307692307693 Accuracy:0.853726119294152\n",
      "lambda=14 c=0.07142857142857142 Accuracy:0.8536844517594117\n",
      "lambda=15 c=0.06666666666666667 Accuracy:0.8537052855267818\n",
      "lambda=16 c=0.0625 Accuracy:0.8536636179920415\n",
      "lambda=17 c=0.058823529411764705 Accuracy:0.8536219504573012\n",
      "lambda=18 c=0.05555555555555555 Accuracy:0.8535177816204504\n",
      "lambda=19 c=0.05263157894736842 Accuracy:0.8534969478530803\n",
      "lambda=20 c=0.05 Accuracy:0.8535177816204504\n",
      "lambda=21 c=0.047619047619047616 Accuracy:0.8533927790162295\n",
      "lambda=22 c=0.045454545454545456 Accuracy:0.8533927790162295\n",
      "lambda=23 c=0.043478260869565216 Accuracy:0.8533927790162295\n",
      "lambda=24 c=0.041666666666666664 Accuracy:0.8533302777141191\n",
      "lambda=25 c=0.04 Accuracy:0.8532677764120086\n",
      "lambda=26 c=0.038461538461538464 Accuracy:0.8532261088772682\n",
      "lambda=27 c=0.037037037037037035 Accuracy:0.8532052751098981\n",
      "lambda=28 c=0.03571428571428571 Accuracy:0.8532052751098981\n",
      "lambda=29 c=0.034482758620689655 Accuracy:0.8532677764120086\n",
      "lambda=30 c=0.03333333333333333 Accuracy:0.8532469426446384\n",
      "lambda=31 c=0.03225806451612903 Accuracy:0.853184441342528\n",
      "lambda=32 c=0.03125 Accuracy:0.8531427738077877\n",
      "lambda=33 c=0.030303030303030304 Accuracy:0.8531219400404175\n",
      "lambda=34 c=0.029411764705882353 Accuracy:0.8530177712035667\n",
      "lambda=35 c=0.02857142857142857 Accuracy:0.8529761036688265\n",
      "lambda=36 c=0.027777777777777776 Accuracy:0.8529969374361965\n",
      "lambda=37 c=0.02702702702702703 Accuracy:0.8528719348319757\n",
      "lambda=38 c=0.02631578947368421 Accuracy:0.8527677659951249\n",
      "lambda=39 c=0.02564102564102564 Accuracy:0.8527677659951249\n",
      "lambda=40 c=0.025 Accuracy:0.8527469322277548\n",
      "lambda=41 c=0.024390243902439025 Accuracy:0.8526635971582741\n",
      "lambda=42 c=0.023809523809523808 Accuracy:0.8525802620887936\n",
      "lambda=43 c=0.023255813953488372 Accuracy:0.8525385945540532\n",
      "lambda=44 c=0.022727272727272728 Accuracy:0.8525177607866831\n",
      "lambda=45 c=0.022222222222222223 Accuracy:0.8524969270193129\n",
      "lambda=46 c=0.021739130434782608 Accuracy:0.8524135919498322\n",
      "lambda=47 c=0.02127659574468085 Accuracy:0.8523927581824622\n",
      "lambda=48 c=0.020833333333333332 Accuracy:0.852371924415092\n",
      "lambda=49 c=0.02040816326530612 Accuracy:0.8522885893456114\n"
     ]
    }
   ],
   "source": [
    "lambdas=list(range(1,50,1))\n",
    "print(lambdas)\n",
    "for l in lambdas:\n",
    "    lassoLogReg=LogisticRegression(penalty=\"l1\",C=1/l)\n",
    "    lassoLogReg.fit(X_train,y_train)\n",
    "    y_pred=lassoLogReg.predict(X_test)\n",
    "    #print(y_pred.shape)\n",
    "    #Accuracy\n",
    "    print(\"lambda=\"+str(l)+\" c=\"+str(1/l)+\" Accuracy:\"+str(np.mean(y_pred==y_test)))\n",
    "#for 23 features: highest accuracy obt was for lambda=650 c=0.0015384615384615385 Accuracy:0.8463926331798579\n",
    "#for 24 features: highest accuracy obt was for lambda=500 c=0.002 Accuracy:0.8551636492426925\n",
    "#if we increase lambda very much then too accuracy will reduce because of underfitting\n",
    "\n",
    "#After scaling:\n",
    "#24 features: "
   ]
  },
  {
   "cell_type": "code",
   "execution_count": 24,
   "metadata": {},
   "outputs": [],
   "source": [
    "#print(classification_report(y_test,y_pred))"
   ]
  },
  {
   "cell_type": "markdown",
   "metadata": {},
   "source": [
    "### RIGDE REGULARIZATION"
   ]
  },
  {
   "cell_type": "code",
   "execution_count": 78,
   "metadata": {},
   "outputs": [
    {
     "name": "stdout",
     "output_type": "stream",
     "text": [
      "[0.001, 0.01, 0.1, 1, 10, 100, 1000]\n",
      "lambda=0.001 c=1000.0 Accuracy:0.854267797245776\n",
      "lambda=0.01 c=100.0 Accuracy:0.8542469634784058\n",
      "lambda=0.1 c=10.0 Accuracy:0.8542052959436655\n",
      "lambda=1 c=1.0 Accuracy:0.8540177920373341\n",
      "lambda=10 c=0.1 Accuracy:0.8513927373486948\n",
      "lambda=100 c=0.01 Accuracy:0.8388508093918623\n",
      "lambda=1000 c=0.001 Accuracy:0.8026208879351653\n"
     ]
    }
   ],
   "source": [
    "#lambdas=list(range(1,50,2))\n",
    "lambdas=[0.001, 0.01, 0.1, 1, 10, 100, 1000]\n",
    "print(lambdas)\n",
    "for l in lambdas:\n",
    "    ridgeLogReg=LogisticRegression(penalty=\"l2\",C=1/l)\n",
    "    ridgeLogReg.fit(X_train,y_train)\n",
    "    y_pred=ridgeLogReg.predict(X_test)\n",
    "    #print(y_pred.shape)\n",
    "    #Accuracy\n",
    "    print(\"lambda=\"+str(l)+\" c=\"+str(1/l)+\" Accuracy:\"+str(np.mean(y_pred==y_test)))\n",
    "    \n",
    "#for 24 features: highest accuracy obt was for:"
   ]
  },
  {
   "cell_type": "markdown",
   "metadata": {},
   "source": [
    "### GRID SEARCH CV"
   ]
  },
  {
   "cell_type": "code",
   "execution_count": 26,
   "metadata": {},
   "outputs": [
    {
     "name": "stdout",
     "output_type": "stream",
     "text": [
      "{'C': 0.01, 'penalty': 'l1'}\n"
     ]
    }
   ],
   "source": [
    "# from sklearn.model_selection import GridSearchCV\n",
    "# param_grid={'C': [0.001, 0.01, 0.1, 1, 10, 100, 1000],'penalty':['l1','l2'] }\n",
    "# gridSearch=GridSearchCV(LogisticRegression(), param_grid,cv=5) #5 fold cross validation\n",
    "# gridSearch.fit(X_train,y_train) \n",
    "# print(gridSearch.best_params_)"
   ]
  },
  {
   "cell_type": "code",
   "execution_count": 27,
   "metadata": {},
   "outputs": [
    {
     "name": "stdout",
     "output_type": "stream",
     "text": [
      "0.8547469738952895\n"
     ]
    }
   ],
   "source": [
    "# #print(gridSearch.best_score_)\n",
    "# y_pred=gridSearch.predict(X_test)\n",
    "# #Accuracy on never seen before test set\n",
    "# print(np.mean(y_pred==y_test))"
   ]
  },
  {
   "cell_type": "code",
   "execution_count": 28,
   "metadata": {},
   "outputs": [],
   "source": [
    "#Best params obtained: {'C': 0.01, 'penalty': 'l1'}\n",
    "#Accuracy obt: 0.845038438300798\n",
    "#Accuracy obt for 24 features: 0.8547469738952895"
   ]
  },
  {
   "cell_type": "markdown",
   "metadata": {},
   "source": [
    "### STOCHASTIC GRADIENT DESCENT"
   ]
  },
  {
   "cell_type": "code",
   "execution_count": 79,
   "metadata": {},
   "outputs": [
    {
     "data": {
      "text/plain": [
       "SGDClassifier(alpha=0.0001, average=False, class_weight=None, epsilon=0.1,\n",
       "       eta0=0.0, fit_intercept=True, l1_ratio=0.15,\n",
       "       learning_rate='optimal', loss='log', max_iter=5000, n_iter=None,\n",
       "       n_jobs=1, penalty='l2', power_t=0.5, random_state=None,\n",
       "       shuffle=True, tol=None, verbose=0, warm_start=False)"
      ]
     },
     "execution_count": 79,
     "metadata": {},
     "output_type": "execute_result"
    }
   ],
   "source": [
    "#https://scikit-learn.org/stable/modules/generated/sklearn.linear_model.SGDClassifier.html#sklearn.linear_model.SGDClassifier\n",
    "from sklearn.linear_model import SGDClassifier\n",
    "sgd=SGDClassifier(loss=\"log\",max_iter=5000) #logistic regression\n",
    "sgd.fit(X_train,y_train)"
   ]
  },
  {
   "cell_type": "code",
   "execution_count": 80,
   "metadata": {},
   "outputs": [
    {
     "name": "stdout",
     "output_type": "stream",
     "text": [
      "(47999,)\n"
     ]
    }
   ],
   "source": [
    "y_pred=sgd.predict(X_test)\n",
    "print(y_pred.shape)"
   ]
  },
  {
   "cell_type": "code",
   "execution_count": 81,
   "metadata": {},
   "outputs": [
    {
     "data": {
      "text/plain": [
       "0.8508718931644409"
      ]
     },
     "execution_count": 81,
     "metadata": {},
     "output_type": "execute_result"
    }
   ],
   "source": [
    "#Accuracy\n",
    "np.mean(y_pred==y_test)\n",
    "#for 23 features: with max_iter=5000 Accuracy is:0.8080793349861456\n",
    "#for 24 features: with max_iter=5000 Accuracy is:0.8219962915894081\n",
    "#After scaling:\n",
    "#24 features: with max_iter=5000 Accuracy is: 0.8508718931644409"
   ]
  },
  {
   "cell_type": "code",
   "execution_count": 82,
   "metadata": {},
   "outputs": [
    {
     "name": "stdout",
     "output_type": "stream",
     "text": [
      "             precision    recall  f1-score   support\n",
      "\n",
      "          0       0.89      0.80      0.84     24085\n",
      "          1       0.82      0.90      0.86     23914\n",
      "\n",
      "avg / total       0.85      0.85      0.85     47999\n",
      "\n",
      "Precision: 0.8543984858116309\n",
      "Recall: 0.8510496195548407\n",
      "F1 Score:0.8505437763121149\n",
      "(0.8543984858116309, 0.8510496195548407, 0.8505437763121149, None)\n"
     ]
    }
   ],
   "source": [
    "print(classification_report(y_test,y_pred) )\n",
    "print(\"Precision: \"+str(precision_score(y_test, y_pred, average='macro')) )\n",
    "print(\"Recall: \"+str(recall_score(y_test, y_pred, average='macro')) )\n",
    "print(\"F1 Score:\"+str(f1_score(y_test, y_pred, average='macro')) )\n",
    "print(precision_recall_fscore_support(y_test, y_pred, average='macro') )\n",
    "# Precision, recall, fscore, support in order"
   ]
  },
  {
   "cell_type": "code",
   "execution_count": 83,
   "metadata": {
    "scrolled": true
   },
   "outputs": [
    {
     "data": {
      "text/plain": [
       "{'alpha': 0.0001,\n",
       " 'average': False,\n",
       " 'class_weight': None,\n",
       " 'epsilon': 0.1,\n",
       " 'eta0': 0.0,\n",
       " 'fit_intercept': True,\n",
       " 'l1_ratio': 0.15,\n",
       " 'learning_rate': 'optimal',\n",
       " 'loss': 'log',\n",
       " 'max_iter': 5000,\n",
       " 'n_iter': None,\n",
       " 'n_jobs': 1,\n",
       " 'penalty': 'l2',\n",
       " 'power_t': 0.5,\n",
       " 'random_state': None,\n",
       " 'shuffle': True,\n",
       " 'tol': None,\n",
       " 'verbose': 0,\n",
       " 'warm_start': False}"
      ]
     },
     "execution_count": 83,
     "metadata": {},
     "output_type": "execute_result"
    }
   ],
   "source": [
    "sgd.get_params() "
   ]
  },
  {
   "cell_type": "code",
   "execution_count": 84,
   "metadata": {},
   "outputs": [
    {
     "data": {
      "text/plain": [
       "array([[ 6.13575269e-02, -3.09795550e-01,  7.34380450e-02,\n",
       "        -2.06852869e-02, -3.33576816e-02,  4.01224398e-01,\n",
       "         1.20727018e-01, -4.09481018e+00, -8.82626233e-02,\n",
       "        -4.74971759e+00,  3.26149637e-02,  4.10411028e-01,\n",
       "        -4.74848453e-02,  3.95947485e-01,  3.79183425e-01,\n",
       "         6.89269745e-02, -2.51048040e+00,  2.85903448e-02,\n",
       "         1.12262169e+01,  1.58191059e-03,  1.35067296e-01,\n",
       "        -3.72941823e-03, -1.99002965e-01,  8.79334082e-01]])"
      ]
     },
     "execution_count": 84,
     "metadata": {},
     "output_type": "execute_result"
    }
   ],
   "source": [
    "sgd.coef_"
   ]
  },
  {
   "cell_type": "code",
   "execution_count": 85,
   "metadata": {},
   "outputs": [
    {
     "name": "stdout",
     "output_type": "stream",
     "text": [
      "Variable                          Type                  Data/Info\n",
      "-----------------------------------------------------------------\n",
      "GridSearchCV                      ABCMeta               <class 'sklearn.model_sel<...>on._search.GridSearchCV'>\n",
      "LogisticRegression                type                  <class 'sklearn.linear_mo<...>stic.LogisticRegression'>\n",
      "SGDClassifier                     ABCMeta               <class 'sklearn.linear_mo<...>_gradient.SGDClassifier'>\n",
      "StandardScaler                    type                  <class 'sklearn.preproces<...>ing.data.StandardScaler'>\n",
      "X                                 DataFrame                     Reputation  exper<...>159996 rows x 24 columns]\n",
      "X_test                            DataFrame                     Reputation  exper<...>[47999 rows x 24 columns]\n",
      "X_train                           DataFrame                     Reputation  exper<...>111997 rows x 24 columns]\n",
      "classification_report             function              <function classification_<...>rt at 0x0000000008F11E18>\n",
      "f1_score                          function              <function f1_score at 0x0000000008F11AE8>\n",
      "gridSearch                        GridSearchCV          GridSearchCV(cv=5, error_<...> scoring=None, verbose=0)\n",
      "l                                 int                   1000\n",
      "lambdas                           list                  n=7\n",
      "lassoLogReg                       LogisticRegression    LogisticRegression(C=0.02<...>bose=0, warm_start=False)\n",
      "logreg                            LogisticRegression    LogisticRegression(C=1.0,<...>bose=0, warm_start=False)\n",
      "np                                module                <module 'numpy' from 'C:\\<...>ges\\\\numpy\\\\__init__.py'>\n",
      "openCloseData                     DataFrame                       PostId   UserId<...>159996 rows x 35 columns]\n",
      "param_grid                        dict                  n=2\n",
      "pd                                module                <module 'pandas' from 'C:<...>es\\\\pandas\\\\__init__.py'>\n",
      "precision_recall_fscore_support   function              <function precision_recal<...>rt at 0x0000000008F11C80>\n",
      "precision_score                   function              <function precision_score at 0x0000000008F11D08>\n",
      "recall_score                      function              <function recall_score at 0x0000000008F11D90>\n",
      "ridgeLogReg                       LogisticRegression    LogisticRegression(C=0.00<...>bose=0, warm_start=False)\n",
      "scale                             function              <function scale at 0x0000000008E46E18>\n",
      "scaler                            StandardScaler        StandardScaler(copy=True,<...>mean=True, with_std=True)\n",
      "sgd                               SGDClassifier         SGDClassifier(alpha=0.000<...>bose=0, warm_start=False)\n",
      "train_test_split                  function              <function train_test_split at 0x0000000008EFA158>\n",
      "y                                 Series                0         1\\n1         1\\<...>gth: 159996, dtype: int64\n",
      "y_pred                            ndarray               47999: 47999 elems, type `int64`, 383992 bytes (374.9921875 kb)\n",
      "y_test                            Series                49889     1\\n32693     1\\<...>ngth: 47999, dtype: int64\n",
      "y_train                           Series                29416     1\\n58063     1\\<...>gth: 111997, dtype: int64\n"
     ]
    }
   ],
   "source": [
    "whos"
   ]
  },
  {
   "cell_type": "code",
   "execution_count": null,
   "metadata": {},
   "outputs": [],
   "source": []
  }
 ],
 "metadata": {
  "kernelspec": {
   "display_name": "Python 3",
   "language": "python",
   "name": "python3"
  },
  "language_info": {
   "codemirror_mode": {
    "name": "ipython",
    "version": 3
   },
   "file_extension": ".py",
   "mimetype": "text/x-python",
   "name": "python",
   "nbconvert_exporter": "python",
   "pygments_lexer": "ipython3",
   "version": "3.6.5"
  }
 },
 "nbformat": 4,
 "nbformat_minor": 2
}
