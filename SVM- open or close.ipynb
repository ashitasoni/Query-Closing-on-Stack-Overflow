{
 "cells": [
  {
   "cell_type": "code",
   "execution_count": 175,
   "metadata": {},
   "outputs": [],
   "source": [
    "import pandas as pd\n",
    "import numpy as np\n",
    "from sklearn.svm import LinearSVC\n",
    "from sklearn.model_selection import train_test_split\n",
    "from sklearn.metrics import classification_report"
   ]
  },
  {
   "cell_type": "code",
   "execution_count": 176,
   "metadata": {},
   "outputs": [
    {
     "name": "stderr",
     "output_type": "stream",
     "text": [
      "/home/nidhi/anaconda3/lib/python3.6/site-packages/IPython/core/interactiveshell.py:2785: DtypeWarning: Columns (1,3,7) have mixed types. Specify dtype option on import or set low_memory=False.\n",
      "  interactivity=interactivity, compiler=compiler, result=result)\n"
     ]
    }
   ],
   "source": [
    "openCloseData = pd.read_csv('openCloseData[34 columns].csv')"
   ]
  },
  {
   "cell_type": "code",
   "execution_count": 177,
   "metadata": {},
   "outputs": [
    {
     "data": {
      "text/plain": [
       "Index(['Unnamed: 0', 'PostId', 'UserId', 'Comment', 'Body', 'Title', 'Tags',\n",
       "       'Reputation', 'experienceInTime', 'WebsiteUrl', 'Location', 'AboutMe',\n",
       "       'Views', 'Upvotes', 'Downvotes', 'ProfileImageUrl', 'tagCount',\n",
       "       'closed', 'lowerUpperRatio', 'sentenceCount', 'firstLineLength',\n",
       "       'codeLength', 'urlCount', 'SOUrlCount', 'titleLengthInChars',\n",
       "       'countOfInterrogativeSent', 'sentencesStartWithYouCount',\n",
       "       'sentencesStartWithICount', 'shortWordCount', 'bodyWordCount',\n",
       "       'punctuationCount', 'websiteUrlFilled', 'locationFilled',\n",
       "       'aboutMeFilled', 'profileImageUrlFilled'],\n",
       "      dtype='object')"
      ]
     },
     "execution_count": 177,
     "metadata": {},
     "output_type": "execute_result"
    }
   ],
   "source": [
    "openCloseData.columns"
   ]
  },
  {
   "cell_type": "code",
   "execution_count": 178,
   "metadata": {},
   "outputs": [
    {
     "name": "stdout",
     "output_type": "stream",
     "text": [
      "(160000, 35)\n",
      "(160000, 34)\n"
     ]
    }
   ],
   "source": [
    "print(openCloseData.shape)\n",
    "openCloseData.drop(['Unnamed: 0'],inplace=True,axis=1)\n",
    "print(openCloseData.shape)"
   ]
  },
  {
   "cell_type": "code",
   "execution_count": 179,
   "metadata": {},
   "outputs": [
    {
     "data": {
      "text/html": [
       "<div>\n",
       "<style scoped>\n",
       "    .dataframe tbody tr th:only-of-type {\n",
       "        vertical-align: middle;\n",
       "    }\n",
       "\n",
       "    .dataframe tbody tr th {\n",
       "        vertical-align: top;\n",
       "    }\n",
       "\n",
       "    .dataframe thead th {\n",
       "        text-align: right;\n",
       "    }\n",
       "</style>\n",
       "<table border=\"1\" class=\"dataframe\">\n",
       "  <thead>\n",
       "    <tr style=\"text-align: right;\">\n",
       "      <th></th>\n",
       "      <th>PostId</th>\n",
       "      <th>UserId</th>\n",
       "      <th>Comment</th>\n",
       "      <th>Body</th>\n",
       "      <th>Title</th>\n",
       "      <th>Tags</th>\n",
       "      <th>Reputation</th>\n",
       "      <th>experienceInTime</th>\n",
       "      <th>WebsiteUrl</th>\n",
       "      <th>Location</th>\n",
       "      <th>...</th>\n",
       "      <th>countOfInterrogativeSent</th>\n",
       "      <th>sentencesStartWithYouCount</th>\n",
       "      <th>sentencesStartWithICount</th>\n",
       "      <th>shortWordCount</th>\n",
       "      <th>bodyWordCount</th>\n",
       "      <th>punctuationCount</th>\n",
       "      <th>websiteUrlFilled</th>\n",
       "      <th>locationFilled</th>\n",
       "      <th>aboutMeFilled</th>\n",
       "      <th>profileImageUrlFilled</th>\n",
       "    </tr>\n",
       "  </thead>\n",
       "  <tbody>\n",
       "    <tr>\n",
       "      <th>16861</th>\n",
       "      <td>,Bootstrap modal wont trigger on mobile\"</td>\n",
       "      <td>443.0</td>\n",
       "      <td>Lake Mary, FL, United States</td>\n",
       "      <td>85</td>\n",
       "      <td>165</td>\n",
       "      <td>11</td>\n",
       "      <td>https://i.stack.imgur.com/TLzJW.png?s=128&amp;g=1</td>\n",
       "      <td>NaN</td>\n",
       "      <td>NaN</td>\n",
       "      <td>NaN</td>\n",
       "      <td>...</td>\n",
       "      <td>0</td>\n",
       "      <td>0</td>\n",
       "      <td>0</td>\n",
       "      <td>1</td>\n",
       "      <td>1</td>\n",
       "      <td>0</td>\n",
       "      <td>0</td>\n",
       "      <td>0</td>\n",
       "      <td>0</td>\n",
       "      <td>0</td>\n",
       "    </tr>\n",
       "  </tbody>\n",
       "</table>\n",
       "<p>1 rows × 34 columns</p>\n",
       "</div>"
      ],
      "text/plain": [
       "                                         PostId  UserId  \\\n",
       "16861  ,Bootstrap modal wont trigger on mobile\"   443.0   \n",
       "\n",
       "                            Comment Body Title Tags  \\\n",
       "16861  Lake Mary, FL, United States   85   165   11   \n",
       "\n",
       "                                          Reputation  experienceInTime  \\\n",
       "16861  https://i.stack.imgur.com/TLzJW.png?s=128&g=1               NaN   \n",
       "\n",
       "      WebsiteUrl Location          ...           countOfInterrogativeSent  \\\n",
       "16861        NaN      NaN          ...                                  0   \n",
       "\n",
       "       sentencesStartWithYouCount  sentencesStartWithICount  shortWordCount  \\\n",
       "16861                           0                         0               1   \n",
       "\n",
       "      bodyWordCount  punctuationCount  websiteUrlFilled  locationFilled  \\\n",
       "16861             1                 0                 0               0   \n",
       "\n",
       "       aboutMeFilled  profileImageUrlFilled  \n",
       "16861              0                      0  \n",
       "\n",
       "[1 rows x 34 columns]"
      ]
     },
     "execution_count": 179,
     "metadata": {},
     "output_type": "execute_result"
    }
   ],
   "source": [
    "# openCloseData.dtypes\n",
    "# openCloseData.loc[openCloseData['Reputation'] == 'https://i.stack.imgur.com/TLzJW.png?s=128&g=1']\n",
    "openCloseData.loc[openCloseData['UserId'] == 443]"
   ]
  },
  {
   "cell_type": "code",
   "execution_count": 180,
   "metadata": {},
   "outputs": [
    {
     "data": {
      "text/html": [
       "<div>\n",
       "<style scoped>\n",
       "    .dataframe tbody tr th:only-of-type {\n",
       "        vertical-align: middle;\n",
       "    }\n",
       "\n",
       "    .dataframe tbody tr th {\n",
       "        vertical-align: top;\n",
       "    }\n",
       "\n",
       "    .dataframe thead th {\n",
       "        text-align: right;\n",
       "    }\n",
       "</style>\n",
       "<table border=\"1\" class=\"dataframe\">\n",
       "  <thead>\n",
       "    <tr style=\"text-align: right;\">\n",
       "      <th></th>\n",
       "      <th>PostId</th>\n",
       "      <th>UserId</th>\n",
       "      <th>Comment</th>\n",
       "      <th>Body</th>\n",
       "      <th>Title</th>\n",
       "      <th>Tags</th>\n",
       "      <th>Reputation</th>\n",
       "      <th>experienceInTime</th>\n",
       "      <th>WebsiteUrl</th>\n",
       "      <th>Location</th>\n",
       "      <th>...</th>\n",
       "      <th>countOfInterrogativeSent</th>\n",
       "      <th>sentencesStartWithYouCount</th>\n",
       "      <th>sentencesStartWithICount</th>\n",
       "      <th>shortWordCount</th>\n",
       "      <th>bodyWordCount</th>\n",
       "      <th>punctuationCount</th>\n",
       "      <th>websiteUrlFilled</th>\n",
       "      <th>locationFilled</th>\n",
       "      <th>aboutMeFilled</th>\n",
       "      <th>profileImageUrlFilled</th>\n",
       "    </tr>\n",
       "  </thead>\n",
       "  <tbody>\n",
       "    <tr>\n",
       "      <th>59813</th>\n",
       "      <td>,RegEx used to extract tokens from an ASCIIMat...</td>\n",
       "      <td>11.0</td>\n",
       "      <td>NaN</td>\n",
       "      <td>1</td>\n",
       "      <td>0</td>\n",
       "      <td>0</td>\n",
       "      <td>https://i.stack.imgur.com/6VcaB.png</td>\n",
       "      <td>NaN</td>\n",
       "      <td>NaN</td>\n",
       "      <td>NaN</td>\n",
       "      <td>...</td>\n",
       "      <td>0</td>\n",
       "      <td>0</td>\n",
       "      <td>0</td>\n",
       "      <td>1</td>\n",
       "      <td>1</td>\n",
       "      <td>0</td>\n",
       "      <td>0</td>\n",
       "      <td>0</td>\n",
       "      <td>0</td>\n",
       "      <td>0</td>\n",
       "    </tr>\n",
       "  </tbody>\n",
       "</table>\n",
       "<p>1 rows × 34 columns</p>\n",
       "</div>"
      ],
      "text/plain": [
       "                                                  PostId  UserId Comment Body  \\\n",
       "59813  ,RegEx used to extract tokens from an ASCIIMat...    11.0     NaN    1   \n",
       "\n",
       "      Title Tags                           Reputation  experienceInTime  \\\n",
       "59813     0    0  https://i.stack.imgur.com/6VcaB.png               NaN   \n",
       "\n",
       "      WebsiteUrl Location          ...           countOfInterrogativeSent  \\\n",
       "59813        NaN      NaN          ...                                  0   \n",
       "\n",
       "       sentencesStartWithYouCount  sentencesStartWithICount  shortWordCount  \\\n",
       "59813                           0                         0               1   \n",
       "\n",
       "      bodyWordCount  punctuationCount  websiteUrlFilled  locationFilled  \\\n",
       "59813             1                 0                 0               0   \n",
       "\n",
       "       aboutMeFilled  profileImageUrlFilled  \n",
       "59813              0                      0  \n",
       "\n",
       "[1 rows x 34 columns]"
      ]
     },
     "execution_count": 180,
     "metadata": {},
     "output_type": "execute_result"
    }
   ],
   "source": [
    "openCloseData.loc[openCloseData['UserId'] == 11] "
   ]
  },
  {
   "cell_type": "code",
   "execution_count": 181,
   "metadata": {},
   "outputs": [
    {
     "name": "stdout",
     "output_type": "stream",
     "text": [
      "(159998, 34)\n"
     ]
    }
   ],
   "source": [
    "openCloseData = openCloseData.drop([59813, 16861])\n",
    "print(openCloseData.shape)"
   ]
  },
  {
   "cell_type": "code",
   "execution_count": 182,
   "metadata": {},
   "outputs": [
    {
     "name": "stdout",
     "output_type": "stream",
     "text": [
      "(159998, 24)\n",
      "<class 'pandas.core.frame.DataFrame'>\n"
     ]
    }
   ],
   "source": [
    "X = openCloseData.loc[:,['Reputation',\n",
    "       'experienceInTime', 'Views',\n",
    "       'Upvotes', 'Downvotes', 'tagCount', 'closed',\n",
    "       'lowerUpperRatio', 'sentenceCount', 'firstLineLength', 'codeLength',\n",
    "       'urlCount', 'SOUrlCount', 'titleLengthInChars',\n",
    "       'countOfInterrogativeSent', 'sentencesStartWithYouCount',\n",
    "       'sentencesStartWithICount', 'shortWordCount', 'bodyWordCount',\n",
    "       'punctuationCount', 'websiteUrlFilled', 'locationFilled',\n",
    "       'aboutMeFilled', 'profileImageUrlFilled'] ]\n",
    "# X['Reputation'] = pd.to_numeric(X['Reputation'])\n",
    "X.replace(np.nan,0,inplace=True)  #replacing NaN to 0\n",
    "X.lowerUpperRatio.replace(np.inf,0,inplace=True)  #replacing infinity to 0\n",
    "print(X.shape)\n",
    "print(type(X))"
   ]
  },
  {
   "cell_type": "code",
   "execution_count": 183,
   "metadata": {},
   "outputs": [
    {
     "data": {
      "text/plain": [
       "Reputation                     object\n",
       "experienceInTime              float64\n",
       "Views                         float64\n",
       "Upvotes                       float64\n",
       "Downvotes                     float64\n",
       "tagCount                        int64\n",
       "closed                          int64\n",
       "lowerUpperRatio               float64\n",
       "sentenceCount                   int64\n",
       "firstLineLength                 int64\n",
       "codeLength                      int64\n",
       "urlCount                        int64\n",
       "SOUrlCount                      int64\n",
       "titleLengthInChars              int64\n",
       "countOfInterrogativeSent        int64\n",
       "sentencesStartWithYouCount      int64\n",
       "sentencesStartWithICount        int64\n",
       "shortWordCount                  int64\n",
       "bodyWordCount                   int64\n",
       "punctuationCount                int64\n",
       "websiteUrlFilled                int64\n",
       "locationFilled                  int64\n",
       "aboutMeFilled                   int64\n",
       "profileImageUrlFilled           int64\n",
       "dtype: object"
      ]
     },
     "execution_count": 183,
     "metadata": {},
     "output_type": "execute_result"
    }
   ],
   "source": [
    "X.dtypes"
   ]
  },
  {
   "cell_type": "code",
   "execution_count": 184,
   "metadata": {},
   "outputs": [
    {
     "name": "stdout",
     "output_type": "stream",
     "text": [
      "(159998,)\n",
      "(159998, 23)\n"
     ]
    }
   ],
   "source": [
    "y = X.closed\n",
    "X.drop(['closed'],inplace=True,axis=1)\n",
    "print(y.shape)\n",
    "print(X.shape)"
   ]
  },
  {
   "cell_type": "code",
   "execution_count": 185,
   "metadata": {},
   "outputs": [],
   "source": [
    "#Train/Test Split\n",
    "X_train,X_test,y_train,y_test=train_test_split(X,y,test_size=0.3,random_state=42)"
   ]
  },
  {
   "cell_type": "code",
   "execution_count": 186,
   "metadata": {
    "scrolled": true
   },
   "outputs": [
    {
     "name": "stdout",
     "output_type": "stream",
     "text": [
      "       Reputation  experienceInTime  Views  Upvotes  Downvotes  tagCount  \\\n",
      "58064           8               0.0    1.0      0.0        0.0         4   \n",
      "62208        1025              98.0  116.0    169.0        6.0         2   \n",
      "14790          17             282.0   30.0      4.0        0.0         1   \n",
      "152756        154             510.0   74.0     14.0        1.0         5   \n",
      "56206          50              39.0   45.0      1.0        0.0         3   \n",
      "\n",
      "        lowerUpperRatio  sentenceCount  firstLineLength  codeLength  \\\n",
      "58064         35.125000              5               54           0   \n",
      "62208         20.130435             13               28         340   \n",
      "14790         30.400000              0                0          80   \n",
      "152756        24.800000              4              153          71   \n",
      "56206          9.571429              4              118           0   \n",
      "\n",
      "                ...            countOfInterrogativeSent  \\\n",
      "58064           ...                                   2   \n",
      "62208           ...                                   1   \n",
      "14790           ...                                   0   \n",
      "152756          ...                                   0   \n",
      "56206           ...                                   1   \n",
      "\n",
      "        sentencesStartWithYouCount  sentencesStartWithICount  shortWordCount  \\\n",
      "58064                            0                         2              32   \n",
      "62208                            0                         2              50   \n",
      "14790                            0                         0              14   \n",
      "152756                           0                         0              24   \n",
      "56206                            0                         2              24   \n",
      "\n",
      "        bodyWordCount  punctuationCount  websiteUrlFilled  locationFilled  \\\n",
      "58064              63                11                 0               0   \n",
      "62208             111                30                 0               0   \n",
      "14790              39                34                 0               0   \n",
      "152756             70                 4                 0               1   \n",
      "56206              55                 5                 0               0   \n",
      "\n",
      "        aboutMeFilled  profileImageUrlFilled  \n",
      "58064               0                      1  \n",
      "62208               0                      0  \n",
      "14790               0                      1  \n",
      "152756              1                      1  \n",
      "56206               0                      1  \n",
      "\n",
      "[5 rows x 23 columns]\n"
     ]
    }
   ],
   "source": [
    "print(X_train.head())"
   ]
  },
  {
   "cell_type": "code",
   "execution_count": 187,
   "metadata": {},
   "outputs": [
    {
     "name": "stdout",
     "output_type": "stream",
     "text": [
      "(111998, 23)\n"
     ]
    }
   ],
   "source": [
    "print(X_train.shape)"
   ]
  },
  {
   "cell_type": "code",
   "execution_count": 193,
   "metadata": {},
   "outputs": [],
   "source": [
    "# for c in np.arange(0.2, 1.0, 0.5)\n",
    "classifier = LinearSVC(C = 0.9)"
   ]
  },
  {
   "cell_type": "code",
   "execution_count": 194,
   "metadata": {},
   "outputs": [
    {
     "data": {
      "text/plain": [
       "LinearSVC(C=0.9, class_weight=None, dual=True, fit_intercept=True,\n",
       "     intercept_scaling=1, loss='squared_hinge', max_iter=1000,\n",
       "     multi_class='ovr', penalty='l2', random_state=None, tol=0.0001,\n",
       "     verbose=0)"
      ]
     },
     "execution_count": 194,
     "metadata": {},
     "output_type": "execute_result"
    }
   ],
   "source": [
    "classifier.fit(X_train, y_train)"
   ]
  },
  {
   "cell_type": "code",
   "execution_count": 195,
   "metadata": {},
   "outputs": [
    {
     "name": "stdout",
     "output_type": "stream",
     "text": [
      "(48000,)\n"
     ]
    }
   ],
   "source": [
    "predicted_y_test = classifier.predict(X_test)\n",
    "print(predicted_y_test.shape)"
   ]
  },
  {
   "cell_type": "code",
   "execution_count": 196,
   "metadata": {},
   "outputs": [
    {
     "name": "stdout",
     "output_type": "stream",
     "text": [
      "0.753375\n"
     ]
    }
   ],
   "source": [
    "print(np.mean(y_test==predicted_y_test))"
   ]
  },
  {
   "cell_type": "code",
   "execution_count": 197,
   "metadata": {},
   "outputs": [
    {
     "name": "stdout",
     "output_type": "stream",
     "text": [
      "             precision    recall  f1-score   support\n",
      "\n",
      "          0       0.91      0.57      0.70     24090\n",
      "          1       0.68      0.94      0.79     23910\n",
      "\n",
      "avg / total       0.80      0.75      0.74     48000\n",
      "\n"
     ]
    }
   ],
   "source": [
    "print(classification_report(y_test,predicted_y_test))"
   ]
  },
  {
   "cell_type": "code",
   "execution_count": null,
   "metadata": {},
   "outputs": [],
   "source": []
  }
 ],
 "metadata": {
  "kernelspec": {
   "display_name": "Python 3",
   "language": "python",
   "name": "python3"
  },
  "language_info": {
   "codemirror_mode": {
    "name": "ipython",
    "version": 3
   },
   "file_extension": ".py",
   "mimetype": "text/x-python",
   "name": "python",
   "nbconvert_exporter": "python",
   "pygments_lexer": "ipython3",
   "version": "3.6.5"
  }
 },
 "nbformat": 4,
 "nbformat_minor": 2
}
