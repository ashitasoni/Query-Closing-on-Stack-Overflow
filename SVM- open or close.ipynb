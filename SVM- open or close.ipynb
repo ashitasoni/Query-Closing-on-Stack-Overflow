{
 "cells": [
  {
   "cell_type": "markdown",
   "metadata": {},
   "source": [
    "### SVM Classifiers for classification of open/close questions"
   ]
  },
  {
   "cell_type": "code",
   "execution_count": 1,
   "metadata": {
    "scrolled": false
   },
   "outputs": [],
   "source": [
    "import pandas as pd\n",
    "import numpy as np\n",
    "from sklearn.svm import LinearSVC\n",
    "from sklearn.model_selection import train_test_split\n",
    "from sklearn.metrics import classification_report\n",
    "import matplotlib.pyplot as plt"
   ]
  },
  {
   "cell_type": "code",
   "execution_count": 2,
   "metadata": {
    "scrolled": false
   },
   "outputs": [],
   "source": [
    "openCloseData = pd.read_csv('openCloseData.csv')"
   ]
  },
  {
   "cell_type": "code",
   "execution_count": 3,
   "metadata": {
    "scrolled": false
   },
   "outputs": [
    {
     "data": {
      "text/plain": [
       "Index(['Unnamed: 0', 'PostId', 'UserId', 'Comment', 'Body', 'Title', 'Tags',\n",
       "       'Reputation', 'experienceInTime', 'WebsiteUrl', 'Location', 'AboutMe',\n",
       "       'Views', 'Upvotes', 'Downvotes', 'ProfileImageUrl', 'tagCount',\n",
       "       'closed', 'lowerUpperRatio', 'sentenceCount', 'firstLineLength',\n",
       "       'codeLength', 'urlCount', 'SOUrlCount', 'titleLengthInChars',\n",
       "       'countOfInterrogativeSent', 'sentencesStartWithYouCount',\n",
       "       'sentencesStartWithICount', 'shortWordCount', 'bodyWordCount',\n",
       "       'punctuationCount', 'websiteUrlFilled', 'locationFilled',\n",
       "       'aboutMeFilled', 'profileImageUrlFilled'],\n",
       "      dtype='object')"
      ]
     },
     "execution_count": 3,
     "metadata": {},
     "output_type": "execute_result"
    }
   ],
   "source": [
    "openCloseData.columns"
   ]
  },
  {
   "cell_type": "code",
   "execution_count": 4,
   "metadata": {
    "scrolled": false
   },
   "outputs": [
    {
     "name": "stdout",
     "output_type": "stream",
     "text": [
      "(159996, 35)\n",
      "(159996, 34)\n"
     ]
    }
   ],
   "source": [
    "print(openCloseData.shape)\n",
    "openCloseData.drop(['Unnamed: 0'],inplace=True,axis=1)\n",
    "print(openCloseData.shape)"
   ]
  },
  {
   "cell_type": "code",
   "execution_count": 5,
   "metadata": {
    "scrolled": false
   },
   "outputs": [
    {
     "data": {
      "text/html": [
       "<div>\n",
       "<style scoped>\n",
       "    .dataframe tbody tr th:only-of-type {\n",
       "        vertical-align: middle;\n",
       "    }\n",
       "\n",
       "    .dataframe tbody tr th {\n",
       "        vertical-align: top;\n",
       "    }\n",
       "\n",
       "    .dataframe thead th {\n",
       "        text-align: right;\n",
       "    }\n",
       "</style>\n",
       "<table border=\"1\" class=\"dataframe\">\n",
       "  <thead>\n",
       "    <tr style=\"text-align: right;\">\n",
       "      <th></th>\n",
       "      <th>PostId</th>\n",
       "      <th>UserId</th>\n",
       "      <th>Comment</th>\n",
       "      <th>Body</th>\n",
       "      <th>Title</th>\n",
       "      <th>Tags</th>\n",
       "      <th>Reputation</th>\n",
       "      <th>experienceInTime</th>\n",
       "      <th>WebsiteUrl</th>\n",
       "      <th>Location</th>\n",
       "      <th>...</th>\n",
       "      <th>countOfInterrogativeSent</th>\n",
       "      <th>sentencesStartWithYouCount</th>\n",
       "      <th>sentencesStartWithICount</th>\n",
       "      <th>shortWordCount</th>\n",
       "      <th>bodyWordCount</th>\n",
       "      <th>punctuationCount</th>\n",
       "      <th>websiteUrlFilled</th>\n",
       "      <th>locationFilled</th>\n",
       "      <th>aboutMeFilled</th>\n",
       "      <th>profileImageUrlFilled</th>\n",
       "    </tr>\n",
       "  </thead>\n",
       "  <tbody>\n",
       "  </tbody>\n",
       "</table>\n",
       "<p>0 rows × 34 columns</p>\n",
       "</div>"
      ],
      "text/plain": [
       "Empty DataFrame\n",
       "Columns: [PostId, UserId, Comment, Body, Title, Tags, Reputation, experienceInTime, WebsiteUrl, Location, AboutMe, Views, Upvotes, Downvotes, ProfileImageUrl, tagCount, closed, lowerUpperRatio, sentenceCount, firstLineLength, codeLength, urlCount, SOUrlCount, titleLengthInChars, countOfInterrogativeSent, sentencesStartWithYouCount, sentencesStartWithICount, shortWordCount, bodyWordCount, punctuationCount, websiteUrlFilled, locationFilled, aboutMeFilled, profileImageUrlFilled]\n",
       "Index: []\n",
       "\n",
       "[0 rows x 34 columns]"
      ]
     },
     "execution_count": 5,
     "metadata": {},
     "output_type": "execute_result"
    }
   ],
   "source": [
    "# openCloseData.dtypes\n",
    "# openCloseData.loc[openCloseData['Reputation'] == 'https://i.stack.imgur.com/TLzJW.png?s=128&g=1']\n",
    "openCloseData.loc[openCloseData['UserId'] == 443]"
   ]
  },
  {
   "cell_type": "code",
   "execution_count": 6,
   "metadata": {
    "scrolled": false
   },
   "outputs": [
    {
     "data": {
      "text/html": [
       "<div>\n",
       "<style scoped>\n",
       "    .dataframe tbody tr th:only-of-type {\n",
       "        vertical-align: middle;\n",
       "    }\n",
       "\n",
       "    .dataframe tbody tr th {\n",
       "        vertical-align: top;\n",
       "    }\n",
       "\n",
       "    .dataframe thead th {\n",
       "        text-align: right;\n",
       "    }\n",
       "</style>\n",
       "<table border=\"1\" class=\"dataframe\">\n",
       "  <thead>\n",
       "    <tr style=\"text-align: right;\">\n",
       "      <th></th>\n",
       "      <th>PostId</th>\n",
       "      <th>UserId</th>\n",
       "      <th>Comment</th>\n",
       "      <th>Body</th>\n",
       "      <th>Title</th>\n",
       "      <th>Tags</th>\n",
       "      <th>Reputation</th>\n",
       "      <th>experienceInTime</th>\n",
       "      <th>WebsiteUrl</th>\n",
       "      <th>Location</th>\n",
       "      <th>...</th>\n",
       "      <th>countOfInterrogativeSent</th>\n",
       "      <th>sentencesStartWithYouCount</th>\n",
       "      <th>sentencesStartWithICount</th>\n",
       "      <th>shortWordCount</th>\n",
       "      <th>bodyWordCount</th>\n",
       "      <th>punctuationCount</th>\n",
       "      <th>websiteUrlFilled</th>\n",
       "      <th>locationFilled</th>\n",
       "      <th>aboutMeFilled</th>\n",
       "      <th>profileImageUrlFilled</th>\n",
       "    </tr>\n",
       "  </thead>\n",
       "  <tbody>\n",
       "  </tbody>\n",
       "</table>\n",
       "<p>0 rows × 34 columns</p>\n",
       "</div>"
      ],
      "text/plain": [
       "Empty DataFrame\n",
       "Columns: [PostId, UserId, Comment, Body, Title, Tags, Reputation, experienceInTime, WebsiteUrl, Location, AboutMe, Views, Upvotes, Downvotes, ProfileImageUrl, tagCount, closed, lowerUpperRatio, sentenceCount, firstLineLength, codeLength, urlCount, SOUrlCount, titleLengthInChars, countOfInterrogativeSent, sentencesStartWithYouCount, sentencesStartWithICount, shortWordCount, bodyWordCount, punctuationCount, websiteUrlFilled, locationFilled, aboutMeFilled, profileImageUrlFilled]\n",
       "Index: []\n",
       "\n",
       "[0 rows x 34 columns]"
      ]
     },
     "execution_count": 6,
     "metadata": {},
     "output_type": "execute_result"
    }
   ],
   "source": [
    "openCloseData.loc[openCloseData['UserId'] == 11] "
   ]
  },
  {
   "cell_type": "code",
   "execution_count": 7,
   "metadata": {
    "scrolled": false
   },
   "outputs": [
    {
     "name": "stdout",
     "output_type": "stream",
     "text": [
      "(159996, 34)\n"
     ]
    }
   ],
   "source": [
    "print(openCloseData.shape)"
   ]
  },
  {
   "cell_type": "code",
   "execution_count": 8,
   "metadata": {
    "scrolled": false
   },
   "outputs": [
    {
     "name": "stdout",
     "output_type": "stream",
     "text": [
      "(159996, 24)\n",
      "<class 'pandas.core.frame.DataFrame'>\n"
     ]
    }
   ],
   "source": [
    "X = openCloseData.loc[:,['Reputation',\n",
    "       'experienceInTime', 'Views',\n",
    "       'Upvotes', 'Downvotes', 'tagCount', 'closed',\n",
    "       'lowerUpperRatio', 'sentenceCount', 'firstLineLength', 'codeLength',\n",
    "       'urlCount', 'SOUrlCount', 'titleLengthInChars',\n",
    "       'countOfInterrogativeSent', 'sentencesStartWithYouCount',\n",
    "       'sentencesStartWithICount', 'shortWordCount', 'bodyWordCount',\n",
    "       'punctuationCount', 'websiteUrlFilled', 'locationFilled',\n",
    "       'aboutMeFilled', 'profileImageUrlFilled'] ]\n",
    "# X['Reputation'] = pd.to_numeric(X['Reputation'])\n",
    "X.replace(np.nan,0,inplace=True)  #replacing NaN to 0\n",
    "X.lowerUpperRatio.replace(np.inf,0,inplace=True)  #replacing infinity to 0\n",
    "print(X.shape)\n",
    "print(type(X))"
   ]
  },
  {
   "cell_type": "code",
   "execution_count": 9,
   "metadata": {
    "scrolled": false
   },
   "outputs": [
    {
     "data": {
      "text/plain": [
       "Reputation                      int64\n",
       "experienceInTime                int64\n",
       "Views                           int64\n",
       "Upvotes                         int64\n",
       "Downvotes                       int64\n",
       "tagCount                        int64\n",
       "closed                          int64\n",
       "lowerUpperRatio               float64\n",
       "sentenceCount                   int64\n",
       "firstLineLength                 int64\n",
       "codeLength                      int64\n",
       "urlCount                        int64\n",
       "SOUrlCount                      int64\n",
       "titleLengthInChars              int64\n",
       "countOfInterrogativeSent        int64\n",
       "sentencesStartWithYouCount      int64\n",
       "sentencesStartWithICount        int64\n",
       "shortWordCount                  int64\n",
       "bodyWordCount                   int64\n",
       "punctuationCount                int64\n",
       "websiteUrlFilled                int64\n",
       "locationFilled                  int64\n",
       "aboutMeFilled                   int64\n",
       "profileImageUrlFilled           int64\n",
       "dtype: object"
      ]
     },
     "execution_count": 9,
     "metadata": {},
     "output_type": "execute_result"
    }
   ],
   "source": [
    "X.dtypes"
   ]
  },
  {
   "cell_type": "code",
   "execution_count": 10,
   "metadata": {
    "scrolled": false
   },
   "outputs": [
    {
     "name": "stdout",
     "output_type": "stream",
     "text": [
      "(159996,)\n",
      "(159996, 23)\n"
     ]
    }
   ],
   "source": [
    "y = X.closed\n",
    "X.drop(['closed'],inplace=True,axis=1)\n",
    "print(y.shape)\n",
    "print(X.shape)"
   ]
  },
  {
   "cell_type": "code",
   "execution_count": 11,
   "metadata": {
    "scrolled": false
   },
   "outputs": [
    {
     "name": "stdout",
     "output_type": "stream",
     "text": [
      "<class 'numpy.ndarray'>\n"
     ]
    }
   ],
   "source": [
    "#x=(x-u)/std\n",
    "\n",
    "from sklearn.preprocessing import StandardScaler\n",
    "scaler = StandardScaler()\n",
    "#print(scaler.fit(X))\n",
    "#print(scaler.mean_)\n",
    "X=scaler.fit_transform(X)\n",
    "print(type(X))\n",
    "X = pd.DataFrame(X, columns=['Reputation', 'experienceInTime', 'Views', 'Upvotes', 'Downvotes',\n",
    "       'tagCount', 'lowerUpperRatio', 'sentenceCount', 'firstLineLength',\n",
    "       'codeLength', 'urlCount', 'SOUrlCount', 'titleLengthInChars',\n",
    "       'countOfInterrogativeSent', 'sentencesStartWithYouCount',\n",
    "       'sentencesStartWithICount', 'shortWordCount', 'bodyWordCount',\n",
    "       'punctuationCount', 'websiteUrlFilled', 'locationFilled',\n",
    "       'aboutMeFilled', 'profileImageUrlFilled'])"
   ]
  },
  {
   "cell_type": "code",
   "execution_count": 12,
   "metadata": {
    "scrolled": false
   },
   "outputs": [],
   "source": [
    "#Train/Test Split\n",
    "X_train,X_test,y_train,y_test=train_test_split(X,y,test_size=0.3,random_state=42)"
   ]
  },
  {
   "cell_type": "code",
   "execution_count": 13,
   "metadata": {
    "scrolled": true
   },
   "outputs": [
    {
     "name": "stdout",
     "output_type": "stream",
     "text": [
      "        Reputation  experienceInTime     Views   Upvotes  Downvotes  tagCount  \\\n",
      "29416    -0.115114          0.452619 -0.010520  0.398696  -0.053556 -0.738430   \n",
      "58063    -0.183569          0.678131 -0.169540 -0.230655  -0.065531 -1.553673   \n",
      "62206    -0.116962          0.013553 -0.106049 -0.059482   0.003322  0.892056   \n",
      "14790    -0.178488         -0.871412 -0.170123 -0.291145  -0.065531 -1.553673   \n",
      "152752   -0.172206         -0.000114 -0.132261 -0.273127  -0.062537  1.707299   \n",
      "\n",
      "        lowerUpperRatio  sentenceCount  firstLineLength  codeLength  \\\n",
      "29416          0.667997      -0.344881         3.634055   -0.049610   \n",
      "58063         -0.204290      -0.344881        -0.415458   -0.394312   \n",
      "62206          1.891518      -0.133287        -0.255151   -0.394312   \n",
      "14790         -0.271389      -0.250840         0.142134   -0.394312   \n",
      "152752        -0.121783      -0.274350         0.302441   -0.345069   \n",
      "\n",
      "                ...            countOfInterrogativeSent  \\\n",
      "29416           ...                            -0.55673   \n",
      "58063           ...                            -0.09101   \n",
      "62206           ...                            -0.09101   \n",
      "14790           ...                            -0.55673   \n",
      "152752          ...                            -0.55673   \n",
      "\n",
      "        sentencesStartWithYouCount  sentencesStartWithICount  shortWordCount  \\\n",
      "29416                    -0.027334                 -0.327971        0.020760   \n",
      "58063                    -0.027334                 -1.134668       -0.685033   \n",
      "62206                    -0.027334                 -0.327971       -0.463212   \n",
      "14790                    -0.027334                  0.478726       -0.362385   \n",
      "152752                   -0.027334                 -1.134668       -0.483378   \n",
      "\n",
      "        bodyWordCount  punctuationCount  websiteUrlFilled  locationFilled  \\\n",
      "29416       -0.385262          0.579190         -0.459965        1.244623   \n",
      "58063       -0.810023         -0.296994         -0.459965       -0.803456   \n",
      "62206       -0.513977         -0.086710         -0.459965        1.244623   \n",
      "14790       -0.481798         -0.226899         -0.459965       -0.803456   \n",
      "152752      -0.481798         -0.275965         -0.459965        1.244623   \n",
      "\n",
      "        aboutMeFilled  profileImageUrlFilled  \n",
      "29416        1.562819               0.681273  \n",
      "58063       -0.639869               0.681273  \n",
      "62206        1.562819               0.681273  \n",
      "14790       -0.639869               0.681273  \n",
      "152752       1.562819               0.681273  \n",
      "\n",
      "[5 rows x 23 columns]\n"
     ]
    }
   ],
   "source": [
    "print(X_train.head())"
   ]
  },
  {
   "cell_type": "code",
   "execution_count": 14,
   "metadata": {
    "scrolled": false
   },
   "outputs": [
    {
     "name": "stdout",
     "output_type": "stream",
     "text": [
      "(111997, 23)\n"
     ]
    }
   ],
   "source": [
    "print(X_train.shape)"
   ]
  },
  {
   "cell_type": "markdown",
   "metadata": {},
   "source": [
    "#### Using LinearSVC"
   ]
  },
  {
   "cell_type": "code",
   "execution_count": 15,
   "metadata": {
    "scrolled": false
   },
   "outputs": [
    {
     "name": "stdout",
     "output_type": "stream",
     "text": [
      "Accuracy for C = 1.0 is : 0.8191\n",
      "Accuracy for C = 1.5 is : 0.8214\n",
      "Accuracy for C = 2.0 is : 0.8230\n",
      "Accuracy for C = 2.5 is : 0.8240\n",
      "Accuracy for C = 3.0 is : 0.8252\n",
      "Accuracy for C = 3.5 is : 0.8264\n",
      "Accuracy for C = 4.0 is : 0.8275\n",
      "Accuracy for C = 4.5 is : 0.8275\n",
      "Accuracy for C = 5.0 is : 0.8276\n",
      "Accuracy for C = 5.5 is : 0.8292\n",
      "Accuracy for C = 6.0 is : 0.8309\n",
      "Accuracy for C = 6.5 is : 0.8293\n",
      "Accuracy for C = 7.0 is : 0.8263\n",
      "Accuracy for C = 7.5 is : 0.8273\n",
      "Accuracy for C = 8.0 is : 0.8301\n",
      "Accuracy for C = 8.5 is : 0.8271\n",
      "Accuracy for C = 9.0 is : 0.8289\n",
      "Accuracy for C = 9.5 is : 0.8304\n",
      "Accuracy for C = 10.0 is : 0.8289\n",
      "Accuracy for C = 10.5 is : 0.8286\n",
      "Accuracy for C = 11.0 is : 0.8296\n",
      "Accuracy for C = 11.5 is : 0.8299\n",
      "Accuracy for C = 12.0 is : 0.8311\n",
      "Accuracy for C = 12.5 is : 0.8364\n",
      "Accuracy for C = 13.0 is : 0.8258\n",
      "Accuracy for C = 13.5 is : 0.8329\n",
      "Accuracy for C = 14.0 is : 0.8321\n",
      "Accuracy for C = 14.5 is : 0.8307\n",
      "Accuracy for C = 15.0 is : 0.8254\n",
      "Accuracy for C = 15.5 is : 0.8274\n",
      "Accuracy for C = 16.0 is : 0.8290\n",
      "Accuracy for C = 16.5 is : 0.8283\n",
      "Accuracy for C = 17.0 is : 0.8250\n",
      "Accuracy for C = 17.5 is : 0.8305\n",
      "Accuracy for C = 18.0 is : 0.8260\n",
      "Accuracy for C = 18.5 is : 0.8261\n",
      "Accuracy for C = 19.0 is : 0.8295\n",
      "Accuracy for C = 19.5 is : 0.8224\n",
      "Accuracy for C = 20.0 is : 0.8219\n",
      "Accuracy for C = 20.5 is : 0.8329\n",
      "Accuracy for C = 21.0 is : 0.8257\n",
      "Accuracy for C = 21.5 is : 0.8313\n",
      "Accuracy for C = 22.0 is : 0.8226\n",
      "Accuracy for C = 22.5 is : 0.8217\n",
      "Accuracy for C = 23.0 is : 0.8158\n",
      "Accuracy for C = 23.5 is : 0.8204\n",
      "Accuracy for C = 24.0 is : 0.8300\n",
      "Accuracy for C = 24.5 is : 0.8195\n",
      "Accuracy for C = 25.0 is : 0.8177\n",
      "Accuracy for C = 25.5 is : 0.8273\n"
     ]
    }
   ],
   "source": [
    "c = list(np.arange(1, 26, 0.5))\n",
    "accuracy = []\n",
    "y_predicted = np.zeros((y_test.shape))\n",
    "max_accuracy = 0.0\n",
    "linear_svm_classifier = LinearSVC()\n",
    "\n",
    "for i in c:\n",
    "    classifier = LinearSVC(C = i)\n",
    "    classifier.fit(X_train, y_train)\n",
    "    predicted_y = classifier.predict(X_test)\n",
    "    accuracy.append(np.mean(y_test==predicted_y))\n",
    "    print('Accuracy for C = {} is : {:.4f}'.format(i, accuracy[-1]))\n",
    "    if(accuracy[-1] > max_accuracy):\n",
    "        y_predicted = predicted_y\n",
    "        max_accuracy = accuracy[-1]\n",
    "        linear_svm_classifier = classifier"
   ]
  },
  {
   "cell_type": "code",
   "execution_count": 16,
   "metadata": {
    "scrolled": false
   },
   "outputs": [
    {
     "data": {
      "image/png": "[encoded data removed]",
      "text/plain": [
       "<Figure size 720x504 with 1 Axes>"
      ]
     },
     "metadata": {},
     "output_type": "display_data"
    }
   ],
   "source": [
    "plt.figure(figsize=(10,7))\n",
    "plt.plot(c, accuracy)\n",
    "plt.scatter(c, accuracy)\n",
    "plt.title('Accuracy vs C')\n",
    "plt.xlabel('C')\n",
    "plt.ylabel('Accuracy')\n",
    "plt.grid(True)\n",
    "plt.show()"
   ]
  },
  {
   "cell_type": "code",
   "execution_count": 17,
   "metadata": {
    "scrolled": false
   },
   "outputs": [
    {
     "name": "stdout",
     "output_type": "stream",
     "text": [
      "             precision    recall  f1-score   support\n",
      "\n",
      "          0       0.85      0.82      0.83     24085\n",
      "          1       0.83      0.85      0.84     23914\n",
      "\n",
      "avg / total       0.84      0.84      0.84     47999\n",
      "\n"
     ]
    }
   ],
   "source": [
    "print(classification_report(y_test,y_predicted))"
   ]
  },
  {
   "cell_type": "code",
   "execution_count": null,
   "metadata": {},
   "outputs": [],
   "source": [
    "from sklearn.model_selection import GridSearchCV\n",
    "from sklearn.model_selection import KFold,cross_val_score\n",
    "k_fold = KFold(n_splits=5)"
   ]
  },
  {
   "cell_type": "code",
   "execution_count": 18,
   "metadata": {
    "scrolled": false
   },
   "outputs": [
    {
     "data": {
      "text/plain": [
       "array([ 0.82046875,  0.57536173,  0.80533767,  0.6511141 ,  0.65498922])"
      ]
     },
     "execution_count": 18,
     "metadata": {},
     "output_type": "execute_result"
    }
   ],
   "source": [
    "cross_val_score(linear_svm_classifier,X,y,cv=k_fold,scoring='accuracy',n_jobs=-1)"
   ]
  },
  {
   "cell_type": "code",
   "execution_count": 35,
   "metadata": {
    "scrolled": false
   },
   "outputs": [],
   "source": [
    "# c = list(np.arange(0.1, 1.0, 0.050))\n",
    "# accuracy = []\n",
    "# y_predicted = np.zeros((y_test.shape))\n",
    "# max_accuracy = 0.0\n",
    "# linear_svm_classifier = LinearSVC()\n",
    "\n",
    "# for i in c:\n",
    "#     classifier = LinearSVC(C = i)\n",
    "#     classifier.fit(X_train, y_train)\n",
    "#     predicted_y = classifier.predict(X_test)\n",
    "#     accuracy.append(np.mean(y_test==predicted_y))\n",
    "#     print('Accuracy for C = {:.2f} is : {:.4f}'.format(i, accuracy[-1]))\n",
    "#     if(accuracy[-1] > max_accuracy):\n",
    "#         y_predicted = predicted_y\n",
    "#         max_accuracy = accuracy[-1]\n",
    "#         linear_svm_classifier = classifier\n",
    "        \n",
    "# Output:\n",
    "#     Accuracy for C = 0.10 is : 0.8139\n",
    "#     Accuracy for C = 0.15 is : 0.8139\n",
    "#     Accuracy for C = 0.20 is : 0.8146\n",
    "#     Accuracy for C = 0.25 is : 0.8149\n",
    "#     Accuracy for C = 0.30 is : 0.8150\n",
    "#     Accuracy for C = 0.35 is : 0.8150\n",
    "#     Accuracy for C = 0.40 is : 0.8152\n",
    "#     Accuracy for C = 0.45 is : 0.8158\n",
    "#     Accuracy for C = 0.50 is : 0.8157\n",
    "#     Accuracy for C = 0.55 is : 0.8162\n",
    "#     Accuracy for C = 0.60 is : 0.8161\n",
    "#     Accuracy for C = 0.65 is : 0.8169\n",
    "#     Accuracy for C = 0.70 is : 0.8169\n",
    "#     Accuracy for C = 0.75 is : 0.8176\n",
    "#     Accuracy for C = 0.80 is : 0.8179\n",
    "#     Accuracy for C = 0.85 is : 0.8156\n",
    "#     Accuracy for C = 0.90 is : 0.8178\n",
    "#     Accuracy for C = 0.95 is : 0.8187"
   ]
  },
  {
   "cell_type": "markdown",
   "metadata": {},
   "source": [
    "#### Using RBF kernel"
   ]
  },
  {
   "cell_type": "code",
   "execution_count": 15,
   "metadata": {
    "scrolled": false
   },
   "outputs": [],
   "source": [
    "from sklearn.svm import SVC"
   ]
  },
  {
   "cell_type": "code",
   "execution_count": 20,
   "metadata": {
    "scrolled": false
   },
   "outputs": [
    {
     "data": {
      "text/plain": [
       "SVC(C=1.0, cache_size=200, class_weight=None, coef0=0.0,\n",
       "  decision_function_shape='ovr', degree=3, gamma='auto', kernel='rbf',\n",
       "  max_iter=-1, probability=False, random_state=None, shrinking=True,\n",
       "  tol=0.001, verbose=False)"
      ]
     },
     "execution_count": 20,
     "metadata": {},
     "output_type": "execute_result"
    }
   ],
   "source": [
    "rbf_svm_classifier = SVC(kernel = 'rbf')\n",
    "rbf_svm_classifier.fit(X_train, y_train)"
   ]
  },
  {
   "cell_type": "code",
   "execution_count": 21,
   "metadata": {
    "scrolled": false
   },
   "outputs": [
    {
     "name": "stdout",
     "output_type": "stream",
     "text": [
      "Accuracy: 0.851246900977\n",
      "             precision    recall  f1-score   support\n",
      "\n",
      "          0       0.91      0.79      0.84     24085\n",
      "          1       0.81      0.92      0.86     23914\n",
      "\n",
      "avg / total       0.86      0.85      0.85     47999\n",
      "\n"
     ]
    }
   ],
   "source": [
    "predicted_y = rbf_svm_classifier.predict(X_test)\n",
    "print('Accuracy: ' + str(np.mean(y_test==predicted_y)))\n",
    "print(classification_report(y_test,predicted_y))"
   ]
  },
  {
   "cell_type": "code",
   "execution_count": 25,
   "metadata": {
    "scrolled": false
   },
   "outputs": [],
   "source": [
    "# cross_val_score(rbf_svm_classifier,X,y,cv=k_fold,scoring='accuracy',n_jobs=-1)"
   ]
  },
  {
   "cell_type": "code",
   "execution_count": 16,
   "metadata": {
    "scrolled": false
   },
   "outputs": [
    {
     "name": "stdout",
     "output_type": "stream",
     "text": [
      "Accuracy for C = 2.00 is : 0.8541\n",
      "Accuracy for C = 3.00 is : 0.8552\n",
      "Accuracy for C = 4.00 is : 0.8562\n",
      "Accuracy for C = 5.00 is : 0.8564\n",
      "Accuracy for C = 6.00 is : 0.8564\n",
      "Accuracy for C = 7.00 is : 0.8561\n",
      "Accuracy for C = 8.00 is : 0.8563\n",
      "Accuracy for C = 9.00 is : 0.8562\n",
      "Accuracy for C = 10.00 is : 0.8563\n",
      "Accuracy for C = 11.00 is : 0.8559\n",
      "Accuracy for C = 12.00 is : 0.8559\n",
      "Accuracy for C = 13.00 is : 0.8560\n",
      "Accuracy for C = 14.00 is : 0.8560\n"
     ]
    }
   ],
   "source": [
    "c_rbf = list(np.arange(2, 15))\n",
    "accuracy_rbf = []\n",
    "y_predicted = np.zeros((y_test.shape))\n",
    "max_accuracy_rbf = 0.0\n",
    "rbf_svm_classifier = SVC(kernel = 'rbf')\n",
    "\n",
    "for i in c_rbf:\n",
    "    classifier = SVC(kernel = 'rbf', C = i)\n",
    "    classifier.fit(X_train, y_train)\n",
    "    predicted_y = classifier.predict(X_test)\n",
    "    accuracy_rbf.append(np.mean(y_test==predicted_y))\n",
    "    print('Accuracy for C = {:.2f} is : {:.4f}'.format(i, accuracy_rbf[-1]))\n",
    "    if(accuracy_rbf[-1] > max_accuracy_rbf):\n",
    "        y_predicted = predicted_y\n",
    "        max_accuracy_rbf = accuracy_rbf[-1]\n",
    "        rbf_svm_classifier = classifier\n",
    "\n",
    "# There's not much difference in Accuracy when C differs by 0.5 \n",
    "# Accuracy for C = 1.50 is : 0.8533\n",
    "# Accuracy for C = 2.00 is : 0.8541\n",
    "# Accuracy for C = 2.50 is : 0.8550\n",
    "# Accuracy for C = 3.00 is : 0.8552\n",
    "# Accuracy for C = 3.50 is : 0.8557\n",
    "# Accuracy for C = 4.00 is : 0.8562\n",
    "# Accuracy for C = 4.50 is : 0.8564\n",
    "# Accuracy for C = 5.00 is : 0.8564\n",
    "# Accuracy for C = 5.50 is : 0.8563\n",
    "# Accuracy for C = 6.00 is : 0.8564\n",
    "# Accuracy for C = 6.50 is : 0.8564\n",
    "# Accuracy for C = 7.00 is : 0.8561"
   ]
  },
  {
   "cell_type": "code",
   "execution_count": 17,
   "metadata": {},
   "outputs": [
    {
     "data": {
      "image/png": "[encoded data removed]",
      "text/plain": [
       "<Figure size 720x504 with 1 Axes>"
      ]
     },
     "metadata": {},
     "output_type": "display_data"
    }
   ],
   "source": [
    "plt.figure(figsize=(10,7))\n",
    "plt.plot(c_rbf, accuracy_rbf)\n",
    "plt.scatter(c_rbf, accuracy_rbf)\n",
    "plt.title('Accuracy vs C')\n",
    "plt.xlabel('C')\n",
    "plt.ylabel('Accuracy')\n",
    "plt.grid(True)\n",
    "plt.show()"
   ]
  },
  {
   "cell_type": "code",
   "execution_count": 18,
   "metadata": {},
   "outputs": [
    {
     "name": "stdout",
     "output_type": "stream",
     "text": [
      "             precision    recall  f1-score   support\n",
      "\n",
      "          0       0.90      0.80      0.85     24085\n",
      "          1       0.82      0.91      0.86     23914\n",
      "\n",
      "avg / total       0.86      0.86      0.86     47999\n",
      "\n"
     ]
    }
   ],
   "source": [
    "print(classification_report(y_test,y_predicted))"
   ]
  },
  {
   "cell_type": "code",
   "execution_count": null,
   "metadata": {
    "scrolled": false
   },
   "outputs": [],
   "source": [
    "# tried different values for C but it's not worth the time spent\n",
    "\n",
    "# TODO\n",
    "# try different values of gamma \n",
    "# train on dataset having 40 columns"
   ]
  },
  {
   "cell_type": "markdown",
   "metadata": {},
   "source": [
    "#### Using poly kernel"
   ]
  },
  {
   "cell_type": "code",
   "execution_count": 26,
   "metadata": {
    "scrolled": false
   },
   "outputs": [
    {
     "data": {
      "text/plain": [
       "SVC(C=1.0, cache_size=200, class_weight=None, coef0=0.0,\n",
       "  decision_function_shape='ovr', degree=3, gamma='auto', kernel='poly',\n",
       "  max_iter=-1, probability=False, random_state=None, shrinking=True,\n",
       "  tol=0.001, verbose=False)"
      ]
     },
     "execution_count": 26,
     "metadata": {},
     "output_type": "execute_result"
    }
   ],
   "source": [
    "poly_svm_classifier = SVC(kernel = 'poly')\n",
    "poly_svm_classifier.fit(X_train, y_train)"
   ]
  },
  {
   "cell_type": "code",
   "execution_count": 27,
   "metadata": {
    "scrolled": false
   },
   "outputs": [
    {
     "name": "stdout",
     "output_type": "stream",
     "text": [
      "Accuracy: 0.820433759037\n",
      "             precision    recall  f1-score   support\n",
      "\n",
      "          0       0.87      0.75      0.81     24085\n",
      "          1       0.78      0.89      0.83     23914\n",
      "\n",
      "avg / total       0.83      0.82      0.82     47999\n",
      "\n"
     ]
    }
   ],
   "source": [
    "predicted_y = poly_svm_classifier.predict(X_test)\n",
    "print('Accuracy: ' + str(np.mean(y_test==predicted_y)))\n",
    "print(classification_report(y_test,predicted_y))"
   ]
  },
  {
   "cell_type": "code",
   "execution_count": 28,
   "metadata": {
    "scrolled": false
   },
   "outputs": [],
   "source": [
    "# cross_val_score(poly_svm_classifier,X,y,cv=k_fold,scoring='accuracy',n_jobs=-1)"
   ]
  },
  {
   "cell_type": "markdown",
   "metadata": {},
   "source": [
    "#### Using sigmoid kernel"
   ]
  },
  {
   "cell_type": "code",
   "execution_count": 29,
   "metadata": {
    "scrolled": false
   },
   "outputs": [
    {
     "data": {
      "text/plain": [
       "SVC(C=1.0, cache_size=200, class_weight=None, coef0=0.0,\n",
       "  decision_function_shape='ovr', degree=3, gamma='auto', kernel='sigmoid',\n",
       "  max_iter=-1, probability=False, random_state=None, shrinking=True,\n",
       "  tol=0.001, verbose=False)"
      ]
     },
     "execution_count": 29,
     "metadata": {},
     "output_type": "execute_result"
    }
   ],
   "source": [
    "sigmoid_svm_classifier = SVC(kernel = 'sigmoid')\n",
    "sigmoid_svm_classifier.fit(X_train, y_train)"
   ]
  },
  {
   "cell_type": "code",
   "execution_count": 30,
   "metadata": {
    "scrolled": false
   },
   "outputs": [
    {
     "name": "stdout",
     "output_type": "stream",
     "text": [
      "Accuracy: 0.697993708202\n",
      "             precision    recall  f1-score   support\n",
      "\n",
      "          0       0.70      0.70      0.70     24085\n",
      "          1       0.70      0.70      0.70     23914\n",
      "\n",
      "avg / total       0.70      0.70      0.70     47999\n",
      "\n"
     ]
    }
   ],
   "source": [
    "predicted_y = sigmoid_svm_classifier.predict(X_test)\n",
    "print('Accuracy: ' + str(np.mean(y_test==predicted_y)))\n",
    "print(classification_report(y_test,predicted_y))"
   ]
  }
 ],
 "metadata": {
  "kernelspec": {
   "display_name": "Python 3",
   "language": "python",
   "name": "python3"
  },
  "language_info": {
   "codemirror_mode": {
    "name": "ipython",
    "version": 3
   },
   "file_extension": ".py",
   "mimetype": "text/x-python",
   "name": "python",
   "nbconvert_exporter": "python",
   "pygments_lexer": "ipython3",
   "version": "3.6.5"
  }
 },
 "nbformat": 4,
 "nbformat_minor": 2
}
