{
 "cells": [
  {
   "cell_type": "markdown",
   "metadata": {},
   "source": [
    "### NORMALIZED TAG RATIO GRAPH"
   ]
  },
  {
   "cell_type": "code",
   "execution_count": 1,
   "metadata": {},
   "outputs": [],
   "source": [
    "import pandas as pd\n",
    "import matplotlib.pyplot as plt\n",
    "import numpy as np"
   ]
  },
  {
   "cell_type": "code",
   "execution_count": 2,
   "metadata": {},
   "outputs": [],
   "source": [
    "closeData=pd.read_csv(\"tagCount4Reasons.csv\") #4 reasons for closure(excluding duplicate)\n",
    "openData=pd.read_csv(\"tagWithOpenCount.csv\")"
   ]
  },
  {
   "cell_type": "code",
   "execution_count": 3,
   "metadata": {},
   "outputs": [
    {
     "data": {
      "text/plain": [
       "(20666, 3)"
      ]
     },
     "execution_count": 3,
     "metadata": {},
     "output_type": "execute_result"
    }
   ],
   "source": [
    "closeData.shape"
   ]
  },
  {
   "cell_type": "code",
   "execution_count": 4,
   "metadata": {},
   "outputs": [
    {
     "data": {
      "text/plain": [
       "(54126, 3)"
      ]
     },
     "execution_count": 4,
     "metadata": {},
     "output_type": "execute_result"
    }
   ],
   "source": [
    "openData.shape"
   ]
  },
  {
   "cell_type": "code",
   "execution_count": 5,
   "metadata": {},
   "outputs": [
    {
     "name": "stdout",
     "output_type": "stream",
     "text": [
      "   TagId  countOfQuesClosed     TagName  countOfQuesStillOpen\n",
      "0      1             4768.0        .net              263882.0\n",
      "1      2            18998.0        html              747022.0\n",
      "2      3            27528.0  javascript             1645699.0\n",
      "3      4            12759.0         css              535258.0\n",
      "4      5            29303.0         php             1160245.0\n",
      "(54158, 4)\n"
     ]
    }
   ],
   "source": [
    "tagWeightData=closeData.merge(openData,how=\"outer\")\n",
    "print(tagWeightData.head())\n",
    "print(tagWeightData.shape)"
   ]
  },
  {
   "cell_type": "code",
   "execution_count": 6,
   "metadata": {},
   "outputs": [
    {
     "data": {
      "text/html": [
       "<div>\n",
       "<style scoped>\n",
       "    .dataframe tbody tr th:only-of-type {\n",
       "        vertical-align: middle;\n",
       "    }\n",
       "\n",
       "    .dataframe tbody tr th {\n",
       "        vertical-align: top;\n",
       "    }\n",
       "\n",
       "    .dataframe thead th {\n",
       "        text-align: right;\n",
       "    }\n",
       "</style>\n",
       "<table border=\"1\" class=\"dataframe\">\n",
       "  <thead>\n",
       "    <tr style=\"text-align: right;\">\n",
       "      <th></th>\n",
       "      <th>TagId</th>\n",
       "      <th>countOfQuesClosed</th>\n",
       "      <th>TagName</th>\n",
       "      <th>countOfQuesStillOpen</th>\n",
       "    </tr>\n",
       "  </thead>\n",
       "  <tbody>\n",
       "    <tr>\n",
       "      <th>20666</th>\n",
       "      <td>26</td>\n",
       "      <td>NaN</td>\n",
       "      <td>j#</td>\n",
       "      <td>57.0</td>\n",
       "    </tr>\n",
       "  </tbody>\n",
       "</table>\n",
       "</div>"
      ],
      "text/plain": [
       "       TagId  countOfQuesClosed TagName  countOfQuesStillOpen\n",
       "20666     26                NaN      j#                  57.0"
      ]
     },
     "execution_count": 6,
     "metadata": {},
     "output_type": "execute_result"
    }
   ],
   "source": [
    "tagWeightData[tagWeightData['TagId']==26]"
   ]
  },
  {
   "cell_type": "code",
   "execution_count": 7,
   "metadata": {},
   "outputs": [],
   "source": [
    "tagWeightData.replace(np.nan,0,inplace=True)"
   ]
  },
  {
   "cell_type": "code",
   "execution_count": 8,
   "metadata": {},
   "outputs": [
    {
     "data": {
      "text/html": [
       "<div>\n",
       "<style scoped>\n",
       "    .dataframe tbody tr th:only-of-type {\n",
       "        vertical-align: middle;\n",
       "    }\n",
       "\n",
       "    .dataframe tbody tr th {\n",
       "        vertical-align: top;\n",
       "    }\n",
       "\n",
       "    .dataframe thead th {\n",
       "        text-align: right;\n",
       "    }\n",
       "</style>\n",
       "<table border=\"1\" class=\"dataframe\">\n",
       "  <thead>\n",
       "    <tr style=\"text-align: right;\">\n",
       "      <th></th>\n",
       "      <th>TagId</th>\n",
       "      <th>countOfQuesClosed</th>\n",
       "      <th>TagName</th>\n",
       "      <th>countOfQuesStillOpen</th>\n",
       "    </tr>\n",
       "  </thead>\n",
       "  <tbody>\n",
       "    <tr>\n",
       "      <th>20666</th>\n",
       "      <td>26</td>\n",
       "      <td>0.0</td>\n",
       "      <td>j#</td>\n",
       "      <td>57.0</td>\n",
       "    </tr>\n",
       "  </tbody>\n",
       "</table>\n",
       "</div>"
      ],
      "text/plain": [
       "       TagId  countOfQuesClosed TagName  countOfQuesStillOpen\n",
       "20666     26                0.0      j#                  57.0"
      ]
     },
     "execution_count": 8,
     "metadata": {},
     "output_type": "execute_result"
    }
   ],
   "source": [
    "tagWeightData[tagWeightData['TagId']==26]"
   ]
  },
  {
   "cell_type": "code",
   "execution_count": 9,
   "metadata": {},
   "outputs": [],
   "source": [
    "# tagWeightData['closeCountNorm']=tagWeightData['countOfQuesClosed']\n",
    "# #/np.sum(tagWeightData['countOfQuesClosed'])\n",
    "# tagWeightData['openCountNorm']=tagWeightData['countOfQuesStillOpen']\n",
    "# #/np.sum(tagWeightData['countOfQuesStillOpen'])\n",
    "#tagWeightData['tagWeight']=tagWeightData['countOfQuesClosed']/(tagWeightData['countOfQuesStillOpen']+1)\n",
    "\n",
    "\n",
    "tagWeightData['tagWeight']=0.0\n",
    "for lab,row in tagWeightData.iterrows():\n",
    "    c=tagWeightData.at[lab,'countOfQuesClosed']\n",
    "    o=tagWeightData.at[lab,'countOfQuesStillOpen']\n",
    "    if(c!=0 and o!=0):\n",
    "        tagWeightData.at[lab,'tagWeight']=c/o-o/c\n",
    "    elif(c==0):\n",
    "        tagWeightData.at[lab,'tagWeight']=-o\n",
    "    elif(o==0):\n",
    "        tagWeightData.at[lab,'tagWeight']=c\n",
    "    else:\n",
    "        tagWeightData.at[lab,'tagWeight']=0\n",
    "    #print(tagWeightData.at[lab,'tagWeight'])"
   ]
  },
  {
   "cell_type": "code",
   "execution_count": 10,
   "metadata": {},
   "outputs": [
    {
     "data": {
      "text/html": [
       "<div>\n",
       "<style scoped>\n",
       "    .dataframe tbody tr th:only-of-type {\n",
       "        vertical-align: middle;\n",
       "    }\n",
       "\n",
       "    .dataframe tbody tr th {\n",
       "        vertical-align: top;\n",
       "    }\n",
       "\n",
       "    .dataframe thead th {\n",
       "        text-align: right;\n",
       "    }\n",
       "</style>\n",
       "<table border=\"1\" class=\"dataframe\">\n",
       "  <thead>\n",
       "    <tr style=\"text-align: right;\">\n",
       "      <th></th>\n",
       "      <th>TagId</th>\n",
       "      <th>countOfQuesClosed</th>\n",
       "      <th>TagName</th>\n",
       "      <th>countOfQuesStillOpen</th>\n",
       "      <th>tagWeight</th>\n",
       "    </tr>\n",
       "  </thead>\n",
       "  <tbody>\n",
       "    <tr>\n",
       "      <th>0</th>\n",
       "      <td>1</td>\n",
       "      <td>4768.0</td>\n",
       "      <td>.net</td>\n",
       "      <td>263882.0</td>\n",
       "      <td>-55.326311</td>\n",
       "    </tr>\n",
       "    <tr>\n",
       "      <th>1</th>\n",
       "      <td>2</td>\n",
       "      <td>18998.0</td>\n",
       "      <td>html</td>\n",
       "      <td>747022.0</td>\n",
       "      <td>-39.295655</td>\n",
       "    </tr>\n",
       "    <tr>\n",
       "      <th>2</th>\n",
       "      <td>3</td>\n",
       "      <td>27528.0</td>\n",
       "      <td>javascript</td>\n",
       "      <td>1645699.0</td>\n",
       "      <td>-59.766003</td>\n",
       "    </tr>\n",
       "    <tr>\n",
       "      <th>3</th>\n",
       "      <td>4</td>\n",
       "      <td>12759.0</td>\n",
       "      <td>css</td>\n",
       "      <td>535258.0</td>\n",
       "      <td>-41.927570</td>\n",
       "    </tr>\n",
       "    <tr>\n",
       "      <th>4</th>\n",
       "      <td>5</td>\n",
       "      <td>29303.0</td>\n",
       "      <td>php</td>\n",
       "      <td>1160245.0</td>\n",
       "      <td>-39.569496</td>\n",
       "    </tr>\n",
       "  </tbody>\n",
       "</table>\n",
       "</div>"
      ],
      "text/plain": [
       "   TagId  countOfQuesClosed     TagName  countOfQuesStillOpen  tagWeight\n",
       "0      1             4768.0        .net              263882.0 -55.326311\n",
       "1      2            18998.0        html              747022.0 -39.295655\n",
       "2      3            27528.0  javascript             1645699.0 -59.766003\n",
       "3      4            12759.0         css              535258.0 -41.927570\n",
       "4      5            29303.0         php             1160245.0 -39.569496"
      ]
     },
     "execution_count": 10,
     "metadata": {},
     "output_type": "execute_result"
    }
   ],
   "source": [
    "tagWeightData.head()"
   ]
  },
  {
   "cell_type": "code",
   "execution_count": 11,
   "metadata": {},
   "outputs": [
    {
     "name": "stdout",
     "output_type": "stream",
     "text": [
      "        TagId  countOfQuesClosed                    TagName  \\\n",
      "1645     3871              274.0                        gpl   \n",
      "1730     4089              102.0                       lgpl   \n",
      "18358  111007               42.0              rosetta-stone   \n",
      "3743     9968               20.0                    godaddy   \n",
      "232       474               30.0                   freeware   \n",
      "13885   73861                9.0                   tool-rec   \n",
      "4247    11638                5.0                 beautifier   \n",
      "1713     4061                4.0               publicdomain   \n",
      "3821    10219                4.0  personal-software-process   \n",
      "245       508              749.0                      agile   \n",
      "\n",
      "       countOfQuesStillOpen   tagWeight  \n",
      "1645                    0.0  274.000000  \n",
      "1730                    0.0  102.000000  \n",
      "18358                   0.0   42.000000  \n",
      "3743                    0.0   20.000000  \n",
      "232                     3.0    9.900000  \n",
      "13885                   0.0    9.000000  \n",
      "4247                    0.0    5.000000  \n",
      "1713                    1.0    3.750000  \n",
      "3821                    1.0    3.750000  \n",
      "245                   225.0    3.028488  \n"
     ]
    }
   ],
   "source": [
    "tagWeightData.sort_values(by=['tagWeight'],ascending=False,inplace=True)\n",
    "print(tagWeightData.iloc[0:10])"
   ]
  },
  {
   "cell_type": "code",
   "execution_count": 12,
   "metadata": {},
   "outputs": [
    {
     "name": "stdout",
     "output_type": "stream",
     "text": [
      "[274.         102.          42.          20.           9.9\n",
      "   9.           5.           3.75         3.75         3.02848835\n",
      "   3.           2.66666667   2.66666667   2.           2.\n",
      "   2.           2.           1.94002618   1.56219512   1.5\n",
      "   1.5          1.49120645   1.36991022   1.           1.        ]\n",
      "<class 'numpy.ndarray'>\n",
      "(25,)\n"
     ]
    }
   ],
   "source": [
    "top=25\n",
    "labels=tagWeightData['TagName'].iloc[0:top]\n",
    "#print(labels)\n",
    "indices=[i for i in range(1,top+1)]\n",
    "#print(indices)\n",
    "ratios=np.array(tagWeightData['tagWeight'].iloc[0:top] )\n",
    "#from sklearn.preprocessing import scale\n",
    "#ratios=scale(ratios)\n",
    "print(ratios)\n",
    "print(type(ratios))\n",
    "print(ratios.shape)"
   ]
  },
  {
   "cell_type": "code",
   "execution_count": 13,
   "metadata": {},
   "outputs": [
    {
     "data": {
      "image/png": "[encoded data removed]",
      "text/plain": [
       "<Figure size 864x432 with 1 Axes>"
      ]
     },
     "metadata": {},
     "output_type": "display_data"
    }
   ],
   "source": [
    "plt.figure(figsize=(12, 6))\n",
    "plt.bar(indices,ratios,align='center')\n",
    "plt.ylabel(\"Log of tag Weight\")\n",
    "plt.xticks(indices, labels)\n",
    "plt.xticks(rotation=90)\n",
    "plt.title(\"Tags with top \"+str(top)+\" Tag Weight\")\n",
    "plt.yscale('log')\n",
    "plt.show()\n",
    "#plt.savefig('D:\\SAJAL\\\\foo.png')"
   ]
  },
  {
   "cell_type": "code",
   "execution_count": 14,
   "metadata": {},
   "outputs": [],
   "source": [
    "# These tags are very different from the most popular tags and includes tags which have a very high chance of getting closed\n",
    "# 'gpl', 'lgpl' are off topic\n",
    "# 'godaddy' is going to be removed from Stack overflow tags\n",
    "# "
   ]
  },
  {
   "cell_type": "markdown",
   "metadata": {},
   "source": [
    "### TagWeight method used for feature creation"
   ]
  },
  {
   "cell_type": "code",
   "execution_count": 15,
   "metadata": {},
   "outputs": [],
   "source": [
    "import re\n",
    "def calculateTagWeight(tags):\n",
    "    forClosed=re.findall('<(.*?)>',tags)\n",
    "    forOpen=tags.split('|')\n",
    "    #print(forClosed)\n",
    "    #print(forOpen)\n",
    "    if(len(forClosed) ):  #if we pass tags for open in close it won't work, but vice versa will work hence \n",
    "        # this particular order of if-else \n",
    "        tagList=forClosed\n",
    "    elif(len(forOpen) ):\n",
    "        tagList=forOpen\n",
    "    #print(tagList)\n",
    "    wt=0\n",
    "#     for t in tagList:\n",
    "#         #print(t)\n",
    "#         try:\n",
    "            \n",
    "#         except:\n",
    "#             print(t)\n",
    "#         print(wt)\n",
    "#     print(\"check\")\n",
    "    try:\n",
    "        for t in tagList:\n",
    "            wt=wt+tagWeightData[tagWeightData['TagName']==t][['tagWeight']].values[0]\n",
    "    except:\n",
    "        #print(tagList)\n",
    "        pass\n",
    "    return wt"
   ]
  },
  {
   "cell_type": "code",
   "execution_count": 16,
   "metadata": {},
   "outputs": [
    {
     "name": "stdout",
     "output_type": "stream",
     "text": [
      "open tags\n",
      "[-207.16103078]\n",
      "[-31.03160177]\n",
      "\n",
      "closed tags\n",
      "[-194.98506738]\n",
      "[-70.53749593]\n"
     ]
    }
   ],
   "source": [
    "print(\"open tags\")\n",
    "print(calculateTagWeight(\"<javascript><html><arrays><tags>\"))\n",
    "print(calculateTagWeight(\"c++\"))\n",
    "\n",
    "print(\"\\nclosed tags\")\n",
    "print(calculateTagWeight(\"<java><multithreading><garbage-collection>\")) \n",
    "print(calculateTagWeight(\"<jquery>\"))"
   ]
  },
  {
   "cell_type": "code",
   "execution_count": 35,
   "metadata": {},
   "outputs": [
    {
     "data": {
      "text/plain": [
       "array([-71.81941222])"
      ]
     },
     "execution_count": 35,
     "metadata": {},
     "output_type": "execute_result"
    }
   ],
   "source": [
    "#Error because php-mail is unavailable in tag list\n",
    "#tagWeightData[tagWeightData['TagName']==\"php-mail\"][['tagWeight']].values[0]\n",
    "tagWeightData[tagWeightData['TagName']==\"directory\"][['tagWeight']].values[0]"
   ]
  },
  {
   "cell_type": "code",
   "execution_count": 25,
   "metadata": {},
   "outputs": [
    {
     "data": {
      "text/plain": [
       "-207.16103076999997"
      ]
     },
     "execution_count": 25,
     "metadata": {},
     "output_type": "execute_result"
    }
   ],
   "source": [
    "-59.76600307-39.29565478-37.51353723-70.58583569"
   ]
  },
  {
   "cell_type": "code",
   "execution_count": 19,
   "metadata": {},
   "outputs": [],
   "source": [
    "tagWeightData.to_csv(\"tagWeightData.csv\")"
   ]
  },
  {
   "cell_type": "code",
   "execution_count": 20,
   "metadata": {},
   "outputs": [],
   "source": [
    "# one problem with tag weights is there are synonyms available for some tags and hence tag weight are not properly calculated\n",
    "# for those similar tags \n",
    "# https://stackoverflow.com/tags/macos/synonyms"
   ]
  },
  {
   "cell_type": "code",
   "execution_count": null,
   "metadata": {},
   "outputs": [],
   "source": []
  },
  {
   "cell_type": "code",
   "execution_count": null,
   "metadata": {},
   "outputs": [],
   "source": []
  }
 ],
 "metadata": {
  "kernelspec": {
   "display_name": "Python 3",
   "language": "python",
   "name": "python3"
  },
  "language_info": {
   "codemirror_mode": {
    "name": "ipython",
    "version": 3
   },
   "file_extension": ".py",
   "mimetype": "text/x-python",
   "name": "python",
   "nbconvert_exporter": "python",
   "pygments_lexer": "ipython3",
   "version": "3.6.5"
  }
 },
 "nbformat": 4,
 "nbformat_minor": 2
}
